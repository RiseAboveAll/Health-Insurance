{
  "nbformat": 4,
  "nbformat_minor": 0,
  "metadata": {
    "kernelspec": {
      "display_name": "Python 3",
      "language": "python",
      "name": "python3"
    },
    "language_info": {
      "codemirror_mode": {
        "name": "ipython",
        "version": 3
      },
      "file_extension": ".py",
      "mimetype": "text/x-python",
      "name": "python",
      "nbconvert_exporter": "python",
      "pygments_lexer": "ipython3",
      "version": "3.8.5"
    },
    "colab": {
      "name": "HealthLeadPrediction.ipynb",
      "provenance": [],
      "include_colab_link": true
    }
  },
  "cells": [
    {
      "cell_type": "markdown",
      "metadata": {
        "id": "view-in-github",
        "colab_type": "text"
      },
      "source": [
        "<a href=\"https://colab.research.google.com/github/RiseAboveAll/Health-Insurance/blob/main/HealthLeadPrediction.ipynb\" target=\"_parent\"><img src=\"https://colab.research.google.com/assets/colab-badge.svg\" alt=\"Open In Colab\"/></a>"
      ]
    },
    {
      "cell_type": "markdown",
      "metadata": {
        "id": "cKro8YM-PzGk"
      },
      "source": [
        "<h1>Health Insurance Lead Prediction</h1>\n",
        "<body>\n",
        "    \n",
        "Your Client FinMan is a financial services company that provides various financial services like loan, investment funds, insurance etc. to its customers. FinMan wishes to cross-sell health insurance to the existing customers who may or may not hold insurance policies with the company. The company recommend health insurance to it's customers based on their profile once these customers land on the website. Customers might browse the recommended health insurance policy and consequently fill up a form to apply. When these customers fill-up the form, their Response towards the policy is considered positive and they are classified as a lead.\n",
        "\n",
        "Once these leads are acquired, the sales advisors approach them to convert and thus the company can sell proposed health insurance to these leads in a more efficient manner.\n",
        "\n",
        "Now the company needs your help in building a model to predict whether the person will be interested in their proposed Health plan/policy\n",
        "    \n",
        "</body>"
      ]
    },
    {
      "cell_type": "code",
      "metadata": {
        "id": "FFO-93hgPzGo"
      },
      "source": [
        "!pip install lightgbm"
      ],
      "execution_count": null,
      "outputs": []
    },
    {
      "cell_type": "code",
      "metadata": {
        "id": "Pmpe4QJNPzGp"
      },
      "source": [
        "from lightgbm import LGBMClassifier\n",
        "import lightgbm as lgb"
      ],
      "execution_count": null,
      "outputs": []
    },
    {
      "cell_type": "code",
      "metadata": {
        "id": "SkiIRIWmPzGq"
      },
      "source": [
        "try:\n",
        "    # To enable interactive mode you should install ipywidgets\n",
        "    # https://github.com/jupyter-widgets/ipywidgets\n",
        "    from ipywidgets import interact, SelectMultiple\n",
        "    INTERACTIVE = True\n",
        "except ImportError:\n",
        "    INTERACTIVE = False"
      ],
      "execution_count": null,
      "outputs": []
    },
    {
      "cell_type": "code",
      "metadata": {
        "id": "ptD1T-b0PzGq"
      },
      "source": [
        "import pandas as pd \n",
        "import numpy as np\n",
        "import matplotlib.pyplot as plt\n",
        "import seaborn as sns\n",
        "from sklearn.preprocessing import LabelEncoder,normalize,Normalizer,StandardScaler\n",
        "from sklearn.model_selection import train_test_split as tts\n",
        "from tqdm import tqdm\n",
        "from sklearn.model_selection import StratifiedKFold\n",
        "from sklearn.metrics import roc_auc_score\n",
        "import re"
      ],
      "execution_count": null,
      "outputs": []
    },
    {
      "cell_type": "code",
      "metadata": {
        "id": "svjnipSOPzGr"
      },
      "source": [
        "pd.set_option('display.max_columns',500)"
      ],
      "execution_count": null,
      "outputs": []
    },
    {
      "cell_type": "code",
      "metadata": {
        "id": "dCd6kXbHPzGs"
      },
      "source": [
        "train_Data=pd.read_csv('train.csv')\n",
        "test_Data=pd.read_csv('test.csv')"
      ],
      "execution_count": null,
      "outputs": []
    },
    {
      "cell_type": "code",
      "metadata": {
        "id": "eU2Ug2oIPzGs",
        "outputId": "e08aa4fc-eb0d-46f4-e2a0-0ed5b081ead8"
      },
      "source": [
        "train_Data.head()"
      ],
      "execution_count": null,
      "outputs": [
        {
          "output_type": "execute_result",
          "data": {
            "text/html": [
              "<div>\n",
              "<style scoped>\n",
              "    .dataframe tbody tr th:only-of-type {\n",
              "        vertical-align: middle;\n",
              "    }\n",
              "\n",
              "    .dataframe tbody tr th {\n",
              "        vertical-align: top;\n",
              "    }\n",
              "\n",
              "    .dataframe thead th {\n",
              "        text-align: right;\n",
              "    }\n",
              "</style>\n",
              "<table border=\"1\" class=\"dataframe\">\n",
              "  <thead>\n",
              "    <tr style=\"text-align: right;\">\n",
              "      <th></th>\n",
              "      <th>ID</th>\n",
              "      <th>City_Code</th>\n",
              "      <th>Region_Code</th>\n",
              "      <th>Accomodation_Type</th>\n",
              "      <th>Reco_Insurance_Type</th>\n",
              "      <th>Upper_Age</th>\n",
              "      <th>Lower_Age</th>\n",
              "      <th>Is_Spouse</th>\n",
              "      <th>Health Indicator</th>\n",
              "      <th>Holding_Policy_Duration</th>\n",
              "      <th>Holding_Policy_Type</th>\n",
              "      <th>Reco_Policy_Cat</th>\n",
              "      <th>Reco_Policy_Premium</th>\n",
              "      <th>Response</th>\n",
              "    </tr>\n",
              "  </thead>\n",
              "  <tbody>\n",
              "    <tr>\n",
              "      <th>0</th>\n",
              "      <td>1</td>\n",
              "      <td>C3</td>\n",
              "      <td>3213</td>\n",
              "      <td>Rented</td>\n",
              "      <td>Individual</td>\n",
              "      <td>36</td>\n",
              "      <td>36</td>\n",
              "      <td>No</td>\n",
              "      <td>X1</td>\n",
              "      <td>14+</td>\n",
              "      <td>3.0</td>\n",
              "      <td>22</td>\n",
              "      <td>11628.0</td>\n",
              "      <td>0</td>\n",
              "    </tr>\n",
              "    <tr>\n",
              "      <th>1</th>\n",
              "      <td>2</td>\n",
              "      <td>C5</td>\n",
              "      <td>1117</td>\n",
              "      <td>Owned</td>\n",
              "      <td>Joint</td>\n",
              "      <td>75</td>\n",
              "      <td>22</td>\n",
              "      <td>No</td>\n",
              "      <td>X2</td>\n",
              "      <td>NaN</td>\n",
              "      <td>NaN</td>\n",
              "      <td>22</td>\n",
              "      <td>30510.0</td>\n",
              "      <td>0</td>\n",
              "    </tr>\n",
              "    <tr>\n",
              "      <th>2</th>\n",
              "      <td>3</td>\n",
              "      <td>C5</td>\n",
              "      <td>3732</td>\n",
              "      <td>Owned</td>\n",
              "      <td>Individual</td>\n",
              "      <td>32</td>\n",
              "      <td>32</td>\n",
              "      <td>No</td>\n",
              "      <td>NaN</td>\n",
              "      <td>1.0</td>\n",
              "      <td>1.0</td>\n",
              "      <td>19</td>\n",
              "      <td>7450.0</td>\n",
              "      <td>1</td>\n",
              "    </tr>\n",
              "    <tr>\n",
              "      <th>3</th>\n",
              "      <td>4</td>\n",
              "      <td>C24</td>\n",
              "      <td>4378</td>\n",
              "      <td>Owned</td>\n",
              "      <td>Joint</td>\n",
              "      <td>52</td>\n",
              "      <td>48</td>\n",
              "      <td>No</td>\n",
              "      <td>X1</td>\n",
              "      <td>14+</td>\n",
              "      <td>3.0</td>\n",
              "      <td>19</td>\n",
              "      <td>17780.0</td>\n",
              "      <td>0</td>\n",
              "    </tr>\n",
              "    <tr>\n",
              "      <th>4</th>\n",
              "      <td>5</td>\n",
              "      <td>C8</td>\n",
              "      <td>2190</td>\n",
              "      <td>Rented</td>\n",
              "      <td>Individual</td>\n",
              "      <td>44</td>\n",
              "      <td>44</td>\n",
              "      <td>No</td>\n",
              "      <td>X2</td>\n",
              "      <td>3.0</td>\n",
              "      <td>1.0</td>\n",
              "      <td>16</td>\n",
              "      <td>10404.0</td>\n",
              "      <td>0</td>\n",
              "    </tr>\n",
              "  </tbody>\n",
              "</table>\n",
              "</div>"
            ],
            "text/plain": [
              "   ID City_Code  Region_Code Accomodation_Type Reco_Insurance_Type  Upper_Age  \\\n",
              "0   1        C3         3213            Rented          Individual         36   \n",
              "1   2        C5         1117             Owned               Joint         75   \n",
              "2   3        C5         3732             Owned          Individual         32   \n",
              "3   4       C24         4378             Owned               Joint         52   \n",
              "4   5        C8         2190            Rented          Individual         44   \n",
              "\n",
              "   Lower_Age Is_Spouse Health Indicator Holding_Policy_Duration  \\\n",
              "0         36        No               X1                     14+   \n",
              "1         22        No               X2                     NaN   \n",
              "2         32        No              NaN                     1.0   \n",
              "3         48        No               X1                     14+   \n",
              "4         44        No               X2                     3.0   \n",
              "\n",
              "   Holding_Policy_Type  Reco_Policy_Cat  Reco_Policy_Premium  Response  \n",
              "0                  3.0               22              11628.0         0  \n",
              "1                  NaN               22              30510.0         0  \n",
              "2                  1.0               19               7450.0         1  \n",
              "3                  3.0               19              17780.0         0  \n",
              "4                  1.0               16              10404.0         0  "
            ]
          },
          "metadata": {
            "tags": []
          },
          "execution_count": 6
        }
      ]
    },
    {
      "cell_type": "code",
      "metadata": {
        "id": "La2izZ3TPzGt"
      },
      "source": [
        "train_Data['is_Train']=1\n",
        "test_Data['is_Train']=0\n",
        "concat_Data=pd.concat([train_Data,test_Data],axis=0)"
      ],
      "execution_count": null,
      "outputs": []
    },
    {
      "cell_type": "code",
      "metadata": {
        "id": "hSjNVlCnPzGt",
        "outputId": "48b0c887-b8e1-4cf7-c6c1-180711952226"
      },
      "source": [
        "concat_Data.head()"
      ],
      "execution_count": null,
      "outputs": [
        {
          "output_type": "execute_result",
          "data": {
            "text/html": [
              "<div>\n",
              "<style scoped>\n",
              "    .dataframe tbody tr th:only-of-type {\n",
              "        vertical-align: middle;\n",
              "    }\n",
              "\n",
              "    .dataframe tbody tr th {\n",
              "        vertical-align: top;\n",
              "    }\n",
              "\n",
              "    .dataframe thead th {\n",
              "        text-align: right;\n",
              "    }\n",
              "</style>\n",
              "<table border=\"1\" class=\"dataframe\">\n",
              "  <thead>\n",
              "    <tr style=\"text-align: right;\">\n",
              "      <th></th>\n",
              "      <th>ID</th>\n",
              "      <th>City_Code</th>\n",
              "      <th>Region_Code</th>\n",
              "      <th>Accomodation_Type</th>\n",
              "      <th>Reco_Insurance_Type</th>\n",
              "      <th>Upper_Age</th>\n",
              "      <th>Lower_Age</th>\n",
              "      <th>Is_Spouse</th>\n",
              "      <th>Health Indicator</th>\n",
              "      <th>Holding_Policy_Duration</th>\n",
              "      <th>Holding_Policy_Type</th>\n",
              "      <th>Reco_Policy_Cat</th>\n",
              "      <th>Reco_Policy_Premium</th>\n",
              "      <th>Response</th>\n",
              "      <th>is_Train</th>\n",
              "    </tr>\n",
              "  </thead>\n",
              "  <tbody>\n",
              "    <tr>\n",
              "      <th>0</th>\n",
              "      <td>1</td>\n",
              "      <td>C3</td>\n",
              "      <td>3213</td>\n",
              "      <td>Rented</td>\n",
              "      <td>Individual</td>\n",
              "      <td>36</td>\n",
              "      <td>36</td>\n",
              "      <td>No</td>\n",
              "      <td>X1</td>\n",
              "      <td>14+</td>\n",
              "      <td>3.0</td>\n",
              "      <td>22</td>\n",
              "      <td>11628.0</td>\n",
              "      <td>0.0</td>\n",
              "      <td>1</td>\n",
              "    </tr>\n",
              "    <tr>\n",
              "      <th>1</th>\n",
              "      <td>2</td>\n",
              "      <td>C5</td>\n",
              "      <td>1117</td>\n",
              "      <td>Owned</td>\n",
              "      <td>Joint</td>\n",
              "      <td>75</td>\n",
              "      <td>22</td>\n",
              "      <td>No</td>\n",
              "      <td>X2</td>\n",
              "      <td>NaN</td>\n",
              "      <td>NaN</td>\n",
              "      <td>22</td>\n",
              "      <td>30510.0</td>\n",
              "      <td>0.0</td>\n",
              "      <td>1</td>\n",
              "    </tr>\n",
              "    <tr>\n",
              "      <th>2</th>\n",
              "      <td>3</td>\n",
              "      <td>C5</td>\n",
              "      <td>3732</td>\n",
              "      <td>Owned</td>\n",
              "      <td>Individual</td>\n",
              "      <td>32</td>\n",
              "      <td>32</td>\n",
              "      <td>No</td>\n",
              "      <td>NaN</td>\n",
              "      <td>1.0</td>\n",
              "      <td>1.0</td>\n",
              "      <td>19</td>\n",
              "      <td>7450.0</td>\n",
              "      <td>1.0</td>\n",
              "      <td>1</td>\n",
              "    </tr>\n",
              "    <tr>\n",
              "      <th>3</th>\n",
              "      <td>4</td>\n",
              "      <td>C24</td>\n",
              "      <td>4378</td>\n",
              "      <td>Owned</td>\n",
              "      <td>Joint</td>\n",
              "      <td>52</td>\n",
              "      <td>48</td>\n",
              "      <td>No</td>\n",
              "      <td>X1</td>\n",
              "      <td>14+</td>\n",
              "      <td>3.0</td>\n",
              "      <td>19</td>\n",
              "      <td>17780.0</td>\n",
              "      <td>0.0</td>\n",
              "      <td>1</td>\n",
              "    </tr>\n",
              "    <tr>\n",
              "      <th>4</th>\n",
              "      <td>5</td>\n",
              "      <td>C8</td>\n",
              "      <td>2190</td>\n",
              "      <td>Rented</td>\n",
              "      <td>Individual</td>\n",
              "      <td>44</td>\n",
              "      <td>44</td>\n",
              "      <td>No</td>\n",
              "      <td>X2</td>\n",
              "      <td>3.0</td>\n",
              "      <td>1.0</td>\n",
              "      <td>16</td>\n",
              "      <td>10404.0</td>\n",
              "      <td>0.0</td>\n",
              "      <td>1</td>\n",
              "    </tr>\n",
              "  </tbody>\n",
              "</table>\n",
              "</div>"
            ],
            "text/plain": [
              "   ID City_Code  Region_Code Accomodation_Type Reco_Insurance_Type  Upper_Age  \\\n",
              "0   1        C3         3213            Rented          Individual         36   \n",
              "1   2        C5         1117             Owned               Joint         75   \n",
              "2   3        C5         3732             Owned          Individual         32   \n",
              "3   4       C24         4378             Owned               Joint         52   \n",
              "4   5        C8         2190            Rented          Individual         44   \n",
              "\n",
              "   Lower_Age Is_Spouse Health Indicator Holding_Policy_Duration  \\\n",
              "0         36        No               X1                     14+   \n",
              "1         22        No               X2                     NaN   \n",
              "2         32        No              NaN                     1.0   \n",
              "3         48        No               X1                     14+   \n",
              "4         44        No               X2                     3.0   \n",
              "\n",
              "   Holding_Policy_Type  Reco_Policy_Cat  Reco_Policy_Premium  Response  \\\n",
              "0                  3.0               22              11628.0       0.0   \n",
              "1                  NaN               22              30510.0       0.0   \n",
              "2                  1.0               19               7450.0       1.0   \n",
              "3                  3.0               19              17780.0       0.0   \n",
              "4                  1.0               16              10404.0       0.0   \n",
              "\n",
              "   is_Train  \n",
              "0         1  \n",
              "1         1  \n",
              "2         1  \n",
              "3         1  \n",
              "4         1  "
            ]
          },
          "metadata": {
            "tags": []
          },
          "execution_count": 8
        }
      ]
    },
    {
      "cell_type": "code",
      "metadata": {
        "id": "vO_XJlfmPzGu",
        "outputId": "75c0b11a-131b-4efa-d62a-f5aa61a1e2a7"
      },
      "source": [
        "concat_Data['is_Train'].value_counts()"
      ],
      "execution_count": null,
      "outputs": [
        {
          "output_type": "execute_result",
          "data": {
            "text/plain": [
              "1    50882\n",
              "0    21805\n",
              "Name: is_Train, dtype: int64"
            ]
          },
          "metadata": {
            "tags": []
          },
          "execution_count": 9
        }
      ]
    },
    {
      "cell_type": "code",
      "metadata": {
        "id": "Se79FTdbPzGu",
        "outputId": "245856ab-81f1-4047-a895-ccd8e2468f6a"
      },
      "source": [
        "concat_Data.dtypes"
      ],
      "execution_count": null,
      "outputs": [
        {
          "output_type": "execute_result",
          "data": {
            "text/plain": [
              "ID                           int64\n",
              "City_Code                   object\n",
              "Region_Code                  int64\n",
              "Accomodation_Type           object\n",
              "Reco_Insurance_Type         object\n",
              "Upper_Age                    int64\n",
              "Lower_Age                    int64\n",
              "Is_Spouse                   object\n",
              "Health Indicator            object\n",
              "Holding_Policy_Duration     object\n",
              "Holding_Policy_Type        float64\n",
              "Reco_Policy_Cat              int64\n",
              "Reco_Policy_Premium        float64\n",
              "Response                   float64\n",
              "is_Train                     int64\n",
              "dtype: object"
            ]
          },
          "metadata": {
            "tags": []
          },
          "execution_count": 10
        }
      ]
    },
    {
      "cell_type": "markdown",
      "metadata": {
        "id": "GdkNmEaGPzGu"
      },
      "source": [
        "### Pre-Processing"
      ]
    },
    {
      "cell_type": "markdown",
      "metadata": {
        "id": "fLIGCqZTPzGv"
      },
      "source": [
        "#### Treating Anomalies"
      ]
    },
    {
      "cell_type": "code",
      "metadata": {
        "id": "woXpgXuxPzGv",
        "outputId": "2ab48994-d5da-4232-cf74-ca23fc21a12a"
      },
      "source": [
        "concat_Data['Holding_Policy_Duration'].value_counts()"
      ],
      "execution_count": null,
      "outputs": [
        {
          "output_type": "execute_result",
          "data": {
            "text/plain": [
              "1.0     6390\n",
              "14+     6227\n",
              "2.0     6032\n",
              "3.0     5192\n",
              "4.0     3976\n",
              "5.0     3354\n",
              "6.0     2797\n",
              "7.0     2309\n",
              "8.0     1885\n",
              "9.0     1607\n",
              "10.0    1146\n",
              "11.0     800\n",
              "13.0     732\n",
              "12.0     709\n",
              "14.0     677\n",
              "Name: Holding_Policy_Duration, dtype: int64"
            ]
          },
          "metadata": {
            "tags": []
          },
          "execution_count": 11
        }
      ]
    },
    {
      "cell_type": "markdown",
      "metadata": {
        "id": "Pgfjfi6fPzGw"
      },
      "source": [
        "As we can see a string value 14+ in the holding policy duration column which means duration of policy is 14 and more , it need to be treated "
      ]
    },
    {
      "cell_type": "code",
      "metadata": {
        "id": "I0ymtZfVPzGw"
      },
      "source": [
        "concat_Data['Holding_Policy_Duration'].replace({'14+':14.0},inplace=True)"
      ],
      "execution_count": null,
      "outputs": []
    },
    {
      "cell_type": "code",
      "metadata": {
        "id": "volVNA0bPzGx",
        "outputId": "0648fe5d-3ad4-44ab-8aa7-82550ba08974"
      },
      "source": [
        "concat_Data.isna().sum()[concat_Data.isna().any()>0]/concat_Data.shape[0]"
      ],
      "execution_count": null,
      "outputs": [
        {
          "output_type": "execute_result",
          "data": {
            "text/plain": [
              "Health Indicator           0.230000\n",
              "Holding_Policy_Duration    0.396962\n",
              "Holding_Policy_Type        0.396962\n",
              "Response                   0.299985\n",
              "dtype: float64"
            ]
          },
          "metadata": {
            "tags": []
          },
          "execution_count": 13
        }
      ]
    },
    {
      "cell_type": "markdown",
      "metadata": {
        "id": "55Yn1l3BPzGy"
      },
      "source": [
        "Apart from Response variable we need to treat rest other variable for missing values. \n",
        "\n",
        "    -Health Indicateor : String Categorical\n",
        "    -Holding Policy Duration : Num Categorical (impute with negative high number so that information is not lost and algorithm knows that there lies pattern of missing values)\n",
        "    -Holding Policy Type : Num Categorical  (impute with negative high number so that information is not lost and algorithm knows that there lies pattern of missing values)"
      ]
    },
    {
      "cell_type": "code",
      "metadata": {
        "id": "szAmVk40PzGz"
      },
      "source": [
        "def missing_treatment(df,x,type_Operation):\n",
        "    if type_Operation == \"Categorical\" or type_Operation == \"categorical\":\n",
        "        return df[x].fillna(df[x].mode(dropna=True)[0],inplace=True)\n",
        "    elif type_Operation == 'Numeric' or type_Operation =='numeric':\n",
        "        return df[x].fillna(-999.0,inplace=True)\n",
        "    "
      ],
      "execution_count": null,
      "outputs": []
    },
    {
      "cell_type": "code",
      "metadata": {
        "id": "ziITskbVPzG0"
      },
      "source": [
        "na_col=concat_Data.isna().sum()[concat_Data.isna().any()>0].index[:3].values"
      ],
      "execution_count": null,
      "outputs": []
    },
    {
      "cell_type": "code",
      "metadata": {
        "id": "qSO-ifmCPzG0",
        "outputId": "9a2f3947-4d52-4b0a-cbba-53a103896b9c"
      },
      "source": [
        "na_col"
      ],
      "execution_count": null,
      "outputs": [
        {
          "output_type": "execute_result",
          "data": {
            "text/plain": [
              "array(['Health Indicator', 'Holding_Policy_Duration',\n",
              "       'Holding_Policy_Type'], dtype=object)"
            ]
          },
          "metadata": {
            "tags": []
          },
          "execution_count": 16
        }
      ]
    },
    {
      "cell_type": "code",
      "metadata": {
        "id": "1yG-LvN2PzG1"
      },
      "source": [
        "for i in na_col:\n",
        "    if i=='Health Indicator':\n",
        "        missing_treatment(concat_Data,i,type_Operation=\"Categorical\")\n",
        "    else:\n",
        "        missing_treatment(concat_Data,i,type_Operation=\"numeric\")\n",
        "        \n",
        "        "
      ],
      "execution_count": null,
      "outputs": []
    },
    {
      "cell_type": "markdown",
      "metadata": {
        "id": "rDuz_Aw2PzG2"
      },
      "source": [
        "Convert Holing Policy Duration to numerical from object data type"
      ]
    },
    {
      "cell_type": "code",
      "metadata": {
        "id": "nw0qYjEJPzG2"
      },
      "source": [
        "concat_Data['Holding_Policy_Duration']=concat_Data['Holding_Policy_Duration'].astype('float64')"
      ],
      "execution_count": null,
      "outputs": []
    },
    {
      "cell_type": "markdown",
      "metadata": {
        "id": "w47iKCmjPzG3"
      },
      "source": [
        "Segregate Categorical Columns and Numerical Columns"
      ]
    },
    {
      "cell_type": "code",
      "metadata": {
        "id": "ev69ZZSsPzG3"
      },
      "source": [
        "categ_data=concat_Data.select_dtypes('object')"
      ],
      "execution_count": null,
      "outputs": []
    },
    {
      "cell_type": "markdown",
      "metadata": {
        "id": "FyqhAQebPzG3"
      },
      "source": [
        "Encoding Variables"
      ]
    },
    {
      "cell_type": "code",
      "metadata": {
        "id": "EUvpdrlwPzG3",
        "outputId": "e3e41fe0-ba3f-428e-bf8e-c9de70cac38c"
      },
      "source": [
        "categ_data['Accomodation_Type'].replace({'Rented':0,'Owned':1},inplace=True)\n",
        "categ_data['Reco_Insurance_Type'].replace({\"Individual\":0,\"Joint\":1},inplace=True)\n",
        "categ_data['Is_Spouse'].replace({\"No\":0,\"Yes\":1},inplace=True)"
      ],
      "execution_count": null,
      "outputs": [
        {
          "output_type": "stream",
          "text": [
            "D:\\anacond\\lib\\site-packages\\pandas\\core\\series.py:4563: SettingWithCopyWarning: \n",
            "A value is trying to be set on a copy of a slice from a DataFrame\n",
            "\n",
            "See the caveats in the documentation: https://pandas.pydata.org/pandas-docs/stable/user_guide/indexing.html#returning-a-view-versus-a-copy\n",
            "  return super().replace(\n"
          ],
          "name": "stderr"
        }
      ]
    },
    {
      "cell_type": "code",
      "metadata": {
        "id": "FW0YA1oUPzG4"
      },
      "source": [
        "categ_data=pd.concat([categ_data.drop('Health Indicator',axis=1),pd.get_dummies(categ_data['Health Indicator'])],axis=1)"
      ],
      "execution_count": null,
      "outputs": []
    },
    {
      "cell_type": "code",
      "metadata": {
        "id": "1YdmgyHqPzG4",
        "outputId": "a84603c7-75e0-46ca-9e22-fb62352ef84f"
      },
      "source": [
        "la_enc=LabelEncoder()\n",
        "la_enc.fit(categ_data['City_Code'])\n"
      ],
      "execution_count": null,
      "outputs": [
        {
          "output_type": "execute_result",
          "data": {
            "text/plain": [
              "LabelEncoder()"
            ]
          },
          "metadata": {
            "tags": []
          },
          "execution_count": 22
        }
      ]
    },
    {
      "cell_type": "code",
      "metadata": {
        "id": "SIGpgqEIPzG5"
      },
      "source": [
        "categ_data['City_Code']=la_enc.transform(categ_data['City_Code'])"
      ],
      "execution_count": null,
      "outputs": []
    },
    {
      "cell_type": "code",
      "metadata": {
        "id": "r40hFdBwPzG5"
      },
      "source": [
        "num_data=concat_Data.select_dtypes(['int64','float64'])"
      ],
      "execution_count": null,
      "outputs": []
    },
    {
      "cell_type": "code",
      "metadata": {
        "id": "xiJPWXcCPzG5",
        "outputId": "76241ca1-9c21-4754-d502-8c888bc413bf"
      },
      "source": [
        "num_data.head()"
      ],
      "execution_count": null,
      "outputs": [
        {
          "output_type": "execute_result",
          "data": {
            "text/html": [
              "<div>\n",
              "<style scoped>\n",
              "    .dataframe tbody tr th:only-of-type {\n",
              "        vertical-align: middle;\n",
              "    }\n",
              "\n",
              "    .dataframe tbody tr th {\n",
              "        vertical-align: top;\n",
              "    }\n",
              "\n",
              "    .dataframe thead th {\n",
              "        text-align: right;\n",
              "    }\n",
              "</style>\n",
              "<table border=\"1\" class=\"dataframe\">\n",
              "  <thead>\n",
              "    <tr style=\"text-align: right;\">\n",
              "      <th></th>\n",
              "      <th>ID</th>\n",
              "      <th>Region_Code</th>\n",
              "      <th>Upper_Age</th>\n",
              "      <th>Lower_Age</th>\n",
              "      <th>Holding_Policy_Duration</th>\n",
              "      <th>Holding_Policy_Type</th>\n",
              "      <th>Reco_Policy_Cat</th>\n",
              "      <th>Reco_Policy_Premium</th>\n",
              "      <th>Response</th>\n",
              "      <th>is_Train</th>\n",
              "    </tr>\n",
              "  </thead>\n",
              "  <tbody>\n",
              "    <tr>\n",
              "      <th>0</th>\n",
              "      <td>1</td>\n",
              "      <td>3213</td>\n",
              "      <td>36</td>\n",
              "      <td>36</td>\n",
              "      <td>14.0</td>\n",
              "      <td>3.0</td>\n",
              "      <td>22</td>\n",
              "      <td>11628.0</td>\n",
              "      <td>0.0</td>\n",
              "      <td>1</td>\n",
              "    </tr>\n",
              "    <tr>\n",
              "      <th>1</th>\n",
              "      <td>2</td>\n",
              "      <td>1117</td>\n",
              "      <td>75</td>\n",
              "      <td>22</td>\n",
              "      <td>-999.0</td>\n",
              "      <td>-999.0</td>\n",
              "      <td>22</td>\n",
              "      <td>30510.0</td>\n",
              "      <td>0.0</td>\n",
              "      <td>1</td>\n",
              "    </tr>\n",
              "    <tr>\n",
              "      <th>2</th>\n",
              "      <td>3</td>\n",
              "      <td>3732</td>\n",
              "      <td>32</td>\n",
              "      <td>32</td>\n",
              "      <td>1.0</td>\n",
              "      <td>1.0</td>\n",
              "      <td>19</td>\n",
              "      <td>7450.0</td>\n",
              "      <td>1.0</td>\n",
              "      <td>1</td>\n",
              "    </tr>\n",
              "    <tr>\n",
              "      <th>3</th>\n",
              "      <td>4</td>\n",
              "      <td>4378</td>\n",
              "      <td>52</td>\n",
              "      <td>48</td>\n",
              "      <td>14.0</td>\n",
              "      <td>3.0</td>\n",
              "      <td>19</td>\n",
              "      <td>17780.0</td>\n",
              "      <td>0.0</td>\n",
              "      <td>1</td>\n",
              "    </tr>\n",
              "    <tr>\n",
              "      <th>4</th>\n",
              "      <td>5</td>\n",
              "      <td>2190</td>\n",
              "      <td>44</td>\n",
              "      <td>44</td>\n",
              "      <td>3.0</td>\n",
              "      <td>1.0</td>\n",
              "      <td>16</td>\n",
              "      <td>10404.0</td>\n",
              "      <td>0.0</td>\n",
              "      <td>1</td>\n",
              "    </tr>\n",
              "  </tbody>\n",
              "</table>\n",
              "</div>"
            ],
            "text/plain": [
              "   ID  Region_Code  Upper_Age  Lower_Age  Holding_Policy_Duration  \\\n",
              "0   1         3213         36         36                     14.0   \n",
              "1   2         1117         75         22                   -999.0   \n",
              "2   3         3732         32         32                      1.0   \n",
              "3   4         4378         52         48                     14.0   \n",
              "4   5         2190         44         44                      3.0   \n",
              "\n",
              "   Holding_Policy_Type  Reco_Policy_Cat  Reco_Policy_Premium  Response  \\\n",
              "0                  3.0               22              11628.0       0.0   \n",
              "1               -999.0               22              30510.0       0.0   \n",
              "2                  1.0               19               7450.0       1.0   \n",
              "3                  3.0               19              17780.0       0.0   \n",
              "4                  1.0               16              10404.0       0.0   \n",
              "\n",
              "   is_Train  \n",
              "0         1  \n",
              "1         1  \n",
              "2         1  \n",
              "3         1  \n",
              "4         1  "
            ]
          },
          "metadata": {
            "tags": []
          },
          "execution_count": 25
        }
      ]
    },
    {
      "cell_type": "code",
      "metadata": {
        "id": "DQdrfM_QPzG6"
      },
      "source": [
        "final_data=pd.concat([num_data,categ_data],axis=1)"
      ],
      "execution_count": null,
      "outputs": []
    },
    {
      "cell_type": "code",
      "metadata": {
        "id": "L3lONrXoPzG6",
        "outputId": "4d81d011-f11e-453b-8ca3-80abae31d967"
      },
      "source": [
        "final_data.head()"
      ],
      "execution_count": null,
      "outputs": [
        {
          "output_type": "execute_result",
          "data": {
            "text/html": [
              "<div>\n",
              "<style scoped>\n",
              "    .dataframe tbody tr th:only-of-type {\n",
              "        vertical-align: middle;\n",
              "    }\n",
              "\n",
              "    .dataframe tbody tr th {\n",
              "        vertical-align: top;\n",
              "    }\n",
              "\n",
              "    .dataframe thead th {\n",
              "        text-align: right;\n",
              "    }\n",
              "</style>\n",
              "<table border=\"1\" class=\"dataframe\">\n",
              "  <thead>\n",
              "    <tr style=\"text-align: right;\">\n",
              "      <th></th>\n",
              "      <th>ID</th>\n",
              "      <th>Region_Code</th>\n",
              "      <th>Upper_Age</th>\n",
              "      <th>Lower_Age</th>\n",
              "      <th>Holding_Policy_Duration</th>\n",
              "      <th>Holding_Policy_Type</th>\n",
              "      <th>Reco_Policy_Cat</th>\n",
              "      <th>Reco_Policy_Premium</th>\n",
              "      <th>Response</th>\n",
              "      <th>is_Train</th>\n",
              "      <th>City_Code</th>\n",
              "      <th>Accomodation_Type</th>\n",
              "      <th>Reco_Insurance_Type</th>\n",
              "      <th>Is_Spouse</th>\n",
              "      <th>X1</th>\n",
              "      <th>X2</th>\n",
              "      <th>X3</th>\n",
              "      <th>X4</th>\n",
              "      <th>X5</th>\n",
              "      <th>X6</th>\n",
              "      <th>X7</th>\n",
              "      <th>X8</th>\n",
              "      <th>X9</th>\n",
              "    </tr>\n",
              "  </thead>\n",
              "  <tbody>\n",
              "    <tr>\n",
              "      <th>0</th>\n",
              "      <td>1</td>\n",
              "      <td>3213</td>\n",
              "      <td>36</td>\n",
              "      <td>36</td>\n",
              "      <td>14.0</td>\n",
              "      <td>3.0</td>\n",
              "      <td>22</td>\n",
              "      <td>11628.0</td>\n",
              "      <td>0.0</td>\n",
              "      <td>1</td>\n",
              "      <td>22</td>\n",
              "      <td>0</td>\n",
              "      <td>0</td>\n",
              "      <td>0</td>\n",
              "      <td>1</td>\n",
              "      <td>0</td>\n",
              "      <td>0</td>\n",
              "      <td>0</td>\n",
              "      <td>0</td>\n",
              "      <td>0</td>\n",
              "      <td>0</td>\n",
              "      <td>0</td>\n",
              "      <td>0</td>\n",
              "    </tr>\n",
              "    <tr>\n",
              "      <th>1</th>\n",
              "      <td>2</td>\n",
              "      <td>1117</td>\n",
              "      <td>75</td>\n",
              "      <td>22</td>\n",
              "      <td>-999.0</td>\n",
              "      <td>-999.0</td>\n",
              "      <td>22</td>\n",
              "      <td>30510.0</td>\n",
              "      <td>0.0</td>\n",
              "      <td>1</td>\n",
              "      <td>31</td>\n",
              "      <td>1</td>\n",
              "      <td>1</td>\n",
              "      <td>0</td>\n",
              "      <td>0</td>\n",
              "      <td>1</td>\n",
              "      <td>0</td>\n",
              "      <td>0</td>\n",
              "      <td>0</td>\n",
              "      <td>0</td>\n",
              "      <td>0</td>\n",
              "      <td>0</td>\n",
              "      <td>0</td>\n",
              "    </tr>\n",
              "    <tr>\n",
              "      <th>2</th>\n",
              "      <td>3</td>\n",
              "      <td>3732</td>\n",
              "      <td>32</td>\n",
              "      <td>32</td>\n",
              "      <td>1.0</td>\n",
              "      <td>1.0</td>\n",
              "      <td>19</td>\n",
              "      <td>7450.0</td>\n",
              "      <td>1.0</td>\n",
              "      <td>1</td>\n",
              "      <td>31</td>\n",
              "      <td>1</td>\n",
              "      <td>0</td>\n",
              "      <td>0</td>\n",
              "      <td>1</td>\n",
              "      <td>0</td>\n",
              "      <td>0</td>\n",
              "      <td>0</td>\n",
              "      <td>0</td>\n",
              "      <td>0</td>\n",
              "      <td>0</td>\n",
              "      <td>0</td>\n",
              "      <td>0</td>\n",
              "    </tr>\n",
              "    <tr>\n",
              "      <th>3</th>\n",
              "      <td>4</td>\n",
              "      <td>4378</td>\n",
              "      <td>52</td>\n",
              "      <td>48</td>\n",
              "      <td>14.0</td>\n",
              "      <td>3.0</td>\n",
              "      <td>19</td>\n",
              "      <td>17780.0</td>\n",
              "      <td>0.0</td>\n",
              "      <td>1</td>\n",
              "      <td>16</td>\n",
              "      <td>1</td>\n",
              "      <td>1</td>\n",
              "      <td>0</td>\n",
              "      <td>1</td>\n",
              "      <td>0</td>\n",
              "      <td>0</td>\n",
              "      <td>0</td>\n",
              "      <td>0</td>\n",
              "      <td>0</td>\n",
              "      <td>0</td>\n",
              "      <td>0</td>\n",
              "      <td>0</td>\n",
              "    </tr>\n",
              "    <tr>\n",
              "      <th>4</th>\n",
              "      <td>5</td>\n",
              "      <td>2190</td>\n",
              "      <td>44</td>\n",
              "      <td>44</td>\n",
              "      <td>3.0</td>\n",
              "      <td>1.0</td>\n",
              "      <td>16</td>\n",
              "      <td>10404.0</td>\n",
              "      <td>0.0</td>\n",
              "      <td>1</td>\n",
              "      <td>34</td>\n",
              "      <td>0</td>\n",
              "      <td>0</td>\n",
              "      <td>0</td>\n",
              "      <td>0</td>\n",
              "      <td>1</td>\n",
              "      <td>0</td>\n",
              "      <td>0</td>\n",
              "      <td>0</td>\n",
              "      <td>0</td>\n",
              "      <td>0</td>\n",
              "      <td>0</td>\n",
              "      <td>0</td>\n",
              "    </tr>\n",
              "  </tbody>\n",
              "</table>\n",
              "</div>"
            ],
            "text/plain": [
              "   ID  Region_Code  Upper_Age  Lower_Age  Holding_Policy_Duration  \\\n",
              "0   1         3213         36         36                     14.0   \n",
              "1   2         1117         75         22                   -999.0   \n",
              "2   3         3732         32         32                      1.0   \n",
              "3   4         4378         52         48                     14.0   \n",
              "4   5         2190         44         44                      3.0   \n",
              "\n",
              "   Holding_Policy_Type  Reco_Policy_Cat  Reco_Policy_Premium  Response  \\\n",
              "0                  3.0               22              11628.0       0.0   \n",
              "1               -999.0               22              30510.0       0.0   \n",
              "2                  1.0               19               7450.0       1.0   \n",
              "3                  3.0               19              17780.0       0.0   \n",
              "4                  1.0               16              10404.0       0.0   \n",
              "\n",
              "   is_Train  City_Code  Accomodation_Type  Reco_Insurance_Type  Is_Spouse  X1  \\\n",
              "0         1         22                  0                    0          0   1   \n",
              "1         1         31                  1                    1          0   0   \n",
              "2         1         31                  1                    0          0   1   \n",
              "3         1         16                  1                    1          0   1   \n",
              "4         1         34                  0                    0          0   0   \n",
              "\n",
              "   X2  X3  X4  X5  X6  X7  X8  X9  \n",
              "0   0   0   0   0   0   0   0   0  \n",
              "1   1   0   0   0   0   0   0   0  \n",
              "2   0   0   0   0   0   0   0   0  \n",
              "3   0   0   0   0   0   0   0   0  \n",
              "4   1   0   0   0   0   0   0   0  "
            ]
          },
          "metadata": {
            "tags": []
          },
          "execution_count": 27
        }
      ]
    },
    {
      "cell_type": "markdown",
      "metadata": {
        "id": "dYV11mj5PzG6"
      },
      "source": [
        "Feature Engineering - Binning"
      ]
    },
    {
      "cell_type": "code",
      "metadata": {
        "id": "xkNa10ebPzG6"
      },
      "source": [
        "final_data['Upper_Age_bin']=pd.qcut(final_data['Upper_Age'],5).astype('object').astype(str)\n",
        "final_data['Lower_Age_bin']=pd.qcut(final_data['Lower_Age'],5).astype('object').astype(str)"
      ],
      "execution_count": null,
      "outputs": []
    },
    {
      "cell_type": "code",
      "metadata": {
        "id": "h137JUdOPzG7"
      },
      "source": [
        "la_enc=LabelEncoder()\n",
        "la_enc.fit(final_data['Upper_Age_bin'])\n",
        "final_data['Upper_Age_bin']=la_enc.transform(final_data['Upper_Age_bin'])"
      ],
      "execution_count": null,
      "outputs": []
    },
    {
      "cell_type": "code",
      "metadata": {
        "id": "iWXkVGXXPzG7",
        "outputId": "e5e1eaa1-7c1c-4cb2-8b26-908e8936ebd1"
      },
      "source": [
        "final_data.head()"
      ],
      "execution_count": null,
      "outputs": [
        {
          "output_type": "execute_result",
          "data": {
            "text/html": [
              "<div>\n",
              "<style scoped>\n",
              "    .dataframe tbody tr th:only-of-type {\n",
              "        vertical-align: middle;\n",
              "    }\n",
              "\n",
              "    .dataframe tbody tr th {\n",
              "        vertical-align: top;\n",
              "    }\n",
              "\n",
              "    .dataframe thead th {\n",
              "        text-align: right;\n",
              "    }\n",
              "</style>\n",
              "<table border=\"1\" class=\"dataframe\">\n",
              "  <thead>\n",
              "    <tr style=\"text-align: right;\">\n",
              "      <th></th>\n",
              "      <th>ID</th>\n",
              "      <th>Region_Code</th>\n",
              "      <th>Upper_Age</th>\n",
              "      <th>Lower_Age</th>\n",
              "      <th>Holding_Policy_Duration</th>\n",
              "      <th>Holding_Policy_Type</th>\n",
              "      <th>Reco_Policy_Cat</th>\n",
              "      <th>Reco_Policy_Premium</th>\n",
              "      <th>Response</th>\n",
              "      <th>is_Train</th>\n",
              "      <th>City_Code</th>\n",
              "      <th>Accomodation_Type</th>\n",
              "      <th>Reco_Insurance_Type</th>\n",
              "      <th>Is_Spouse</th>\n",
              "      <th>X1</th>\n",
              "      <th>X2</th>\n",
              "      <th>X3</th>\n",
              "      <th>X4</th>\n",
              "      <th>X5</th>\n",
              "      <th>X6</th>\n",
              "      <th>X7</th>\n",
              "      <th>X8</th>\n",
              "      <th>X9</th>\n",
              "      <th>Upper_Age_bin</th>\n",
              "      <th>Lower_Age_bin</th>\n",
              "    </tr>\n",
              "  </thead>\n",
              "  <tbody>\n",
              "    <tr>\n",
              "      <th>0</th>\n",
              "      <td>1</td>\n",
              "      <td>3213</td>\n",
              "      <td>36</td>\n",
              "      <td>36</td>\n",
              "      <td>14.0</td>\n",
              "      <td>3.0</td>\n",
              "      <td>22</td>\n",
              "      <td>11628.0</td>\n",
              "      <td>0.0</td>\n",
              "      <td>1</td>\n",
              "      <td>22</td>\n",
              "      <td>0</td>\n",
              "      <td>0</td>\n",
              "      <td>0</td>\n",
              "      <td>1</td>\n",
              "      <td>0</td>\n",
              "      <td>0</td>\n",
              "      <td>0</td>\n",
              "      <td>0</td>\n",
              "      <td>0</td>\n",
              "      <td>0</td>\n",
              "      <td>0</td>\n",
              "      <td>0</td>\n",
              "      <td>1</td>\n",
              "      <td>(34.0, 47.0]</td>\n",
              "    </tr>\n",
              "    <tr>\n",
              "      <th>1</th>\n",
              "      <td>2</td>\n",
              "      <td>1117</td>\n",
              "      <td>75</td>\n",
              "      <td>22</td>\n",
              "      <td>-999.0</td>\n",
              "      <td>-999.0</td>\n",
              "      <td>22</td>\n",
              "      <td>30510.0</td>\n",
              "      <td>0.0</td>\n",
              "      <td>1</td>\n",
              "      <td>31</td>\n",
              "      <td>1</td>\n",
              "      <td>1</td>\n",
              "      <td>0</td>\n",
              "      <td>0</td>\n",
              "      <td>1</td>\n",
              "      <td>0</td>\n",
              "      <td>0</td>\n",
              "      <td>0</td>\n",
              "      <td>0</td>\n",
              "      <td>0</td>\n",
              "      <td>0</td>\n",
              "      <td>0</td>\n",
              "      <td>4</td>\n",
              "      <td>(15.999, 25.0]</td>\n",
              "    </tr>\n",
              "    <tr>\n",
              "      <th>2</th>\n",
              "      <td>3</td>\n",
              "      <td>3732</td>\n",
              "      <td>32</td>\n",
              "      <td>32</td>\n",
              "      <td>1.0</td>\n",
              "      <td>1.0</td>\n",
              "      <td>19</td>\n",
              "      <td>7450.0</td>\n",
              "      <td>1.0</td>\n",
              "      <td>1</td>\n",
              "      <td>31</td>\n",
              "      <td>1</td>\n",
              "      <td>0</td>\n",
              "      <td>0</td>\n",
              "      <td>1</td>\n",
              "      <td>0</td>\n",
              "      <td>0</td>\n",
              "      <td>0</td>\n",
              "      <td>0</td>\n",
              "      <td>0</td>\n",
              "      <td>0</td>\n",
              "      <td>0</td>\n",
              "      <td>0</td>\n",
              "      <td>1</td>\n",
              "      <td>(25.0, 34.0]</td>\n",
              "    </tr>\n",
              "    <tr>\n",
              "      <th>3</th>\n",
              "      <td>4</td>\n",
              "      <td>4378</td>\n",
              "      <td>52</td>\n",
              "      <td>48</td>\n",
              "      <td>14.0</td>\n",
              "      <td>3.0</td>\n",
              "      <td>19</td>\n",
              "      <td>17780.0</td>\n",
              "      <td>0.0</td>\n",
              "      <td>1</td>\n",
              "      <td>16</td>\n",
              "      <td>1</td>\n",
              "      <td>1</td>\n",
              "      <td>0</td>\n",
              "      <td>1</td>\n",
              "      <td>0</td>\n",
              "      <td>0</td>\n",
              "      <td>0</td>\n",
              "      <td>0</td>\n",
              "      <td>0</td>\n",
              "      <td>0</td>\n",
              "      <td>0</td>\n",
              "      <td>0</td>\n",
              "      <td>3</td>\n",
              "      <td>(47.0, 61.0]</td>\n",
              "    </tr>\n",
              "    <tr>\n",
              "      <th>4</th>\n",
              "      <td>5</td>\n",
              "      <td>2190</td>\n",
              "      <td>44</td>\n",
              "      <td>44</td>\n",
              "      <td>3.0</td>\n",
              "      <td>1.0</td>\n",
              "      <td>16</td>\n",
              "      <td>10404.0</td>\n",
              "      <td>0.0</td>\n",
              "      <td>1</td>\n",
              "      <td>34</td>\n",
              "      <td>0</td>\n",
              "      <td>0</td>\n",
              "      <td>0</td>\n",
              "      <td>0</td>\n",
              "      <td>1</td>\n",
              "      <td>0</td>\n",
              "      <td>0</td>\n",
              "      <td>0</td>\n",
              "      <td>0</td>\n",
              "      <td>0</td>\n",
              "      <td>0</td>\n",
              "      <td>0</td>\n",
              "      <td>2</td>\n",
              "      <td>(34.0, 47.0]</td>\n",
              "    </tr>\n",
              "  </tbody>\n",
              "</table>\n",
              "</div>"
            ],
            "text/plain": [
              "   ID  Region_Code  Upper_Age  Lower_Age  Holding_Policy_Duration  \\\n",
              "0   1         3213         36         36                     14.0   \n",
              "1   2         1117         75         22                   -999.0   \n",
              "2   3         3732         32         32                      1.0   \n",
              "3   4         4378         52         48                     14.0   \n",
              "4   5         2190         44         44                      3.0   \n",
              "\n",
              "   Holding_Policy_Type  Reco_Policy_Cat  Reco_Policy_Premium  Response  \\\n",
              "0                  3.0               22              11628.0       0.0   \n",
              "1               -999.0               22              30510.0       0.0   \n",
              "2                  1.0               19               7450.0       1.0   \n",
              "3                  3.0               19              17780.0       0.0   \n",
              "4                  1.0               16              10404.0       0.0   \n",
              "\n",
              "   is_Train  City_Code  Accomodation_Type  Reco_Insurance_Type  Is_Spouse  X1  \\\n",
              "0         1         22                  0                    0          0   1   \n",
              "1         1         31                  1                    1          0   0   \n",
              "2         1         31                  1                    0          0   1   \n",
              "3         1         16                  1                    1          0   1   \n",
              "4         1         34                  0                    0          0   0   \n",
              "\n",
              "   X2  X3  X4  X5  X6  X7  X8  X9  Upper_Age_bin   Lower_Age_bin  \n",
              "0   0   0   0   0   0   0   0   0              1    (34.0, 47.0]  \n",
              "1   1   0   0   0   0   0   0   0              4  (15.999, 25.0]  \n",
              "2   0   0   0   0   0   0   0   0              1    (25.0, 34.0]  \n",
              "3   0   0   0   0   0   0   0   0              3    (47.0, 61.0]  \n",
              "4   1   0   0   0   0   0   0   0              2    (34.0, 47.0]  "
            ]
          },
          "metadata": {
            "tags": []
          },
          "execution_count": 30
        }
      ]
    },
    {
      "cell_type": "code",
      "metadata": {
        "id": "bULWEgZlPzG8"
      },
      "source": [
        "la_enc=LabelEncoder()\n",
        "la_enc.fit(final_data['Lower_Age_bin'])\n",
        "final_data['Lower_Age_bin']=la_enc.transform(final_data['Lower_Age_bin'])"
      ],
      "execution_count": null,
      "outputs": []
    },
    {
      "cell_type": "code",
      "metadata": {
        "id": "aPFDc2LWPzG8",
        "outputId": "3ea00a21-a3a8-4b89-b807-6afa5d688f8e"
      },
      "source": [
        "final_data.head()"
      ],
      "execution_count": null,
      "outputs": [
        {
          "output_type": "execute_result",
          "data": {
            "text/html": [
              "<div>\n",
              "<style scoped>\n",
              "    .dataframe tbody tr th:only-of-type {\n",
              "        vertical-align: middle;\n",
              "    }\n",
              "\n",
              "    .dataframe tbody tr th {\n",
              "        vertical-align: top;\n",
              "    }\n",
              "\n",
              "    .dataframe thead th {\n",
              "        text-align: right;\n",
              "    }\n",
              "</style>\n",
              "<table border=\"1\" class=\"dataframe\">\n",
              "  <thead>\n",
              "    <tr style=\"text-align: right;\">\n",
              "      <th></th>\n",
              "      <th>ID</th>\n",
              "      <th>Region_Code</th>\n",
              "      <th>Upper_Age</th>\n",
              "      <th>Lower_Age</th>\n",
              "      <th>Holding_Policy_Duration</th>\n",
              "      <th>Holding_Policy_Type</th>\n",
              "      <th>Reco_Policy_Cat</th>\n",
              "      <th>Reco_Policy_Premium</th>\n",
              "      <th>Response</th>\n",
              "      <th>is_Train</th>\n",
              "      <th>City_Code</th>\n",
              "      <th>Accomodation_Type</th>\n",
              "      <th>Reco_Insurance_Type</th>\n",
              "      <th>Is_Spouse</th>\n",
              "      <th>X1</th>\n",
              "      <th>X2</th>\n",
              "      <th>X3</th>\n",
              "      <th>X4</th>\n",
              "      <th>X5</th>\n",
              "      <th>X6</th>\n",
              "      <th>X7</th>\n",
              "      <th>X8</th>\n",
              "      <th>X9</th>\n",
              "      <th>Upper_Age_bin</th>\n",
              "      <th>Lower_Age_bin</th>\n",
              "    </tr>\n",
              "  </thead>\n",
              "  <tbody>\n",
              "    <tr>\n",
              "      <th>0</th>\n",
              "      <td>1</td>\n",
              "      <td>3213</td>\n",
              "      <td>36</td>\n",
              "      <td>36</td>\n",
              "      <td>14.0</td>\n",
              "      <td>3.0</td>\n",
              "      <td>22</td>\n",
              "      <td>11628.0</td>\n",
              "      <td>0.0</td>\n",
              "      <td>1</td>\n",
              "      <td>22</td>\n",
              "      <td>0</td>\n",
              "      <td>0</td>\n",
              "      <td>0</td>\n",
              "      <td>1</td>\n",
              "      <td>0</td>\n",
              "      <td>0</td>\n",
              "      <td>0</td>\n",
              "      <td>0</td>\n",
              "      <td>0</td>\n",
              "      <td>0</td>\n",
              "      <td>0</td>\n",
              "      <td>0</td>\n",
              "      <td>1</td>\n",
              "      <td>2</td>\n",
              "    </tr>\n",
              "    <tr>\n",
              "      <th>1</th>\n",
              "      <td>2</td>\n",
              "      <td>1117</td>\n",
              "      <td>75</td>\n",
              "      <td>22</td>\n",
              "      <td>-999.0</td>\n",
              "      <td>-999.0</td>\n",
              "      <td>22</td>\n",
              "      <td>30510.0</td>\n",
              "      <td>0.0</td>\n",
              "      <td>1</td>\n",
              "      <td>31</td>\n",
              "      <td>1</td>\n",
              "      <td>1</td>\n",
              "      <td>0</td>\n",
              "      <td>0</td>\n",
              "      <td>1</td>\n",
              "      <td>0</td>\n",
              "      <td>0</td>\n",
              "      <td>0</td>\n",
              "      <td>0</td>\n",
              "      <td>0</td>\n",
              "      <td>0</td>\n",
              "      <td>0</td>\n",
              "      <td>4</td>\n",
              "      <td>0</td>\n",
              "    </tr>\n",
              "    <tr>\n",
              "      <th>2</th>\n",
              "      <td>3</td>\n",
              "      <td>3732</td>\n",
              "      <td>32</td>\n",
              "      <td>32</td>\n",
              "      <td>1.0</td>\n",
              "      <td>1.0</td>\n",
              "      <td>19</td>\n",
              "      <td>7450.0</td>\n",
              "      <td>1.0</td>\n",
              "      <td>1</td>\n",
              "      <td>31</td>\n",
              "      <td>1</td>\n",
              "      <td>0</td>\n",
              "      <td>0</td>\n",
              "      <td>1</td>\n",
              "      <td>0</td>\n",
              "      <td>0</td>\n",
              "      <td>0</td>\n",
              "      <td>0</td>\n",
              "      <td>0</td>\n",
              "      <td>0</td>\n",
              "      <td>0</td>\n",
              "      <td>0</td>\n",
              "      <td>1</td>\n",
              "      <td>1</td>\n",
              "    </tr>\n",
              "    <tr>\n",
              "      <th>3</th>\n",
              "      <td>4</td>\n",
              "      <td>4378</td>\n",
              "      <td>52</td>\n",
              "      <td>48</td>\n",
              "      <td>14.0</td>\n",
              "      <td>3.0</td>\n",
              "      <td>19</td>\n",
              "      <td>17780.0</td>\n",
              "      <td>0.0</td>\n",
              "      <td>1</td>\n",
              "      <td>16</td>\n",
              "      <td>1</td>\n",
              "      <td>1</td>\n",
              "      <td>0</td>\n",
              "      <td>1</td>\n",
              "      <td>0</td>\n",
              "      <td>0</td>\n",
              "      <td>0</td>\n",
              "      <td>0</td>\n",
              "      <td>0</td>\n",
              "      <td>0</td>\n",
              "      <td>0</td>\n",
              "      <td>0</td>\n",
              "      <td>3</td>\n",
              "      <td>3</td>\n",
              "    </tr>\n",
              "    <tr>\n",
              "      <th>4</th>\n",
              "      <td>5</td>\n",
              "      <td>2190</td>\n",
              "      <td>44</td>\n",
              "      <td>44</td>\n",
              "      <td>3.0</td>\n",
              "      <td>1.0</td>\n",
              "      <td>16</td>\n",
              "      <td>10404.0</td>\n",
              "      <td>0.0</td>\n",
              "      <td>1</td>\n",
              "      <td>34</td>\n",
              "      <td>0</td>\n",
              "      <td>0</td>\n",
              "      <td>0</td>\n",
              "      <td>0</td>\n",
              "      <td>1</td>\n",
              "      <td>0</td>\n",
              "      <td>0</td>\n",
              "      <td>0</td>\n",
              "      <td>0</td>\n",
              "      <td>0</td>\n",
              "      <td>0</td>\n",
              "      <td>0</td>\n",
              "      <td>2</td>\n",
              "      <td>2</td>\n",
              "    </tr>\n",
              "  </tbody>\n",
              "</table>\n",
              "</div>"
            ],
            "text/plain": [
              "   ID  Region_Code  Upper_Age  Lower_Age  Holding_Policy_Duration  \\\n",
              "0   1         3213         36         36                     14.0   \n",
              "1   2         1117         75         22                   -999.0   \n",
              "2   3         3732         32         32                      1.0   \n",
              "3   4         4378         52         48                     14.0   \n",
              "4   5         2190         44         44                      3.0   \n",
              "\n",
              "   Holding_Policy_Type  Reco_Policy_Cat  Reco_Policy_Premium  Response  \\\n",
              "0                  3.0               22              11628.0       0.0   \n",
              "1               -999.0               22              30510.0       0.0   \n",
              "2                  1.0               19               7450.0       1.0   \n",
              "3                  3.0               19              17780.0       0.0   \n",
              "4                  1.0               16              10404.0       0.0   \n",
              "\n",
              "   is_Train  City_Code  Accomodation_Type  Reco_Insurance_Type  Is_Spouse  X1  \\\n",
              "0         1         22                  0                    0          0   1   \n",
              "1         1         31                  1                    1          0   0   \n",
              "2         1         31                  1                    0          0   1   \n",
              "3         1         16                  1                    1          0   1   \n",
              "4         1         34                  0                    0          0   0   \n",
              "\n",
              "   X2  X3  X4  X5  X6  X7  X8  X9  Upper_Age_bin  Lower_Age_bin  \n",
              "0   0   0   0   0   0   0   0   0              1              2  \n",
              "1   1   0   0   0   0   0   0   0              4              0  \n",
              "2   0   0   0   0   0   0   0   0              1              1  \n",
              "3   0   0   0   0   0   0   0   0              3              3  \n",
              "4   1   0   0   0   0   0   0   0              2              2  "
            ]
          },
          "metadata": {
            "tags": []
          },
          "execution_count": 32
        }
      ]
    },
    {
      "cell_type": "markdown",
      "metadata": {
        "id": "QIAYEwYLPzHA"
      },
      "source": [
        "Feature Engineering "
      ]
    },
    {
      "cell_type": "code",
      "metadata": {
        "id": "y7Vmk6lePzHB"
      },
      "source": [
        "final_data['ageDiff']=final_data['Upper_Age']-final_data['Lower_Age']"
      ],
      "execution_count": null,
      "outputs": []
    },
    {
      "cell_type": "code",
      "metadata": {
        "id": "xBDmtXtlPzHB"
      },
      "source": [
        "final_data['Premium_by_uage']=final_data['Reco_Policy_Premium']/final_data['Upper_Age'].astype(float)"
      ],
      "execution_count": null,
      "outputs": []
    },
    {
      "cell_type": "code",
      "metadata": {
        "id": "yQt-uDZuPzHB"
      },
      "source": [
        "final_data['Premium_by_lage']=final_data['Reco_Policy_Premium']/final_data['Lower_Age'].astype(float)\n",
        "final_data['Premium_by_age_Diff']=final_data['Reco_Policy_Premium']/final_data['ageDiff'].astype(float)"
      ],
      "execution_count": null,
      "outputs": []
    },
    {
      "cell_type": "code",
      "metadata": {
        "id": "jDm2jKVZPzHC",
        "outputId": "ff66c915-ddc0-4b37-efeb-d3897f0c6542"
      },
      "source": [
        "final_data.head()"
      ],
      "execution_count": null,
      "outputs": [
        {
          "output_type": "execute_result",
          "data": {
            "text/html": [
              "<div>\n",
              "<style scoped>\n",
              "    .dataframe tbody tr th:only-of-type {\n",
              "        vertical-align: middle;\n",
              "    }\n",
              "\n",
              "    .dataframe tbody tr th {\n",
              "        vertical-align: top;\n",
              "    }\n",
              "\n",
              "    .dataframe thead th {\n",
              "        text-align: right;\n",
              "    }\n",
              "</style>\n",
              "<table border=\"1\" class=\"dataframe\">\n",
              "  <thead>\n",
              "    <tr style=\"text-align: right;\">\n",
              "      <th></th>\n",
              "      <th>ID</th>\n",
              "      <th>Region_Code</th>\n",
              "      <th>Upper_Age</th>\n",
              "      <th>Lower_Age</th>\n",
              "      <th>Holding_Policy_Duration</th>\n",
              "      <th>Holding_Policy_Type</th>\n",
              "      <th>Reco_Policy_Cat</th>\n",
              "      <th>Reco_Policy_Premium</th>\n",
              "      <th>Response</th>\n",
              "      <th>is_Train</th>\n",
              "      <th>City_Code</th>\n",
              "      <th>Accomodation_Type</th>\n",
              "      <th>Reco_Insurance_Type</th>\n",
              "      <th>Is_Spouse</th>\n",
              "      <th>X1</th>\n",
              "      <th>X2</th>\n",
              "      <th>X3</th>\n",
              "      <th>X4</th>\n",
              "      <th>X5</th>\n",
              "      <th>X6</th>\n",
              "      <th>X7</th>\n",
              "      <th>X8</th>\n",
              "      <th>X9</th>\n",
              "      <th>Upper_Age_bin</th>\n",
              "      <th>Lower_Age_bin</th>\n",
              "      <th>ageDiff</th>\n",
              "      <th>Premium_by_uage</th>\n",
              "      <th>Premium_by_lage</th>\n",
              "      <th>Premium_by_age_Diff</th>\n",
              "    </tr>\n",
              "  </thead>\n",
              "  <tbody>\n",
              "    <tr>\n",
              "      <th>0</th>\n",
              "      <td>1</td>\n",
              "      <td>3213</td>\n",
              "      <td>36</td>\n",
              "      <td>36</td>\n",
              "      <td>14.0</td>\n",
              "      <td>3.0</td>\n",
              "      <td>22</td>\n",
              "      <td>11628.0</td>\n",
              "      <td>0.0</td>\n",
              "      <td>1</td>\n",
              "      <td>22</td>\n",
              "      <td>0</td>\n",
              "      <td>0</td>\n",
              "      <td>0</td>\n",
              "      <td>1</td>\n",
              "      <td>0</td>\n",
              "      <td>0</td>\n",
              "      <td>0</td>\n",
              "      <td>0</td>\n",
              "      <td>0</td>\n",
              "      <td>0</td>\n",
              "      <td>0</td>\n",
              "      <td>0</td>\n",
              "      <td>1</td>\n",
              "      <td>2</td>\n",
              "      <td>0</td>\n",
              "      <td>323.000000</td>\n",
              "      <td>323.000000</td>\n",
              "      <td>inf</td>\n",
              "    </tr>\n",
              "    <tr>\n",
              "      <th>1</th>\n",
              "      <td>2</td>\n",
              "      <td>1117</td>\n",
              "      <td>75</td>\n",
              "      <td>22</td>\n",
              "      <td>-999.0</td>\n",
              "      <td>-999.0</td>\n",
              "      <td>22</td>\n",
              "      <td>30510.0</td>\n",
              "      <td>0.0</td>\n",
              "      <td>1</td>\n",
              "      <td>31</td>\n",
              "      <td>1</td>\n",
              "      <td>1</td>\n",
              "      <td>0</td>\n",
              "      <td>0</td>\n",
              "      <td>1</td>\n",
              "      <td>0</td>\n",
              "      <td>0</td>\n",
              "      <td>0</td>\n",
              "      <td>0</td>\n",
              "      <td>0</td>\n",
              "      <td>0</td>\n",
              "      <td>0</td>\n",
              "      <td>4</td>\n",
              "      <td>0</td>\n",
              "      <td>53</td>\n",
              "      <td>406.800000</td>\n",
              "      <td>1386.818182</td>\n",
              "      <td>575.660377</td>\n",
              "    </tr>\n",
              "    <tr>\n",
              "      <th>2</th>\n",
              "      <td>3</td>\n",
              "      <td>3732</td>\n",
              "      <td>32</td>\n",
              "      <td>32</td>\n",
              "      <td>1.0</td>\n",
              "      <td>1.0</td>\n",
              "      <td>19</td>\n",
              "      <td>7450.0</td>\n",
              "      <td>1.0</td>\n",
              "      <td>1</td>\n",
              "      <td>31</td>\n",
              "      <td>1</td>\n",
              "      <td>0</td>\n",
              "      <td>0</td>\n",
              "      <td>1</td>\n",
              "      <td>0</td>\n",
              "      <td>0</td>\n",
              "      <td>0</td>\n",
              "      <td>0</td>\n",
              "      <td>0</td>\n",
              "      <td>0</td>\n",
              "      <td>0</td>\n",
              "      <td>0</td>\n",
              "      <td>1</td>\n",
              "      <td>1</td>\n",
              "      <td>0</td>\n",
              "      <td>232.812500</td>\n",
              "      <td>232.812500</td>\n",
              "      <td>inf</td>\n",
              "    </tr>\n",
              "    <tr>\n",
              "      <th>3</th>\n",
              "      <td>4</td>\n",
              "      <td>4378</td>\n",
              "      <td>52</td>\n",
              "      <td>48</td>\n",
              "      <td>14.0</td>\n",
              "      <td>3.0</td>\n",
              "      <td>19</td>\n",
              "      <td>17780.0</td>\n",
              "      <td>0.0</td>\n",
              "      <td>1</td>\n",
              "      <td>16</td>\n",
              "      <td>1</td>\n",
              "      <td>1</td>\n",
              "      <td>0</td>\n",
              "      <td>1</td>\n",
              "      <td>0</td>\n",
              "      <td>0</td>\n",
              "      <td>0</td>\n",
              "      <td>0</td>\n",
              "      <td>0</td>\n",
              "      <td>0</td>\n",
              "      <td>0</td>\n",
              "      <td>0</td>\n",
              "      <td>3</td>\n",
              "      <td>3</td>\n",
              "      <td>4</td>\n",
              "      <td>341.923077</td>\n",
              "      <td>370.416667</td>\n",
              "      <td>4445.000000</td>\n",
              "    </tr>\n",
              "    <tr>\n",
              "      <th>4</th>\n",
              "      <td>5</td>\n",
              "      <td>2190</td>\n",
              "      <td>44</td>\n",
              "      <td>44</td>\n",
              "      <td>3.0</td>\n",
              "      <td>1.0</td>\n",
              "      <td>16</td>\n",
              "      <td>10404.0</td>\n",
              "      <td>0.0</td>\n",
              "      <td>1</td>\n",
              "      <td>34</td>\n",
              "      <td>0</td>\n",
              "      <td>0</td>\n",
              "      <td>0</td>\n",
              "      <td>0</td>\n",
              "      <td>1</td>\n",
              "      <td>0</td>\n",
              "      <td>0</td>\n",
              "      <td>0</td>\n",
              "      <td>0</td>\n",
              "      <td>0</td>\n",
              "      <td>0</td>\n",
              "      <td>0</td>\n",
              "      <td>2</td>\n",
              "      <td>2</td>\n",
              "      <td>0</td>\n",
              "      <td>236.454545</td>\n",
              "      <td>236.454545</td>\n",
              "      <td>inf</td>\n",
              "    </tr>\n",
              "  </tbody>\n",
              "</table>\n",
              "</div>"
            ],
            "text/plain": [
              "   ID  Region_Code  Upper_Age  Lower_Age  Holding_Policy_Duration  \\\n",
              "0   1         3213         36         36                     14.0   \n",
              "1   2         1117         75         22                   -999.0   \n",
              "2   3         3732         32         32                      1.0   \n",
              "3   4         4378         52         48                     14.0   \n",
              "4   5         2190         44         44                      3.0   \n",
              "\n",
              "   Holding_Policy_Type  Reco_Policy_Cat  Reco_Policy_Premium  Response  \\\n",
              "0                  3.0               22              11628.0       0.0   \n",
              "1               -999.0               22              30510.0       0.0   \n",
              "2                  1.0               19               7450.0       1.0   \n",
              "3                  3.0               19              17780.0       0.0   \n",
              "4                  1.0               16              10404.0       0.0   \n",
              "\n",
              "   is_Train  City_Code  Accomodation_Type  Reco_Insurance_Type  Is_Spouse  X1  \\\n",
              "0         1         22                  0                    0          0   1   \n",
              "1         1         31                  1                    1          0   0   \n",
              "2         1         31                  1                    0          0   1   \n",
              "3         1         16                  1                    1          0   1   \n",
              "4         1         34                  0                    0          0   0   \n",
              "\n",
              "   X2  X3  X4  X5  X6  X7  X8  X9  Upper_Age_bin  Lower_Age_bin  ageDiff  \\\n",
              "0   0   0   0   0   0   0   0   0              1              2        0   \n",
              "1   1   0   0   0   0   0   0   0              4              0       53   \n",
              "2   0   0   0   0   0   0   0   0              1              1        0   \n",
              "3   0   0   0   0   0   0   0   0              3              3        4   \n",
              "4   1   0   0   0   0   0   0   0              2              2        0   \n",
              "\n",
              "   Premium_by_uage  Premium_by_lage  Premium_by_age_Diff  \n",
              "0       323.000000       323.000000                  inf  \n",
              "1       406.800000      1386.818182           575.660377  \n",
              "2       232.812500       232.812500                  inf  \n",
              "3       341.923077       370.416667          4445.000000  \n",
              "4       236.454545       236.454545                  inf  "
            ]
          },
          "metadata": {
            "tags": []
          },
          "execution_count": 36
        }
      ]
    },
    {
      "cell_type": "code",
      "metadata": {
        "id": "j5mpdHEHPzHD"
      },
      "source": [
        "final_data['Premium_by_age_Diff'].replace({np.inf:-1},inplace=True)"
      ],
      "execution_count": null,
      "outputs": []
    },
    {
      "cell_type": "code",
      "metadata": {
        "id": "nEqsv897PzHE",
        "outputId": "3bf6b932-ca5a-4582-e6df-5e83c43db951"
      },
      "source": [
        "final_data.head()"
      ],
      "execution_count": null,
      "outputs": [
        {
          "output_type": "execute_result",
          "data": {
            "text/html": [
              "<div>\n",
              "<style scoped>\n",
              "    .dataframe tbody tr th:only-of-type {\n",
              "        vertical-align: middle;\n",
              "    }\n",
              "\n",
              "    .dataframe tbody tr th {\n",
              "        vertical-align: top;\n",
              "    }\n",
              "\n",
              "    .dataframe thead th {\n",
              "        text-align: right;\n",
              "    }\n",
              "</style>\n",
              "<table border=\"1\" class=\"dataframe\">\n",
              "  <thead>\n",
              "    <tr style=\"text-align: right;\">\n",
              "      <th></th>\n",
              "      <th>ID</th>\n",
              "      <th>Region_Code</th>\n",
              "      <th>Upper_Age</th>\n",
              "      <th>Lower_Age</th>\n",
              "      <th>Holding_Policy_Duration</th>\n",
              "      <th>Holding_Policy_Type</th>\n",
              "      <th>Reco_Policy_Cat</th>\n",
              "      <th>Reco_Policy_Premium</th>\n",
              "      <th>Response</th>\n",
              "      <th>is_Train</th>\n",
              "      <th>City_Code</th>\n",
              "      <th>Accomodation_Type</th>\n",
              "      <th>Reco_Insurance_Type</th>\n",
              "      <th>Is_Spouse</th>\n",
              "      <th>X1</th>\n",
              "      <th>X2</th>\n",
              "      <th>X3</th>\n",
              "      <th>X4</th>\n",
              "      <th>X5</th>\n",
              "      <th>X6</th>\n",
              "      <th>X7</th>\n",
              "      <th>X8</th>\n",
              "      <th>X9</th>\n",
              "      <th>Upper_Age_bin</th>\n",
              "      <th>Lower_Age_bin</th>\n",
              "      <th>ageDiff</th>\n",
              "      <th>Premium_by_uage</th>\n",
              "      <th>Premium_by_lage</th>\n",
              "      <th>Premium_by_age_Diff</th>\n",
              "    </tr>\n",
              "  </thead>\n",
              "  <tbody>\n",
              "    <tr>\n",
              "      <th>0</th>\n",
              "      <td>1</td>\n",
              "      <td>3213</td>\n",
              "      <td>36</td>\n",
              "      <td>36</td>\n",
              "      <td>14.0</td>\n",
              "      <td>3.0</td>\n",
              "      <td>22</td>\n",
              "      <td>11628.0</td>\n",
              "      <td>0.0</td>\n",
              "      <td>1</td>\n",
              "      <td>22</td>\n",
              "      <td>0</td>\n",
              "      <td>0</td>\n",
              "      <td>0</td>\n",
              "      <td>1</td>\n",
              "      <td>0</td>\n",
              "      <td>0</td>\n",
              "      <td>0</td>\n",
              "      <td>0</td>\n",
              "      <td>0</td>\n",
              "      <td>0</td>\n",
              "      <td>0</td>\n",
              "      <td>0</td>\n",
              "      <td>1</td>\n",
              "      <td>2</td>\n",
              "      <td>0</td>\n",
              "      <td>323.000000</td>\n",
              "      <td>323.000000</td>\n",
              "      <td>-1.000000</td>\n",
              "    </tr>\n",
              "    <tr>\n",
              "      <th>1</th>\n",
              "      <td>2</td>\n",
              "      <td>1117</td>\n",
              "      <td>75</td>\n",
              "      <td>22</td>\n",
              "      <td>-999.0</td>\n",
              "      <td>-999.0</td>\n",
              "      <td>22</td>\n",
              "      <td>30510.0</td>\n",
              "      <td>0.0</td>\n",
              "      <td>1</td>\n",
              "      <td>31</td>\n",
              "      <td>1</td>\n",
              "      <td>1</td>\n",
              "      <td>0</td>\n",
              "      <td>0</td>\n",
              "      <td>1</td>\n",
              "      <td>0</td>\n",
              "      <td>0</td>\n",
              "      <td>0</td>\n",
              "      <td>0</td>\n",
              "      <td>0</td>\n",
              "      <td>0</td>\n",
              "      <td>0</td>\n",
              "      <td>4</td>\n",
              "      <td>0</td>\n",
              "      <td>53</td>\n",
              "      <td>406.800000</td>\n",
              "      <td>1386.818182</td>\n",
              "      <td>575.660377</td>\n",
              "    </tr>\n",
              "    <tr>\n",
              "      <th>2</th>\n",
              "      <td>3</td>\n",
              "      <td>3732</td>\n",
              "      <td>32</td>\n",
              "      <td>32</td>\n",
              "      <td>1.0</td>\n",
              "      <td>1.0</td>\n",
              "      <td>19</td>\n",
              "      <td>7450.0</td>\n",
              "      <td>1.0</td>\n",
              "      <td>1</td>\n",
              "      <td>31</td>\n",
              "      <td>1</td>\n",
              "      <td>0</td>\n",
              "      <td>0</td>\n",
              "      <td>1</td>\n",
              "      <td>0</td>\n",
              "      <td>0</td>\n",
              "      <td>0</td>\n",
              "      <td>0</td>\n",
              "      <td>0</td>\n",
              "      <td>0</td>\n",
              "      <td>0</td>\n",
              "      <td>0</td>\n",
              "      <td>1</td>\n",
              "      <td>1</td>\n",
              "      <td>0</td>\n",
              "      <td>232.812500</td>\n",
              "      <td>232.812500</td>\n",
              "      <td>-1.000000</td>\n",
              "    </tr>\n",
              "    <tr>\n",
              "      <th>3</th>\n",
              "      <td>4</td>\n",
              "      <td>4378</td>\n",
              "      <td>52</td>\n",
              "      <td>48</td>\n",
              "      <td>14.0</td>\n",
              "      <td>3.0</td>\n",
              "      <td>19</td>\n",
              "      <td>17780.0</td>\n",
              "      <td>0.0</td>\n",
              "      <td>1</td>\n",
              "      <td>16</td>\n",
              "      <td>1</td>\n",
              "      <td>1</td>\n",
              "      <td>0</td>\n",
              "      <td>1</td>\n",
              "      <td>0</td>\n",
              "      <td>0</td>\n",
              "      <td>0</td>\n",
              "      <td>0</td>\n",
              "      <td>0</td>\n",
              "      <td>0</td>\n",
              "      <td>0</td>\n",
              "      <td>0</td>\n",
              "      <td>3</td>\n",
              "      <td>3</td>\n",
              "      <td>4</td>\n",
              "      <td>341.923077</td>\n",
              "      <td>370.416667</td>\n",
              "      <td>4445.000000</td>\n",
              "    </tr>\n",
              "    <tr>\n",
              "      <th>4</th>\n",
              "      <td>5</td>\n",
              "      <td>2190</td>\n",
              "      <td>44</td>\n",
              "      <td>44</td>\n",
              "      <td>3.0</td>\n",
              "      <td>1.0</td>\n",
              "      <td>16</td>\n",
              "      <td>10404.0</td>\n",
              "      <td>0.0</td>\n",
              "      <td>1</td>\n",
              "      <td>34</td>\n",
              "      <td>0</td>\n",
              "      <td>0</td>\n",
              "      <td>0</td>\n",
              "      <td>0</td>\n",
              "      <td>1</td>\n",
              "      <td>0</td>\n",
              "      <td>0</td>\n",
              "      <td>0</td>\n",
              "      <td>0</td>\n",
              "      <td>0</td>\n",
              "      <td>0</td>\n",
              "      <td>0</td>\n",
              "      <td>2</td>\n",
              "      <td>2</td>\n",
              "      <td>0</td>\n",
              "      <td>236.454545</td>\n",
              "      <td>236.454545</td>\n",
              "      <td>-1.000000</td>\n",
              "    </tr>\n",
              "  </tbody>\n",
              "</table>\n",
              "</div>"
            ],
            "text/plain": [
              "   ID  Region_Code  Upper_Age  Lower_Age  Holding_Policy_Duration  \\\n",
              "0   1         3213         36         36                     14.0   \n",
              "1   2         1117         75         22                   -999.0   \n",
              "2   3         3732         32         32                      1.0   \n",
              "3   4         4378         52         48                     14.0   \n",
              "4   5         2190         44         44                      3.0   \n",
              "\n",
              "   Holding_Policy_Type  Reco_Policy_Cat  Reco_Policy_Premium  Response  \\\n",
              "0                  3.0               22              11628.0       0.0   \n",
              "1               -999.0               22              30510.0       0.0   \n",
              "2                  1.0               19               7450.0       1.0   \n",
              "3                  3.0               19              17780.0       0.0   \n",
              "4                  1.0               16              10404.0       0.0   \n",
              "\n",
              "   is_Train  City_Code  Accomodation_Type  Reco_Insurance_Type  Is_Spouse  X1  \\\n",
              "0         1         22                  0                    0          0   1   \n",
              "1         1         31                  1                    1          0   0   \n",
              "2         1         31                  1                    0          0   1   \n",
              "3         1         16                  1                    1          0   1   \n",
              "4         1         34                  0                    0          0   0   \n",
              "\n",
              "   X2  X3  X4  X5  X6  X7  X8  X9  Upper_Age_bin  Lower_Age_bin  ageDiff  \\\n",
              "0   0   0   0   0   0   0   0   0              1              2        0   \n",
              "1   1   0   0   0   0   0   0   0              4              0       53   \n",
              "2   0   0   0   0   0   0   0   0              1              1        0   \n",
              "3   0   0   0   0   0   0   0   0              3              3        4   \n",
              "4   1   0   0   0   0   0   0   0              2              2        0   \n",
              "\n",
              "   Premium_by_uage  Premium_by_lage  Premium_by_age_Diff  \n",
              "0       323.000000       323.000000            -1.000000  \n",
              "1       406.800000      1386.818182           575.660377  \n",
              "2       232.812500       232.812500            -1.000000  \n",
              "3       341.923077       370.416667          4445.000000  \n",
              "4       236.454545       236.454545            -1.000000  "
            ]
          },
          "metadata": {
            "tags": []
          },
          "execution_count": 38
        }
      ]
    },
    {
      "cell_type": "code",
      "metadata": {
        "id": "4xAPR5caPzHF"
      },
      "source": [
        "final_data['Premium_Ratio_byAge']=final_data['Premium_by_lage']/final_data['Premium_by_uage']"
      ],
      "execution_count": null,
      "outputs": []
    },
    {
      "cell_type": "code",
      "metadata": {
        "id": "5f5Ms37gPzHF",
        "outputId": "4d4facbe-33ba-4f05-81a4-0e4407368190"
      },
      "source": [
        "final_data.head()"
      ],
      "execution_count": null,
      "outputs": [
        {
          "output_type": "execute_result",
          "data": {
            "text/html": [
              "<div>\n",
              "<style scoped>\n",
              "    .dataframe tbody tr th:only-of-type {\n",
              "        vertical-align: middle;\n",
              "    }\n",
              "\n",
              "    .dataframe tbody tr th {\n",
              "        vertical-align: top;\n",
              "    }\n",
              "\n",
              "    .dataframe thead th {\n",
              "        text-align: right;\n",
              "    }\n",
              "</style>\n",
              "<table border=\"1\" class=\"dataframe\">\n",
              "  <thead>\n",
              "    <tr style=\"text-align: right;\">\n",
              "      <th></th>\n",
              "      <th>ID</th>\n",
              "      <th>Region_Code</th>\n",
              "      <th>Upper_Age</th>\n",
              "      <th>Lower_Age</th>\n",
              "      <th>Holding_Policy_Duration</th>\n",
              "      <th>Holding_Policy_Type</th>\n",
              "      <th>Reco_Policy_Cat</th>\n",
              "      <th>Reco_Policy_Premium</th>\n",
              "      <th>Response</th>\n",
              "      <th>is_Train</th>\n",
              "      <th>City_Code</th>\n",
              "      <th>Accomodation_Type</th>\n",
              "      <th>Reco_Insurance_Type</th>\n",
              "      <th>Is_Spouse</th>\n",
              "      <th>X1</th>\n",
              "      <th>X2</th>\n",
              "      <th>X3</th>\n",
              "      <th>X4</th>\n",
              "      <th>X5</th>\n",
              "      <th>X6</th>\n",
              "      <th>X7</th>\n",
              "      <th>X8</th>\n",
              "      <th>X9</th>\n",
              "      <th>Upper_Age_bin</th>\n",
              "      <th>Lower_Age_bin</th>\n",
              "      <th>ageDiff</th>\n",
              "      <th>Premium_by_uage</th>\n",
              "      <th>Premium_by_lage</th>\n",
              "      <th>Premium_by_age_Diff</th>\n",
              "      <th>Premium_Ratio_byAge</th>\n",
              "    </tr>\n",
              "  </thead>\n",
              "  <tbody>\n",
              "    <tr>\n",
              "      <th>0</th>\n",
              "      <td>1</td>\n",
              "      <td>3213</td>\n",
              "      <td>36</td>\n",
              "      <td>36</td>\n",
              "      <td>14.0</td>\n",
              "      <td>3.0</td>\n",
              "      <td>22</td>\n",
              "      <td>11628.0</td>\n",
              "      <td>0.0</td>\n",
              "      <td>1</td>\n",
              "      <td>22</td>\n",
              "      <td>0</td>\n",
              "      <td>0</td>\n",
              "      <td>0</td>\n",
              "      <td>1</td>\n",
              "      <td>0</td>\n",
              "      <td>0</td>\n",
              "      <td>0</td>\n",
              "      <td>0</td>\n",
              "      <td>0</td>\n",
              "      <td>0</td>\n",
              "      <td>0</td>\n",
              "      <td>0</td>\n",
              "      <td>1</td>\n",
              "      <td>2</td>\n",
              "      <td>0</td>\n",
              "      <td>323.000000</td>\n",
              "      <td>323.000000</td>\n",
              "      <td>-1.000000</td>\n",
              "      <td>1.000000</td>\n",
              "    </tr>\n",
              "    <tr>\n",
              "      <th>1</th>\n",
              "      <td>2</td>\n",
              "      <td>1117</td>\n",
              "      <td>75</td>\n",
              "      <td>22</td>\n",
              "      <td>-999.0</td>\n",
              "      <td>-999.0</td>\n",
              "      <td>22</td>\n",
              "      <td>30510.0</td>\n",
              "      <td>0.0</td>\n",
              "      <td>1</td>\n",
              "      <td>31</td>\n",
              "      <td>1</td>\n",
              "      <td>1</td>\n",
              "      <td>0</td>\n",
              "      <td>0</td>\n",
              "      <td>1</td>\n",
              "      <td>0</td>\n",
              "      <td>0</td>\n",
              "      <td>0</td>\n",
              "      <td>0</td>\n",
              "      <td>0</td>\n",
              "      <td>0</td>\n",
              "      <td>0</td>\n",
              "      <td>4</td>\n",
              "      <td>0</td>\n",
              "      <td>53</td>\n",
              "      <td>406.800000</td>\n",
              "      <td>1386.818182</td>\n",
              "      <td>575.660377</td>\n",
              "      <td>3.409091</td>\n",
              "    </tr>\n",
              "    <tr>\n",
              "      <th>2</th>\n",
              "      <td>3</td>\n",
              "      <td>3732</td>\n",
              "      <td>32</td>\n",
              "      <td>32</td>\n",
              "      <td>1.0</td>\n",
              "      <td>1.0</td>\n",
              "      <td>19</td>\n",
              "      <td>7450.0</td>\n",
              "      <td>1.0</td>\n",
              "      <td>1</td>\n",
              "      <td>31</td>\n",
              "      <td>1</td>\n",
              "      <td>0</td>\n",
              "      <td>0</td>\n",
              "      <td>1</td>\n",
              "      <td>0</td>\n",
              "      <td>0</td>\n",
              "      <td>0</td>\n",
              "      <td>0</td>\n",
              "      <td>0</td>\n",
              "      <td>0</td>\n",
              "      <td>0</td>\n",
              "      <td>0</td>\n",
              "      <td>1</td>\n",
              "      <td>1</td>\n",
              "      <td>0</td>\n",
              "      <td>232.812500</td>\n",
              "      <td>232.812500</td>\n",
              "      <td>-1.000000</td>\n",
              "      <td>1.000000</td>\n",
              "    </tr>\n",
              "    <tr>\n",
              "      <th>3</th>\n",
              "      <td>4</td>\n",
              "      <td>4378</td>\n",
              "      <td>52</td>\n",
              "      <td>48</td>\n",
              "      <td>14.0</td>\n",
              "      <td>3.0</td>\n",
              "      <td>19</td>\n",
              "      <td>17780.0</td>\n",
              "      <td>0.0</td>\n",
              "      <td>1</td>\n",
              "      <td>16</td>\n",
              "      <td>1</td>\n",
              "      <td>1</td>\n",
              "      <td>0</td>\n",
              "      <td>1</td>\n",
              "      <td>0</td>\n",
              "      <td>0</td>\n",
              "      <td>0</td>\n",
              "      <td>0</td>\n",
              "      <td>0</td>\n",
              "      <td>0</td>\n",
              "      <td>0</td>\n",
              "      <td>0</td>\n",
              "      <td>3</td>\n",
              "      <td>3</td>\n",
              "      <td>4</td>\n",
              "      <td>341.923077</td>\n",
              "      <td>370.416667</td>\n",
              "      <td>4445.000000</td>\n",
              "      <td>1.083333</td>\n",
              "    </tr>\n",
              "    <tr>\n",
              "      <th>4</th>\n",
              "      <td>5</td>\n",
              "      <td>2190</td>\n",
              "      <td>44</td>\n",
              "      <td>44</td>\n",
              "      <td>3.0</td>\n",
              "      <td>1.0</td>\n",
              "      <td>16</td>\n",
              "      <td>10404.0</td>\n",
              "      <td>0.0</td>\n",
              "      <td>1</td>\n",
              "      <td>34</td>\n",
              "      <td>0</td>\n",
              "      <td>0</td>\n",
              "      <td>0</td>\n",
              "      <td>0</td>\n",
              "      <td>1</td>\n",
              "      <td>0</td>\n",
              "      <td>0</td>\n",
              "      <td>0</td>\n",
              "      <td>0</td>\n",
              "      <td>0</td>\n",
              "      <td>0</td>\n",
              "      <td>0</td>\n",
              "      <td>2</td>\n",
              "      <td>2</td>\n",
              "      <td>0</td>\n",
              "      <td>236.454545</td>\n",
              "      <td>236.454545</td>\n",
              "      <td>-1.000000</td>\n",
              "      <td>1.000000</td>\n",
              "    </tr>\n",
              "  </tbody>\n",
              "</table>\n",
              "</div>"
            ],
            "text/plain": [
              "   ID  Region_Code  Upper_Age  Lower_Age  Holding_Policy_Duration  \\\n",
              "0   1         3213         36         36                     14.0   \n",
              "1   2         1117         75         22                   -999.0   \n",
              "2   3         3732         32         32                      1.0   \n",
              "3   4         4378         52         48                     14.0   \n",
              "4   5         2190         44         44                      3.0   \n",
              "\n",
              "   Holding_Policy_Type  Reco_Policy_Cat  Reco_Policy_Premium  Response  \\\n",
              "0                  3.0               22              11628.0       0.0   \n",
              "1               -999.0               22              30510.0       0.0   \n",
              "2                  1.0               19               7450.0       1.0   \n",
              "3                  3.0               19              17780.0       0.0   \n",
              "4                  1.0               16              10404.0       0.0   \n",
              "\n",
              "   is_Train  City_Code  Accomodation_Type  Reco_Insurance_Type  Is_Spouse  X1  \\\n",
              "0         1         22                  0                    0          0   1   \n",
              "1         1         31                  1                    1          0   0   \n",
              "2         1         31                  1                    0          0   1   \n",
              "3         1         16                  1                    1          0   1   \n",
              "4         1         34                  0                    0          0   0   \n",
              "\n",
              "   X2  X3  X4  X5  X6  X7  X8  X9  Upper_Age_bin  Lower_Age_bin  ageDiff  \\\n",
              "0   0   0   0   0   0   0   0   0              1              2        0   \n",
              "1   1   0   0   0   0   0   0   0              4              0       53   \n",
              "2   0   0   0   0   0   0   0   0              1              1        0   \n",
              "3   0   0   0   0   0   0   0   0              3              3        4   \n",
              "4   1   0   0   0   0   0   0   0              2              2        0   \n",
              "\n",
              "   Premium_by_uage  Premium_by_lage  Premium_by_age_Diff  Premium_Ratio_byAge  \n",
              "0       323.000000       323.000000            -1.000000             1.000000  \n",
              "1       406.800000      1386.818182           575.660377             3.409091  \n",
              "2       232.812500       232.812500            -1.000000             1.000000  \n",
              "3       341.923077       370.416667          4445.000000             1.083333  \n",
              "4       236.454545       236.454545            -1.000000             1.000000  "
            ]
          },
          "metadata": {
            "tags": []
          },
          "execution_count": 40
        }
      ]
    },
    {
      "cell_type": "markdown",
      "metadata": {
        "id": "j0k7isEEPzHG"
      },
      "source": [
        "Know the popularity"
      ]
    },
    {
      "cell_type": "markdown",
      "metadata": {
        "id": "1w1TnhJHPzHG"
      },
      "source": [
        "```\n",
        "def popular_fe(df,x):\n",
        "    num_counts=df[x].value_counts()\n",
        "    feature_Name=str(x)+'_FE'\n",
        "    df[feature_Name]=df[x].map(num_counts)\n",
        "pop_cols=['Reco_Policy_Cat','City_Code','Premium_Ratio_byAge']\n",
        "for i in pop_cols:\n",
        "    popular_fe(final_data,i)\n",
        "```"
      ]
    },
    {
      "cell_type": "code",
      "metadata": {
        "id": "u_2_5dgSPzHG"
      },
      "source": [
        "final_data.drop(['Upper_Age','Lower_Age'],axis=1,inplace=True)"
      ],
      "execution_count": null,
      "outputs": []
    },
    {
      "cell_type": "markdown",
      "metadata": {
        "id": "UA5zWdr_PzHH"
      },
      "source": [
        "Feature Aggregation"
      ]
    },
    {
      "cell_type": "code",
      "metadata": {
        "id": "H-Cd3H7wPzHH"
      },
      "source": [
        "def top_ten(x):\n",
        "    return x.nlargest(10).sum()\n",
        "def bottom_ten(x):\n",
        "    return x.nsmallest(10).sum()\n",
        "def mode(x):\n",
        "     return pd.Series.mode(x)[0]\n",
        " \n",
        "    "
      ],
      "execution_count": null,
      "outputs": []
    },
    {
      "cell_type": "markdown",
      "metadata": {
        "id": "Smy3h811PzHH"
      },
      "source": [
        "\n",
        "For each city and policy recommended find :\n",
        "\n",
        "    - Minimum Premium\n",
        "    - Maximum Premium\n",
        "    - Average Premium\n",
        "    - Standard Deviation in Premium\n",
        "    - Skewness in Premium\n",
        "\n",
        "For each Region and policy recommendation find :\n",
        "\n",
        "    - Minimum Premium\n",
        "    - Maximum Premium\n",
        "    - Average Premium\n",
        "    - Standard Deviation in Premium\n",
        "    - Skewness in Premium\n",
        "    - Top 10 Premium Sum\n",
        "    - Bottom 10 Premium Sum\n",
        "\n",
        "    \n",
        "    \n",
        "For each Region Code find :\n",
        "\n",
        "    - Policy Category Minimum\n",
        "    - Policy Category Mode\n",
        "    - Policy Category Counr\n",
        "    \n",
        "For each spouse category wise policy category :\n",
        "\n",
        "    - Policy Premium Minimum\n",
        "    - Policy Premium Maximum\n",
        "    - Policy Premium Average\n",
        "    - Policy Premium Skew\n",
        "    - Policy Premium Standard Deviation\n",
        "    - Policy Premium Top Ten\n",
        "    - Policy Premium Bottom Ten\n",
        "    \n",
        "For Accomodation Type and Policy Category\n",
        "\n",
        "    - Policy Premium Minimum\n",
        "    - Policy Premium Maximum\n",
        "    - Policy Premium Average\n",
        "    - Policy Premium Skew\n",
        "    - Policy Premium Standard Deviation\n",
        "    - Policy Premium Top Ten\n",
        "    - Policy Premium Bottom Ten\n",
        "\n",
        "For Holding Policy Type and Policy Category :\n",
        "\n",
        "    - Policy Premium Minimum\n",
        "    - Policy Premium Maximum\n",
        "    - Policy Premium Average\n",
        "    - Policy Premium Skew\n",
        "    - Policy Premium Standard Deviation\n",
        "    - Policy Premium Top Ten\n",
        "    - Policy Premium Bottom Ten\n"
      ]
    },
    {
      "cell_type": "code",
      "metadata": {
        "id": "sCL2oVLuPzHI"
      },
      "source": [
        "Agg_recipes=[(['City_Code','Reco_Policy_Cat'],\n",
        "             [\n",
        "                 ('Reco_Policy_Premium','min'),\n",
        "                 ('Reco_Policy_Premium','max'),\n",
        "                 ('Reco_Policy_Premium','mean'),\n",
        "                 ('Reco_Policy_Premium','std'),\n",
        "                 ('Reco_Policy_Premium','skew')\n",
        "             ]),\n",
        "            (['Region_Code','Reco_Policy_Cat'],\n",
        "            [\n",
        "                 ('Reco_Policy_Premium','min'),\n",
        "                 ('Reco_Policy_Premium','max'),\n",
        "                 ('Reco_Policy_Premium','mean'),\n",
        "                 ('Reco_Policy_Premium','std'),\n",
        "                 ('Reco_Policy_Premium','skew'),\n",
        "                 ('Reco_Policy_Premium',top_ten),\n",
        "                 ('Reco_Policy_Premium',bottom_ten)\n",
        "            ]),\n",
        "             (['Region_Code'],\n",
        "             [\n",
        "                 \n",
        "                 ('Reco_Policy_Cat','count'),\n",
        "                 ('Reco_Policy_Cat',mode)\n",
        "                 \n",
        "                 \n",
        "            ]),\n",
        "             (['Is_Spouse','Reco_Policy_Cat'],\n",
        "             [\n",
        "                 ('Reco_Policy_Premium','min'),\n",
        "                 ('Reco_Policy_Premium','max'),\n",
        "                 ('Reco_Policy_Premium','mean'),\n",
        "                 ('Reco_Policy_Premium','std'),\n",
        "                 ('Reco_Policy_Premium','skew'),\n",
        "                 ('Reco_Policy_Premium',top_ten),\n",
        "                 ('Reco_Policy_Premium',bottom_ten)\n",
        "                 \n",
        "             ]),\n",
        "             (['Accomodation_Type','Reco_Policy_Cat'],\n",
        "             [\n",
        "                 ('Reco_Policy_Premium','min'),\n",
        "                 ('Reco_Policy_Premium','max'),\n",
        "                 ('Reco_Policy_Premium','mean'),\n",
        "                 ('Reco_Policy_Premium','std'),\n",
        "                 ('Reco_Policy_Premium','skew'),\n",
        "                 ('Reco_Policy_Premium',top_ten),\n",
        "                 ('Reco_Policy_Premium',bottom_ten)\n",
        "             ]),\n",
        "             (['Holding_Policy_Type','Reco_Policy_Cat'],\n",
        "             [\n",
        "                 ('Reco_Policy_Premium','min'),\n",
        "                 ('Reco_Policy_Premium','max'),\n",
        "                 ('Reco_Policy_Premium','mean'),\n",
        "                 ('Reco_Policy_Premium','std'),\n",
        "                 ('Reco_Policy_Premium','skew'),\n",
        "                 ('Reco_Policy_Premium',top_ten),\n",
        "                 ('Reco_Policy_Premium',bottom_ten)\n",
        "                 \n",
        "             ])\n",
        "            ]"
      ],
      "execution_count": null,
      "outputs": []
    },
    {
      "cell_type": "code",
      "metadata": {
        "id": "MNX34z4XPzHJ",
        "outputId": "3b6b6a95-d878-4f11-97b1-1f54f1dde25e"
      },
      "source": [
        "groupby_aggregate_names=[]\n",
        "for groupby_cols,specs in tqdm(Agg_recipes):\n",
        "    \n",
        "    group_object=final_data.groupby(groupby_cols)\n",
        "    for select , agg in specs:\n",
        "        groupby_aggregate_name='{}_{}_{}'.format('_'.join(groupby_cols),agg,select)\n",
        "        final_data=final_data.merge(group_object[select].agg(agg).reset_index().rename(index=str,columns={select:groupby_aggregate_name})[groupby_cols + [groupby_aggregate_name]],\n",
        "        on=groupby_cols,\n",
        "        how='left')\n",
        "        groupby_aggregate_names.append(groupby_aggregate_name)\n"
      ],
      "execution_count": null,
      "outputs": [
        {
          "output_type": "stream",
          "text": [
            "100%|██████████| 6/6 [00:39<00:00,  6.52s/it]\n"
          ],
          "name": "stderr"
        }
      ]
    },
    {
      "cell_type": "code",
      "metadata": {
        "id": "tb6q_vIvPzHK"
      },
      "source": [
        "cols=final_data.columns.values"
      ],
      "execution_count": null,
      "outputs": []
    },
    {
      "cell_type": "code",
      "metadata": {
        "id": "RWpWwZUxPzHK"
      },
      "source": [
        "c=\"Region_Code_Reco_Policy_Cat_<function top_ten at 0x000002861135DA60>_Reco_Policy_Premium\""
      ],
      "execution_count": null,
      "outputs": []
    },
    {
      "cell_type": "code",
      "metadata": {
        "id": "w1GqMDRqPzHK"
      },
      "source": [
        "match=re.search('function top_ten',c)"
      ],
      "execution_count": null,
      "outputs": []
    },
    {
      "cell_type": "code",
      "metadata": {
        "id": "v07IvreIPzHL",
        "outputId": "e4827a53-ce73-4e0f-b051-1124d9dea7fe"
      },
      "source": [
        "print(match)"
      ],
      "execution_count": null,
      "outputs": [
        {
          "output_type": "stream",
          "text": [
            "<re.Match object; span=(29, 45), match='function top_ten'>\n"
          ],
          "name": "stdout"
        }
      ]
    },
    {
      "cell_type": "code",
      "metadata": {
        "id": "PKOKojgVPzHL"
      },
      "source": [
        "column=[]\n",
        "pattern='function '\n",
        "for i in cols:\n",
        "    search=re.search(pattern,i)\n",
        "    if search !=None:\n",
        "        column.append(i)"
      ],
      "execution_count": null,
      "outputs": []
    },
    {
      "cell_type": "code",
      "metadata": {
        "id": "gWarpsKCPzHM"
      },
      "source": [
        "vals=['Region_Code_Reco_Policy_Cat_top_ten_Reco_Policy_Premium',\n",
        "                          'Region_Code_Reco_Policy_Cat_bottom_ten_Reco_Policy_Premium',\n",
        "                          'Region_Code_mode_Reco_Policy_Cat',\n",
        "                          'Is_Spouse_Reco_Policy_Cat_top_ten_Reco_Policy_Premium',\n",
        "                          'Is_Spouse_Reco_Policy_Cat_bottom_ten_Reco_Policy_Premium',\n",
        "                          'Accomodation_Type_Reco_Policy_Cat_top_ten_Reco_Policy_Premium',\n",
        "                          'Accomodation_Type_Reco_Policy_Cat_bottom_ten_Reco_Policy_Premium',\n",
        "                          'Holding_Policy_Type_Reco_Policy_Cat_top_ten_Reco_Policy_Premium',\n",
        "                          'Holding_Policy_Type_Reco_Policy_Cat_bottom_ten_Reco_Policy_Premium']"
      ],
      "execution_count": null,
      "outputs": []
    },
    {
      "cell_type": "code",
      "metadata": {
        "id": "JT5InoNGPzHN"
      },
      "source": [
        "cl={}\n",
        "for i,j in zip(column,vals):\n",
        "    cl[i]=j\n",
        "    "
      ],
      "execution_count": null,
      "outputs": []
    },
    {
      "cell_type": "code",
      "metadata": {
        "id": "Wm7pgjEWPzHN"
      },
      "source": [
        ""
      ],
      "execution_count": null,
      "outputs": []
    },
    {
      "cell_type": "code",
      "metadata": {
        "id": "eqftR1zzPzHN"
      },
      "source": [
        "final_data.rename(columns=cl,inplace=True)"
      ],
      "execution_count": null,
      "outputs": []
    },
    {
      "cell_type": "code",
      "metadata": {
        "id": "mdo8SJM5PzHO",
        "outputId": "f642ff9b-08fb-42e6-9242-185a64d53d23"
      },
      "source": [
        "final_data.head()"
      ],
      "execution_count": null,
      "outputs": [
        {
          "output_type": "execute_result",
          "data": {
            "text/html": [
              "<div>\n",
              "<style scoped>\n",
              "    .dataframe tbody tr th:only-of-type {\n",
              "        vertical-align: middle;\n",
              "    }\n",
              "\n",
              "    .dataframe tbody tr th {\n",
              "        vertical-align: top;\n",
              "    }\n",
              "\n",
              "    .dataframe thead th {\n",
              "        text-align: right;\n",
              "    }\n",
              "</style>\n",
              "<table border=\"1\" class=\"dataframe\">\n",
              "  <thead>\n",
              "    <tr style=\"text-align: right;\">\n",
              "      <th></th>\n",
              "      <th>ID</th>\n",
              "      <th>Region_Code</th>\n",
              "      <th>Holding_Policy_Duration</th>\n",
              "      <th>Holding_Policy_Type</th>\n",
              "      <th>Reco_Policy_Cat</th>\n",
              "      <th>Reco_Policy_Premium</th>\n",
              "      <th>Response</th>\n",
              "      <th>is_Train</th>\n",
              "      <th>City_Code</th>\n",
              "      <th>Accomodation_Type</th>\n",
              "      <th>Reco_Insurance_Type</th>\n",
              "      <th>Is_Spouse</th>\n",
              "      <th>X1</th>\n",
              "      <th>X2</th>\n",
              "      <th>X3</th>\n",
              "      <th>X4</th>\n",
              "      <th>X5</th>\n",
              "      <th>X6</th>\n",
              "      <th>X7</th>\n",
              "      <th>X8</th>\n",
              "      <th>X9</th>\n",
              "      <th>Upper_Age_bin</th>\n",
              "      <th>Lower_Age_bin</th>\n",
              "      <th>ageDiff</th>\n",
              "      <th>Premium_by_uage</th>\n",
              "      <th>Premium_by_lage</th>\n",
              "      <th>Premium_by_age_Diff</th>\n",
              "      <th>Premium_Ratio_byAge</th>\n",
              "      <th>City_Code_Reco_Policy_Cat_min_Reco_Policy_Premium</th>\n",
              "      <th>City_Code_Reco_Policy_Cat_max_Reco_Policy_Premium</th>\n",
              "      <th>City_Code_Reco_Policy_Cat_mean_Reco_Policy_Premium</th>\n",
              "      <th>City_Code_Reco_Policy_Cat_std_Reco_Policy_Premium</th>\n",
              "      <th>City_Code_Reco_Policy_Cat_skew_Reco_Policy_Premium</th>\n",
              "      <th>Region_Code_Reco_Policy_Cat_min_Reco_Policy_Premium</th>\n",
              "      <th>Region_Code_Reco_Policy_Cat_max_Reco_Policy_Premium</th>\n",
              "      <th>Region_Code_Reco_Policy_Cat_mean_Reco_Policy_Premium</th>\n",
              "      <th>Region_Code_Reco_Policy_Cat_std_Reco_Policy_Premium</th>\n",
              "      <th>Region_Code_Reco_Policy_Cat_skew_Reco_Policy_Premium</th>\n",
              "      <th>Region_Code_Reco_Policy_Cat_top_ten_Reco_Policy_Premium</th>\n",
              "      <th>Region_Code_Reco_Policy_Cat_bottom_ten_Reco_Policy_Premium</th>\n",
              "      <th>Region_Code_count_Reco_Policy_Cat</th>\n",
              "      <th>Region_Code_mode_Reco_Policy_Cat</th>\n",
              "      <th>Is_Spouse_Reco_Policy_Cat_min_Reco_Policy_Premium</th>\n",
              "      <th>Is_Spouse_Reco_Policy_Cat_max_Reco_Policy_Premium</th>\n",
              "      <th>Is_Spouse_Reco_Policy_Cat_mean_Reco_Policy_Premium</th>\n",
              "      <th>Is_Spouse_Reco_Policy_Cat_std_Reco_Policy_Premium</th>\n",
              "      <th>Is_Spouse_Reco_Policy_Cat_skew_Reco_Policy_Premium</th>\n",
              "      <th>Is_Spouse_Reco_Policy_Cat_top_ten_Reco_Policy_Premium</th>\n",
              "      <th>Is_Spouse_Reco_Policy_Cat_bottom_ten_Reco_Policy_Premium</th>\n",
              "      <th>Accomodation_Type_Reco_Policy_Cat_min_Reco_Policy_Premium</th>\n",
              "      <th>Accomodation_Type_Reco_Policy_Cat_max_Reco_Policy_Premium</th>\n",
              "      <th>Accomodation_Type_Reco_Policy_Cat_mean_Reco_Policy_Premium</th>\n",
              "      <th>Accomodation_Type_Reco_Policy_Cat_std_Reco_Policy_Premium</th>\n",
              "      <th>Accomodation_Type_Reco_Policy_Cat_skew_Reco_Policy_Premium</th>\n",
              "      <th>Accomodation_Type_Reco_Policy_Cat_top_ten_Reco_Policy_Premium</th>\n",
              "      <th>Accomodation_Type_Reco_Policy_Cat_bottom_ten_Reco_Policy_Premium</th>\n",
              "      <th>Holding_Policy_Type_Reco_Policy_Cat_min_Reco_Policy_Premium</th>\n",
              "      <th>Holding_Policy_Type_Reco_Policy_Cat_max_Reco_Policy_Premium</th>\n",
              "      <th>Holding_Policy_Type_Reco_Policy_Cat_mean_Reco_Policy_Premium</th>\n",
              "      <th>Holding_Policy_Type_Reco_Policy_Cat_std_Reco_Policy_Premium</th>\n",
              "      <th>Holding_Policy_Type_Reco_Policy_Cat_skew_Reco_Policy_Premium</th>\n",
              "      <th>Holding_Policy_Type_Reco_Policy_Cat_top_ten_Reco_Policy_Premium</th>\n",
              "      <th>Holding_Policy_Type_Reco_Policy_Cat_bottom_ten_Reco_Policy_Premium</th>\n",
              "    </tr>\n",
              "  </thead>\n",
              "  <tbody>\n",
              "    <tr>\n",
              "      <th>0</th>\n",
              "      <td>1</td>\n",
              "      <td>3213</td>\n",
              "      <td>14.0</td>\n",
              "      <td>3.0</td>\n",
              "      <td>22</td>\n",
              "      <td>11628.0</td>\n",
              "      <td>0.0</td>\n",
              "      <td>1</td>\n",
              "      <td>22</td>\n",
              "      <td>0</td>\n",
              "      <td>0</td>\n",
              "      <td>0</td>\n",
              "      <td>1</td>\n",
              "      <td>0</td>\n",
              "      <td>0</td>\n",
              "      <td>0</td>\n",
              "      <td>0</td>\n",
              "      <td>0</td>\n",
              "      <td>0</td>\n",
              "      <td>0</td>\n",
              "      <td>0</td>\n",
              "      <td>1</td>\n",
              "      <td>2</td>\n",
              "      <td>0</td>\n",
              "      <td>323.000000</td>\n",
              "      <td>323.000000</td>\n",
              "      <td>-1.000000</td>\n",
              "      <td>1.000000</td>\n",
              "      <td>2712.0</td>\n",
              "      <td>35037.0</td>\n",
              "      <td>14070.144906</td>\n",
              "      <td>6524.113998</td>\n",
              "      <td>0.782848</td>\n",
              "      <td>11628.0</td>\n",
              "      <td>11628.0</td>\n",
              "      <td>11628.000000</td>\n",
              "      <td>NaN</td>\n",
              "      <td>NaN</td>\n",
              "      <td>11628.0</td>\n",
              "      <td>11628.0</td>\n",
              "      <td>10</td>\n",
              "      <td>21</td>\n",
              "      <td>2464.0</td>\n",
              "      <td>42316.8</td>\n",
              "      <td>12844.677482</td>\n",
              "      <td>5585.664161</td>\n",
              "      <td>0.729565</td>\n",
              "      <td>381585.4</td>\n",
              "      <td>26664.0</td>\n",
              "      <td>2464.0</td>\n",
              "      <td>42256.0</td>\n",
              "      <td>11508.456109</td>\n",
              "      <td>5536.345460</td>\n",
              "      <td>1.153912</td>\n",
              "      <td>365912.6</td>\n",
              "      <td>26908.0</td>\n",
              "      <td>3564.0</td>\n",
              "      <td>42256.0</td>\n",
              "      <td>15732.582955</td>\n",
              "      <td>6512.425453</td>\n",
              "      <td>0.760213</td>\n",
              "      <td>393472.4</td>\n",
              "      <td>38694.0</td>\n",
              "    </tr>\n",
              "    <tr>\n",
              "      <th>1</th>\n",
              "      <td>2</td>\n",
              "      <td>1117</td>\n",
              "      <td>-999.0</td>\n",
              "      <td>-999.0</td>\n",
              "      <td>22</td>\n",
              "      <td>30510.0</td>\n",
              "      <td>0.0</td>\n",
              "      <td>1</td>\n",
              "      <td>31</td>\n",
              "      <td>1</td>\n",
              "      <td>1</td>\n",
              "      <td>0</td>\n",
              "      <td>0</td>\n",
              "      <td>1</td>\n",
              "      <td>0</td>\n",
              "      <td>0</td>\n",
              "      <td>0</td>\n",
              "      <td>0</td>\n",
              "      <td>0</td>\n",
              "      <td>0</td>\n",
              "      <td>0</td>\n",
              "      <td>4</td>\n",
              "      <td>0</td>\n",
              "      <td>53</td>\n",
              "      <td>406.800000</td>\n",
              "      <td>1386.818182</td>\n",
              "      <td>575.660377</td>\n",
              "      <td>3.409091</td>\n",
              "      <td>4074.0</td>\n",
              "      <td>39398.4</td>\n",
              "      <td>13939.150943</td>\n",
              "      <td>6915.153685</td>\n",
              "      <td>0.976274</td>\n",
              "      <td>4074.0</td>\n",
              "      <td>39398.4</td>\n",
              "      <td>17596.550000</td>\n",
              "      <td>9248.842701</td>\n",
              "      <td>0.732180</td>\n",
              "      <td>226504.8</td>\n",
              "      <td>121165.6</td>\n",
              "      <td>21</td>\n",
              "      <td>22</td>\n",
              "      <td>2464.0</td>\n",
              "      <td>42316.8</td>\n",
              "      <td>12844.677482</td>\n",
              "      <td>5585.664161</td>\n",
              "      <td>0.729565</td>\n",
              "      <td>381585.4</td>\n",
              "      <td>26664.0</td>\n",
              "      <td>2756.0</td>\n",
              "      <td>42316.8</td>\n",
              "      <td>16964.571921</td>\n",
              "      <td>6853.286222</td>\n",
              "      <td>0.580590</td>\n",
              "      <td>407712.8</td>\n",
              "      <td>34380.0</td>\n",
              "      <td>2464.0</td>\n",
              "      <td>42012.8</td>\n",
              "      <td>12718.762652</td>\n",
              "      <td>6716.173112</td>\n",
              "      <td>1.023065</td>\n",
              "      <td>387708.8</td>\n",
              "      <td>26664.0</td>\n",
              "    </tr>\n",
              "    <tr>\n",
              "      <th>2</th>\n",
              "      <td>3</td>\n",
              "      <td>3732</td>\n",
              "      <td>1.0</td>\n",
              "      <td>1.0</td>\n",
              "      <td>19</td>\n",
              "      <td>7450.0</td>\n",
              "      <td>1.0</td>\n",
              "      <td>1</td>\n",
              "      <td>31</td>\n",
              "      <td>1</td>\n",
              "      <td>0</td>\n",
              "      <td>0</td>\n",
              "      <td>1</td>\n",
              "      <td>0</td>\n",
              "      <td>0</td>\n",
              "      <td>0</td>\n",
              "      <td>0</td>\n",
              "      <td>0</td>\n",
              "      <td>0</td>\n",
              "      <td>0</td>\n",
              "      <td>0</td>\n",
              "      <td>1</td>\n",
              "      <td>1</td>\n",
              "      <td>0</td>\n",
              "      <td>232.812500</td>\n",
              "      <td>232.812500</td>\n",
              "      <td>-1.000000</td>\n",
              "      <td>1.000000</td>\n",
              "      <td>4410.0</td>\n",
              "      <td>32895.0</td>\n",
              "      <td>14485.746552</td>\n",
              "      <td>5991.594892</td>\n",
              "      <td>0.671089</td>\n",
              "      <td>7450.0</td>\n",
              "      <td>9086.0</td>\n",
              "      <td>8268.000000</td>\n",
              "      <td>1156.826694</td>\n",
              "      <td>NaN</td>\n",
              "      <td>16536.0</td>\n",
              "      <td>16536.0</td>\n",
              "      <td>8</td>\n",
              "      <td>1</td>\n",
              "      <td>2624.0</td>\n",
              "      <td>43046.4</td>\n",
              "      <td>13234.166472</td>\n",
              "      <td>5413.367635</td>\n",
              "      <td>0.681709</td>\n",
              "      <td>370114.6</td>\n",
              "      <td>31034.0</td>\n",
              "      <td>2960.0</td>\n",
              "      <td>43046.4</td>\n",
              "      <td>16714.339386</td>\n",
              "      <td>6454.583281</td>\n",
              "      <td>0.603557</td>\n",
              "      <td>386338.4</td>\n",
              "      <td>38144.0</td>\n",
              "      <td>3822.0</td>\n",
              "      <td>43046.4</td>\n",
              "      <td>15229.894398</td>\n",
              "      <td>5943.634696</td>\n",
              "      <td>0.661052</td>\n",
              "      <td>365056.0</td>\n",
              "      <td>39780.0</td>\n",
              "    </tr>\n",
              "    <tr>\n",
              "      <th>3</th>\n",
              "      <td>4</td>\n",
              "      <td>4378</td>\n",
              "      <td>14.0</td>\n",
              "      <td>3.0</td>\n",
              "      <td>19</td>\n",
              "      <td>17780.0</td>\n",
              "      <td>0.0</td>\n",
              "      <td>1</td>\n",
              "      <td>16</td>\n",
              "      <td>1</td>\n",
              "      <td>1</td>\n",
              "      <td>0</td>\n",
              "      <td>1</td>\n",
              "      <td>0</td>\n",
              "      <td>0</td>\n",
              "      <td>0</td>\n",
              "      <td>0</td>\n",
              "      <td>0</td>\n",
              "      <td>0</td>\n",
              "      <td>0</td>\n",
              "      <td>0</td>\n",
              "      <td>3</td>\n",
              "      <td>3</td>\n",
              "      <td>4</td>\n",
              "      <td>341.923077</td>\n",
              "      <td>370.416667</td>\n",
              "      <td>4445.000000</td>\n",
              "      <td>1.083333</td>\n",
              "      <td>4182.0</td>\n",
              "      <td>43046.4</td>\n",
              "      <td>15636.087059</td>\n",
              "      <td>7030.083929</td>\n",
              "      <td>1.014122</td>\n",
              "      <td>17780.0</td>\n",
              "      <td>17780.0</td>\n",
              "      <td>17780.000000</td>\n",
              "      <td>NaN</td>\n",
              "      <td>NaN</td>\n",
              "      <td>17780.0</td>\n",
              "      <td>17780.0</td>\n",
              "      <td>5</td>\n",
              "      <td>2</td>\n",
              "      <td>2624.0</td>\n",
              "      <td>43046.4</td>\n",
              "      <td>13234.166472</td>\n",
              "      <td>5413.367635</td>\n",
              "      <td>0.681709</td>\n",
              "      <td>370114.6</td>\n",
              "      <td>31034.0</td>\n",
              "      <td>2960.0</td>\n",
              "      <td>43046.4</td>\n",
              "      <td>16714.339386</td>\n",
              "      <td>6454.583281</td>\n",
              "      <td>0.603557</td>\n",
              "      <td>386338.4</td>\n",
              "      <td>38144.0</td>\n",
              "      <td>3930.0</td>\n",
              "      <td>37506.0</td>\n",
              "      <td>16767.614763</td>\n",
              "      <td>6861.891760</td>\n",
              "      <td>0.546000</td>\n",
              "      <td>357690.8</td>\n",
              "      <td>44854.0</td>\n",
              "    </tr>\n",
              "    <tr>\n",
              "      <th>4</th>\n",
              "      <td>5</td>\n",
              "      <td>2190</td>\n",
              "      <td>3.0</td>\n",
              "      <td>1.0</td>\n",
              "      <td>16</td>\n",
              "      <td>10404.0</td>\n",
              "      <td>0.0</td>\n",
              "      <td>1</td>\n",
              "      <td>34</td>\n",
              "      <td>0</td>\n",
              "      <td>0</td>\n",
              "      <td>0</td>\n",
              "      <td>0</td>\n",
              "      <td>1</td>\n",
              "      <td>0</td>\n",
              "      <td>0</td>\n",
              "      <td>0</td>\n",
              "      <td>0</td>\n",
              "      <td>0</td>\n",
              "      <td>0</td>\n",
              "      <td>0</td>\n",
              "      <td>2</td>\n",
              "      <td>2</td>\n",
              "      <td>0</td>\n",
              "      <td>236.454545</td>\n",
              "      <td>236.454545</td>\n",
              "      <td>-1.000000</td>\n",
              "      <td>1.000000</td>\n",
              "      <td>3918.0</td>\n",
              "      <td>34054.4</td>\n",
              "      <td>13360.968966</td>\n",
              "      <td>5558.150586</td>\n",
              "      <td>0.844162</td>\n",
              "      <td>9600.0</td>\n",
              "      <td>22932.0</td>\n",
              "      <td>16309.563636</td>\n",
              "      <td>4823.103865</td>\n",
              "      <td>-0.014696</td>\n",
              "      <td>169805.2</td>\n",
              "      <td>156473.2</td>\n",
              "      <td>14</td>\n",
              "      <td>16</td>\n",
              "      <td>2380.0</td>\n",
              "      <td>37056.0</td>\n",
              "      <td>12900.369070</td>\n",
              "      <td>5385.665273</td>\n",
              "      <td>0.696183</td>\n",
              "      <td>357238.0</td>\n",
              "      <td>31382.0</td>\n",
              "      <td>2724.0</td>\n",
              "      <td>37900.8</td>\n",
              "      <td>11870.718604</td>\n",
              "      <td>5453.511291</td>\n",
              "      <td>1.095127</td>\n",
              "      <td>358831.4</td>\n",
              "      <td>33352.0</td>\n",
              "      <td>3612.0</td>\n",
              "      <td>36665.6</td>\n",
              "      <td>14913.281227</td>\n",
              "      <td>6118.933653</td>\n",
              "      <td>0.792859</td>\n",
              "      <td>362047.2</td>\n",
              "      <td>39510.0</td>\n",
              "    </tr>\n",
              "  </tbody>\n",
              "</table>\n",
              "</div>"
            ],
            "text/plain": [
              "   ID  Region_Code  Holding_Policy_Duration  Holding_Policy_Type  \\\n",
              "0   1         3213                     14.0                  3.0   \n",
              "1   2         1117                   -999.0               -999.0   \n",
              "2   3         3732                      1.0                  1.0   \n",
              "3   4         4378                     14.0                  3.0   \n",
              "4   5         2190                      3.0                  1.0   \n",
              "\n",
              "   Reco_Policy_Cat  Reco_Policy_Premium  Response  is_Train  City_Code  \\\n",
              "0               22              11628.0       0.0         1         22   \n",
              "1               22              30510.0       0.0         1         31   \n",
              "2               19               7450.0       1.0         1         31   \n",
              "3               19              17780.0       0.0         1         16   \n",
              "4               16              10404.0       0.0         1         34   \n",
              "\n",
              "   Accomodation_Type  Reco_Insurance_Type  Is_Spouse  X1  X2  X3  X4  X5  X6  \\\n",
              "0                  0                    0          0   1   0   0   0   0   0   \n",
              "1                  1                    1          0   0   1   0   0   0   0   \n",
              "2                  1                    0          0   1   0   0   0   0   0   \n",
              "3                  1                    1          0   1   0   0   0   0   0   \n",
              "4                  0                    0          0   0   1   0   0   0   0   \n",
              "\n",
              "   X7  X8  X9  Upper_Age_bin  Lower_Age_bin  ageDiff  Premium_by_uage  \\\n",
              "0   0   0   0              1              2        0       323.000000   \n",
              "1   0   0   0              4              0       53       406.800000   \n",
              "2   0   0   0              1              1        0       232.812500   \n",
              "3   0   0   0              3              3        4       341.923077   \n",
              "4   0   0   0              2              2        0       236.454545   \n",
              "\n",
              "   Premium_by_lage  Premium_by_age_Diff  Premium_Ratio_byAge  \\\n",
              "0       323.000000            -1.000000             1.000000   \n",
              "1      1386.818182           575.660377             3.409091   \n",
              "2       232.812500            -1.000000             1.000000   \n",
              "3       370.416667          4445.000000             1.083333   \n",
              "4       236.454545            -1.000000             1.000000   \n",
              "\n",
              "   City_Code_Reco_Policy_Cat_min_Reco_Policy_Premium  \\\n",
              "0                                             2712.0   \n",
              "1                                             4074.0   \n",
              "2                                             4410.0   \n",
              "3                                             4182.0   \n",
              "4                                             3918.0   \n",
              "\n",
              "   City_Code_Reco_Policy_Cat_max_Reco_Policy_Premium  \\\n",
              "0                                            35037.0   \n",
              "1                                            39398.4   \n",
              "2                                            32895.0   \n",
              "3                                            43046.4   \n",
              "4                                            34054.4   \n",
              "\n",
              "   City_Code_Reco_Policy_Cat_mean_Reco_Policy_Premium  \\\n",
              "0                                       14070.144906    \n",
              "1                                       13939.150943    \n",
              "2                                       14485.746552    \n",
              "3                                       15636.087059    \n",
              "4                                       13360.968966    \n",
              "\n",
              "   City_Code_Reco_Policy_Cat_std_Reco_Policy_Premium  \\\n",
              "0                                        6524.113998   \n",
              "1                                        6915.153685   \n",
              "2                                        5991.594892   \n",
              "3                                        7030.083929   \n",
              "4                                        5558.150586   \n",
              "\n",
              "   City_Code_Reco_Policy_Cat_skew_Reco_Policy_Premium  \\\n",
              "0                                           0.782848    \n",
              "1                                           0.976274    \n",
              "2                                           0.671089    \n",
              "3                                           1.014122    \n",
              "4                                           0.844162    \n",
              "\n",
              "   Region_Code_Reco_Policy_Cat_min_Reco_Policy_Premium  \\\n",
              "0                                            11628.0     \n",
              "1                                             4074.0     \n",
              "2                                             7450.0     \n",
              "3                                            17780.0     \n",
              "4                                             9600.0     \n",
              "\n",
              "   Region_Code_Reco_Policy_Cat_max_Reco_Policy_Premium  \\\n",
              "0                                            11628.0     \n",
              "1                                            39398.4     \n",
              "2                                             9086.0     \n",
              "3                                            17780.0     \n",
              "4                                            22932.0     \n",
              "\n",
              "   Region_Code_Reco_Policy_Cat_mean_Reco_Policy_Premium  \\\n",
              "0                                       11628.000000      \n",
              "1                                       17596.550000      \n",
              "2                                        8268.000000      \n",
              "3                                       17780.000000      \n",
              "4                                       16309.563636      \n",
              "\n",
              "   Region_Code_Reco_Policy_Cat_std_Reco_Policy_Premium  \\\n",
              "0                                                NaN     \n",
              "1                                        9248.842701     \n",
              "2                                        1156.826694     \n",
              "3                                                NaN     \n",
              "4                                        4823.103865     \n",
              "\n",
              "   Region_Code_Reco_Policy_Cat_skew_Reco_Policy_Premium  \\\n",
              "0                                                NaN      \n",
              "1                                           0.732180      \n",
              "2                                                NaN      \n",
              "3                                                NaN      \n",
              "4                                          -0.014696      \n",
              "\n",
              "   Region_Code_Reco_Policy_Cat_top_ten_Reco_Policy_Premium  \\\n",
              "0                                            11628.0         \n",
              "1                                           226504.8         \n",
              "2                                            16536.0         \n",
              "3                                            17780.0         \n",
              "4                                           169805.2         \n",
              "\n",
              "   Region_Code_Reco_Policy_Cat_bottom_ten_Reco_Policy_Premium  \\\n",
              "0                                            11628.0            \n",
              "1                                           121165.6            \n",
              "2                                            16536.0            \n",
              "3                                            17780.0            \n",
              "4                                           156473.2            \n",
              "\n",
              "   Region_Code_count_Reco_Policy_Cat  Region_Code_mode_Reco_Policy_Cat  \\\n",
              "0                                 10                                21   \n",
              "1                                 21                                22   \n",
              "2                                  8                                 1   \n",
              "3                                  5                                 2   \n",
              "4                                 14                                16   \n",
              "\n",
              "   Is_Spouse_Reco_Policy_Cat_min_Reco_Policy_Premium  \\\n",
              "0                                             2464.0   \n",
              "1                                             2464.0   \n",
              "2                                             2624.0   \n",
              "3                                             2624.0   \n",
              "4                                             2380.0   \n",
              "\n",
              "   Is_Spouse_Reco_Policy_Cat_max_Reco_Policy_Premium  \\\n",
              "0                                            42316.8   \n",
              "1                                            42316.8   \n",
              "2                                            43046.4   \n",
              "3                                            43046.4   \n",
              "4                                            37056.0   \n",
              "\n",
              "   Is_Spouse_Reco_Policy_Cat_mean_Reco_Policy_Premium  \\\n",
              "0                                       12844.677482    \n",
              "1                                       12844.677482    \n",
              "2                                       13234.166472    \n",
              "3                                       13234.166472    \n",
              "4                                       12900.369070    \n",
              "\n",
              "   Is_Spouse_Reco_Policy_Cat_std_Reco_Policy_Premium  \\\n",
              "0                                        5585.664161   \n",
              "1                                        5585.664161   \n",
              "2                                        5413.367635   \n",
              "3                                        5413.367635   \n",
              "4                                        5385.665273   \n",
              "\n",
              "   Is_Spouse_Reco_Policy_Cat_skew_Reco_Policy_Premium  \\\n",
              "0                                           0.729565    \n",
              "1                                           0.729565    \n",
              "2                                           0.681709    \n",
              "3                                           0.681709    \n",
              "4                                           0.696183    \n",
              "\n",
              "   Is_Spouse_Reco_Policy_Cat_top_ten_Reco_Policy_Premium  \\\n",
              "0                                           381585.4       \n",
              "1                                           381585.4       \n",
              "2                                           370114.6       \n",
              "3                                           370114.6       \n",
              "4                                           357238.0       \n",
              "\n",
              "   Is_Spouse_Reco_Policy_Cat_bottom_ten_Reco_Policy_Premium  \\\n",
              "0                                            26664.0          \n",
              "1                                            26664.0          \n",
              "2                                            31034.0          \n",
              "3                                            31034.0          \n",
              "4                                            31382.0          \n",
              "\n",
              "   Accomodation_Type_Reco_Policy_Cat_min_Reco_Policy_Premium  \\\n",
              "0                                             2464.0           \n",
              "1                                             2756.0           \n",
              "2                                             2960.0           \n",
              "3                                             2960.0           \n",
              "4                                             2724.0           \n",
              "\n",
              "   Accomodation_Type_Reco_Policy_Cat_max_Reco_Policy_Premium  \\\n",
              "0                                            42256.0           \n",
              "1                                            42316.8           \n",
              "2                                            43046.4           \n",
              "3                                            43046.4           \n",
              "4                                            37900.8           \n",
              "\n",
              "   Accomodation_Type_Reco_Policy_Cat_mean_Reco_Policy_Premium  \\\n",
              "0                                       11508.456109            \n",
              "1                                       16964.571921            \n",
              "2                                       16714.339386            \n",
              "3                                       16714.339386            \n",
              "4                                       11870.718604            \n",
              "\n",
              "   Accomodation_Type_Reco_Policy_Cat_std_Reco_Policy_Premium  \\\n",
              "0                                        5536.345460           \n",
              "1                                        6853.286222           \n",
              "2                                        6454.583281           \n",
              "3                                        6454.583281           \n",
              "4                                        5453.511291           \n",
              "\n",
              "   Accomodation_Type_Reco_Policy_Cat_skew_Reco_Policy_Premium  \\\n",
              "0                                           1.153912            \n",
              "1                                           0.580590            \n",
              "2                                           0.603557            \n",
              "3                                           0.603557            \n",
              "4                                           1.095127            \n",
              "\n",
              "   Accomodation_Type_Reco_Policy_Cat_top_ten_Reco_Policy_Premium  \\\n",
              "0                                           365912.6               \n",
              "1                                           407712.8               \n",
              "2                                           386338.4               \n",
              "3                                           386338.4               \n",
              "4                                           358831.4               \n",
              "\n",
              "   Accomodation_Type_Reco_Policy_Cat_bottom_ten_Reco_Policy_Premium  \\\n",
              "0                                            26908.0                  \n",
              "1                                            34380.0                  \n",
              "2                                            38144.0                  \n",
              "3                                            38144.0                  \n",
              "4                                            33352.0                  \n",
              "\n",
              "   Holding_Policy_Type_Reco_Policy_Cat_min_Reco_Policy_Premium  \\\n",
              "0                                             3564.0             \n",
              "1                                             2464.0             \n",
              "2                                             3822.0             \n",
              "3                                             3930.0             \n",
              "4                                             3612.0             \n",
              "\n",
              "   Holding_Policy_Type_Reco_Policy_Cat_max_Reco_Policy_Premium  \\\n",
              "0                                            42256.0             \n",
              "1                                            42012.8             \n",
              "2                                            43046.4             \n",
              "3                                            37506.0             \n",
              "4                                            36665.6             \n",
              "\n",
              "   Holding_Policy_Type_Reco_Policy_Cat_mean_Reco_Policy_Premium  \\\n",
              "0                                       15732.582955              \n",
              "1                                       12718.762652              \n",
              "2                                       15229.894398              \n",
              "3                                       16767.614763              \n",
              "4                                       14913.281227              \n",
              "\n",
              "   Holding_Policy_Type_Reco_Policy_Cat_std_Reco_Policy_Premium  \\\n",
              "0                                        6512.425453             \n",
              "1                                        6716.173112             \n",
              "2                                        5943.634696             \n",
              "3                                        6861.891760             \n",
              "4                                        6118.933653             \n",
              "\n",
              "   Holding_Policy_Type_Reco_Policy_Cat_skew_Reco_Policy_Premium  \\\n",
              "0                                           0.760213              \n",
              "1                                           1.023065              \n",
              "2                                           0.661052              \n",
              "3                                           0.546000              \n",
              "4                                           0.792859              \n",
              "\n",
              "   Holding_Policy_Type_Reco_Policy_Cat_top_ten_Reco_Policy_Premium  \\\n",
              "0                                           393472.4                 \n",
              "1                                           387708.8                 \n",
              "2                                           365056.0                 \n",
              "3                                           357690.8                 \n",
              "4                                           362047.2                 \n",
              "\n",
              "   Holding_Policy_Type_Reco_Policy_Cat_bottom_ten_Reco_Policy_Premium  \n",
              "0                                            38694.0                   \n",
              "1                                            26664.0                   \n",
              "2                                            39780.0                   \n",
              "3                                            44854.0                   \n",
              "4                                            39510.0                   "
            ]
          },
          "metadata": {
            "tags": []
          },
          "execution_count": 53
        }
      ]
    },
    {
      "cell_type": "markdown",
      "metadata": {
        "id": "AwPLb_sLPzHO"
      },
      "source": [
        "Segregate Train and Test Data"
      ]
    },
    {
      "cell_type": "code",
      "metadata": {
        "id": "QJfyYZ-aPzHP"
      },
      "source": [
        "train_data,test_data=final_data[final_data['is_Train']==1],final_data[final_data['is_Train']==0]"
      ],
      "execution_count": null,
      "outputs": []
    },
    {
      "cell_type": "markdown",
      "metadata": {
        "id": "kjCh9jTlPzHP"
      },
      "source": [
        "Drop Columns Response and is_Train from test and is_Train from train"
      ]
    },
    {
      "cell_type": "code",
      "metadata": {
        "id": "sB8aHNXyPzHP",
        "outputId": "cd606c02-f0c7-4028-b7c6-05c8970a0451"
      },
      "source": [
        "train_data.drop(['is_Train'],axis=1,inplace=True)\n",
        "test_data.drop(['is_Train','Response'],axis=1,inplace=True)"
      ],
      "execution_count": null,
      "outputs": [
        {
          "output_type": "stream",
          "text": [
            "D:\\anacond\\lib\\site-packages\\pandas\\core\\frame.py:4163: SettingWithCopyWarning: \n",
            "A value is trying to be set on a copy of a slice from a DataFrame\n",
            "\n",
            "See the caveats in the documentation: https://pandas.pydata.org/pandas-docs/stable/user_guide/indexing.html#returning-a-view-versus-a-copy\n",
            "  return super().drop(\n"
          ],
          "name": "stderr"
        }
      ]
    },
    {
      "cell_type": "markdown",
      "metadata": {
        "id": "Zxh0vbFIPzHQ"
      },
      "source": [
        "Explore Data"
      ]
    },
    {
      "cell_type": "code",
      "metadata": {
        "id": "hgx54yVlPzHQ",
        "outputId": "86028b47-c964-43c1-ed21-0e62a35d1b02"
      },
      "source": [
        "pd.crosstab(train_data['Is_Spouse'],train_data['Response'],normalize='index').sort_values(by=[1],ascending=False)"
      ],
      "execution_count": null,
      "outputs": [
        {
          "output_type": "execute_result",
          "data": {
            "text/html": [
              "<div>\n",
              "<style scoped>\n",
              "    .dataframe tbody tr th:only-of-type {\n",
              "        vertical-align: middle;\n",
              "    }\n",
              "\n",
              "    .dataframe tbody tr th {\n",
              "        vertical-align: top;\n",
              "    }\n",
              "\n",
              "    .dataframe thead th {\n",
              "        text-align: right;\n",
              "    }\n",
              "</style>\n",
              "<table border=\"1\" class=\"dataframe\">\n",
              "  <thead>\n",
              "    <tr style=\"text-align: right;\">\n",
              "      <th>Response</th>\n",
              "      <th>0.0</th>\n",
              "      <th>1.0</th>\n",
              "    </tr>\n",
              "    <tr>\n",
              "      <th>Is_Spouse</th>\n",
              "      <th></th>\n",
              "      <th></th>\n",
              "    </tr>\n",
              "  </thead>\n",
              "  <tbody>\n",
              "    <tr>\n",
              "      <th>1</th>\n",
              "      <td>0.756352</td>\n",
              "      <td>0.243648</td>\n",
              "    </tr>\n",
              "    <tr>\n",
              "      <th>0</th>\n",
              "      <td>0.760787</td>\n",
              "      <td>0.239213</td>\n",
              "    </tr>\n",
              "  </tbody>\n",
              "</table>\n",
              "</div>"
            ],
            "text/plain": [
              "Response        0.0       1.0\n",
              "Is_Spouse                    \n",
              "1          0.756352  0.243648\n",
              "0          0.760787  0.239213"
            ]
          },
          "metadata": {
            "tags": []
          },
          "execution_count": 148
        }
      ]
    },
    {
      "cell_type": "code",
      "metadata": {
        "id": "n6i5GnSlPzHQ",
        "outputId": "1e517d30-4663-4367-b390-3222c6d7cb59"
      },
      "source": [
        "pd.crosstab(train_data['Is_Spouse'],train_data['Response'],normalize='index').sort_values(by=[1],ascending=False).plot(kind='bar')"
      ],
      "execution_count": null,
      "outputs": [
        {
          "output_type": "execute_result",
          "data": {
            "text/plain": [
              "<AxesSubplot:xlabel='Is_Spouse'>"
            ]
          },
          "metadata": {
            "tags": []
          },
          "execution_count": 149
        },
        {
          "output_type": "display_data",
          "data": {
            "image/png": "[encoded data removed]",
            "text/plain": [
              "<Figure size 432x288 with 1 Axes>"
            ]
          },
          "metadata": {
            "tags": [],
            "needs_background": "light"
          }
        }
      ]
    },
    {
      "cell_type": "code",
      "metadata": {
        "id": "j2nTuUN0PzHR",
        "outputId": "69936610-1d3b-4514-e9ee-abd9c1d838fb"
      },
      "source": [
        "pd.crosstab(train_data['City_Code'],train_data['Response'],normalize='index').sort_values(by=[1],ascending=False).head(5)"
      ],
      "execution_count": null,
      "outputs": [
        {
          "output_type": "execute_result",
          "data": {
            "text/html": [
              "<div>\n",
              "<style scoped>\n",
              "    .dataframe tbody tr th:only-of-type {\n",
              "        vertical-align: middle;\n",
              "    }\n",
              "\n",
              "    .dataframe tbody tr th {\n",
              "        vertical-align: top;\n",
              "    }\n",
              "\n",
              "    .dataframe thead th {\n",
              "        text-align: right;\n",
              "    }\n",
              "</style>\n",
              "<table border=\"1\" class=\"dataframe\">\n",
              "  <thead>\n",
              "    <tr style=\"text-align: right;\">\n",
              "      <th>Response</th>\n",
              "      <th>0.0</th>\n",
              "      <th>1.0</th>\n",
              "    </tr>\n",
              "    <tr>\n",
              "      <th>City_Code</th>\n",
              "      <th></th>\n",
              "      <th></th>\n",
              "    </tr>\n",
              "  </thead>\n",
              "  <tbody>\n",
              "    <tr>\n",
              "      <th>23</th>\n",
              "      <td>0.689655</td>\n",
              "      <td>0.310345</td>\n",
              "    </tr>\n",
              "    <tr>\n",
              "      <th>25</th>\n",
              "      <td>0.712500</td>\n",
              "      <td>0.287500</td>\n",
              "    </tr>\n",
              "    <tr>\n",
              "      <th>28</th>\n",
              "      <td>0.714286</td>\n",
              "      <td>0.285714</td>\n",
              "    </tr>\n",
              "    <tr>\n",
              "      <th>27</th>\n",
              "      <td>0.723077</td>\n",
              "      <td>0.276923</td>\n",
              "    </tr>\n",
              "    <tr>\n",
              "      <th>15</th>\n",
              "      <td>0.734242</td>\n",
              "      <td>0.265758</td>\n",
              "    </tr>\n",
              "  </tbody>\n",
              "</table>\n",
              "</div>"
            ],
            "text/plain": [
              "Response        0.0       1.0\n",
              "City_Code                    \n",
              "23         0.689655  0.310345\n",
              "25         0.712500  0.287500\n",
              "28         0.714286  0.285714\n",
              "27         0.723077  0.276923\n",
              "15         0.734242  0.265758"
            ]
          },
          "metadata": {
            "tags": []
          },
          "execution_count": 150
        }
      ]
    },
    {
      "cell_type": "code",
      "metadata": {
        "id": "c9rXhgZTPzHT",
        "outputId": "a7488f95-ba99-49a4-e928-f23250a07261"
      },
      "source": [
        "pd.crosstab(train_data['City_Code'],train_data['Response'],normalize='index').sort_values(by=[1],ascending=False).head(5).plot(kind='bar')"
      ],
      "execution_count": null,
      "outputs": [
        {
          "output_type": "execute_result",
          "data": {
            "text/plain": [
              "<AxesSubplot:xlabel='City_Code'>"
            ]
          },
          "metadata": {
            "tags": []
          },
          "execution_count": 151
        },
        {
          "output_type": "display_data",
          "data": {
            "image/png": "[encoded data removed]",
            "text/plain": [
              "<Figure size 432x288 with 1 Axes>"
            ]
          },
          "metadata": {
            "tags": [],
            "needs_background": "light"
          }
        }
      ]
    },
    {
      "cell_type": "code",
      "metadata": {
        "id": "meBi7v6BPzHU",
        "outputId": "44b135ad-f10f-48dd-cfda-70680626d5e5"
      },
      "source": [
        "pd.crosstab(train_data['Is_Spouse'],train_data['Response'],train_data['Reco_Policy_Premium'],aggfunc='mean',normalize='index')"
      ],
      "execution_count": null,
      "outputs": [
        {
          "output_type": "execute_result",
          "data": {
            "text/html": [
              "<div>\n",
              "<style scoped>\n",
              "    .dataframe tbody tr th:only-of-type {\n",
              "        vertical-align: middle;\n",
              "    }\n",
              "\n",
              "    .dataframe tbody tr th {\n",
              "        vertical-align: top;\n",
              "    }\n",
              "\n",
              "    .dataframe thead th {\n",
              "        text-align: right;\n",
              "    }\n",
              "</style>\n",
              "<table border=\"1\" class=\"dataframe\">\n",
              "  <thead>\n",
              "    <tr style=\"text-align: right;\">\n",
              "      <th>Response</th>\n",
              "      <th>0.0</th>\n",
              "      <th>1.0</th>\n",
              "    </tr>\n",
              "    <tr>\n",
              "      <th>Is_Spouse</th>\n",
              "      <th></th>\n",
              "      <th></th>\n",
              "    </tr>\n",
              "  </thead>\n",
              "  <tbody>\n",
              "    <tr>\n",
              "      <th>0</th>\n",
              "      <td>0.498006</td>\n",
              "      <td>0.501994</td>\n",
              "    </tr>\n",
              "    <tr>\n",
              "      <th>1</th>\n",
              "      <td>0.499480</td>\n",
              "      <td>0.500520</td>\n",
              "    </tr>\n",
              "  </tbody>\n",
              "</table>\n",
              "</div>"
            ],
            "text/plain": [
              "Response        0.0       1.0\n",
              "Is_Spouse                    \n",
              "0          0.498006  0.501994\n",
              "1          0.499480  0.500520"
            ]
          },
          "metadata": {
            "tags": []
          },
          "execution_count": 152
        }
      ]
    },
    {
      "cell_type": "markdown",
      "metadata": {
        "id": "xZNJnhCHPzHV"
      },
      "source": [
        "Average Premium of Is Spouse category per Response type has distribution of 50%:50%. Average Premium per spouse category does not explains target varable, as average premium for all the combinations is .50(Approx)."
      ]
    },
    {
      "cell_type": "code",
      "metadata": {
        "id": "4sw6d6IMPzHV",
        "outputId": "9751fc50-2a9c-4a01-c7ea-84e69409457c"
      },
      "source": [
        "pd.crosstab(train_data['Is_Spouse'],train_data['Response'],train_data['Reco_Policy_Premium'],aggfunc='median',normalize='index')"
      ],
      "execution_count": null,
      "outputs": [
        {
          "output_type": "execute_result",
          "data": {
            "text/html": [
              "<div>\n",
              "<style scoped>\n",
              "    .dataframe tbody tr th:only-of-type {\n",
              "        vertical-align: middle;\n",
              "    }\n",
              "\n",
              "    .dataframe tbody tr th {\n",
              "        vertical-align: top;\n",
              "    }\n",
              "\n",
              "    .dataframe thead th {\n",
              "        text-align: right;\n",
              "    }\n",
              "</style>\n",
              "<table border=\"1\" class=\"dataframe\">\n",
              "  <thead>\n",
              "    <tr style=\"text-align: right;\">\n",
              "      <th>Response</th>\n",
              "      <th>0.0</th>\n",
              "      <th>1.0</th>\n",
              "    </tr>\n",
              "    <tr>\n",
              "      <th>Is_Spouse</th>\n",
              "      <th></th>\n",
              "      <th></th>\n",
              "    </tr>\n",
              "  </thead>\n",
              "  <tbody>\n",
              "    <tr>\n",
              "      <th>0</th>\n",
              "      <td>0.497316</td>\n",
              "      <td>0.502684</td>\n",
              "    </tr>\n",
              "    <tr>\n",
              "      <th>1</th>\n",
              "      <td>0.501002</td>\n",
              "      <td>0.498998</td>\n",
              "    </tr>\n",
              "  </tbody>\n",
              "</table>\n",
              "</div>"
            ],
            "text/plain": [
              "Response        0.0       1.0\n",
              "Is_Spouse                    \n",
              "0          0.497316  0.502684\n",
              "1          0.501002  0.498998"
            ]
          },
          "metadata": {
            "tags": []
          },
          "execution_count": 153
        }
      ]
    },
    {
      "cell_type": "markdown",
      "metadata": {
        "id": "wqFTJCVLPzHW"
      },
      "source": [
        "Average Premium of Is Spouse category per Response type has distribution of 50%:50%. Average Premium per spouse category does not explains target varable, as average premium for all the combinations is .50(Approx)."
      ]
    },
    {
      "cell_type": "code",
      "metadata": {
        "id": "8xYlHxwfPzHW",
        "outputId": "01fce5ed-0505-49ec-d3dc-60bd4d495a5f"
      },
      "source": [
        "pd.crosstab(train_data['Is_Spouse'],train_data['Response'],train_data['Reco_Policy_Premium'],aggfunc='mean',normalize='index').plot(kind='bar')"
      ],
      "execution_count": null,
      "outputs": [
        {
          "output_type": "execute_result",
          "data": {
            "text/plain": [
              "<AxesSubplot:xlabel='Is_Spouse'>"
            ]
          },
          "metadata": {
            "tags": []
          },
          "execution_count": 154
        },
        {
          "output_type": "display_data",
          "data": {
            "image/png": "[encoded data removed]",
            "text/plain": [
              "<Figure size 432x288 with 1 Axes>"
            ]
          },
          "metadata": {
            "tags": [],
            "needs_background": "light"
          }
        }
      ]
    },
    {
      "cell_type": "code",
      "metadata": {
        "id": "9q8Ng9BtPzHW",
        "outputId": "4444379e-074f-4638-c2a6-6a156b399b6e"
      },
      "source": [
        "pd.crosstab(train_data['Holding_Policy_Duration'],train_data['Response'],normalize='index').sort_values(by=[1],ascending=False)[:5]"
      ],
      "execution_count": null,
      "outputs": [
        {
          "output_type": "execute_result",
          "data": {
            "text/html": [
              "<div>\n",
              "<style scoped>\n",
              "    .dataframe tbody tr th:only-of-type {\n",
              "        vertical-align: middle;\n",
              "    }\n",
              "\n",
              "    .dataframe tbody tr th {\n",
              "        vertical-align: top;\n",
              "    }\n",
              "\n",
              "    .dataframe thead th {\n",
              "        text-align: right;\n",
              "    }\n",
              "</style>\n",
              "<table border=\"1\" class=\"dataframe\">\n",
              "  <thead>\n",
              "    <tr style=\"text-align: right;\">\n",
              "      <th>Response</th>\n",
              "      <th>0.0</th>\n",
              "      <th>1.0</th>\n",
              "    </tr>\n",
              "    <tr>\n",
              "      <th>Holding_Policy_Duration</th>\n",
              "      <th></th>\n",
              "      <th></th>\n",
              "    </tr>\n",
              "  </thead>\n",
              "  <tbody>\n",
              "    <tr>\n",
              "      <th>10.0</th>\n",
              "      <td>0.726937</td>\n",
              "      <td>0.273063</td>\n",
              "    </tr>\n",
              "    <tr>\n",
              "      <th>13.0</th>\n",
              "      <td>0.729941</td>\n",
              "      <td>0.270059</td>\n",
              "    </tr>\n",
              "    <tr>\n",
              "      <th>7.0</th>\n",
              "      <td>0.742857</td>\n",
              "      <td>0.257143</td>\n",
              "    </tr>\n",
              "    <tr>\n",
              "      <th>8.0</th>\n",
              "      <td>0.743161</td>\n",
              "      <td>0.256839</td>\n",
              "    </tr>\n",
              "    <tr>\n",
              "      <th>12.0</th>\n",
              "      <td>0.746589</td>\n",
              "      <td>0.253411</td>\n",
              "    </tr>\n",
              "    <tr>\n",
              "      <th>11.0</th>\n",
              "      <td>0.749084</td>\n",
              "      <td>0.250916</td>\n",
              "    </tr>\n",
              "    <tr>\n",
              "      <th>14.0</th>\n",
              "      <td>0.749635</td>\n",
              "      <td>0.250365</td>\n",
              "    </tr>\n",
              "    <tr>\n",
              "      <th>4.0</th>\n",
              "      <td>0.759293</td>\n",
              "      <td>0.240707</td>\n",
              "    </tr>\n",
              "    <tr>\n",
              "      <th>-999.0</th>\n",
              "      <td>0.761049</td>\n",
              "      <td>0.238951</td>\n",
              "    </tr>\n",
              "    <tr>\n",
              "      <th>5.0</th>\n",
              "      <td>0.761643</td>\n",
              "      <td>0.238357</td>\n",
              "    </tr>\n",
              "  </tbody>\n",
              "</table>\n",
              "</div>"
            ],
            "text/plain": [
              "Response                      0.0       1.0\n",
              "Holding_Policy_Duration                    \n",
              " 10.0                    0.726937  0.273063\n",
              " 13.0                    0.729941  0.270059\n",
              " 7.0                     0.742857  0.257143\n",
              " 8.0                     0.743161  0.256839\n",
              " 12.0                    0.746589  0.253411\n",
              " 11.0                    0.749084  0.250916\n",
              " 14.0                    0.749635  0.250365\n",
              " 4.0                     0.759293  0.240707\n",
              "-999.0                   0.761049  0.238951\n",
              " 5.0                     0.761643  0.238357"
            ]
          },
          "metadata": {
            "tags": []
          },
          "execution_count": 155
        }
      ]
    },
    {
      "cell_type": "markdown",
      "metadata": {
        "id": "Xt9HC1j7PzHX"
      },
      "source": [
        "Distribution of Holding Policy Duration to Response type is 75%:25%(Approx). Which states that there is approximately 25% probability for positive response type."
      ]
    },
    {
      "cell_type": "code",
      "metadata": {
        "id": "giwZ46PQPzHX",
        "outputId": "e0e79e7c-71c5-4f34-9ba8-3e038dc7d3b3"
      },
      "source": [
        "pd.crosstab(train_data['Holding_Policy_Duration'],train_data['Response'],train_data['Reco_Policy_Premium'],aggfunc='mean',normalize='index').sort_values(by=[1],ascending=False)[:5]"
      ],
      "execution_count": null,
      "outputs": [
        {
          "output_type": "execute_result",
          "data": {
            "text/html": [
              "<div>\n",
              "<style scoped>\n",
              "    .dataframe tbody tr th:only-of-type {\n",
              "        vertical-align: middle;\n",
              "    }\n",
              "\n",
              "    .dataframe tbody tr th {\n",
              "        vertical-align: top;\n",
              "    }\n",
              "\n",
              "    .dataframe thead th {\n",
              "        text-align: right;\n",
              "    }\n",
              "</style>\n",
              "<table border=\"1\" class=\"dataframe\">\n",
              "  <thead>\n",
              "    <tr style=\"text-align: right;\">\n",
              "      <th>Response</th>\n",
              "      <th>0.0</th>\n",
              "      <th>1.0</th>\n",
              "    </tr>\n",
              "    <tr>\n",
              "      <th>Holding_Policy_Duration</th>\n",
              "      <th></th>\n",
              "      <th></th>\n",
              "    </tr>\n",
              "  </thead>\n",
              "  <tbody>\n",
              "    <tr>\n",
              "      <th>11.0</th>\n",
              "      <td>0.485970</td>\n",
              "      <td>0.514030</td>\n",
              "    </tr>\n",
              "    <tr>\n",
              "      <th>9.0</th>\n",
              "      <td>0.494701</td>\n",
              "      <td>0.505299</td>\n",
              "    </tr>\n",
              "    <tr>\n",
              "      <th>8.0</th>\n",
              "      <td>0.495625</td>\n",
              "      <td>0.504375</td>\n",
              "    </tr>\n",
              "    <tr>\n",
              "      <th>14.0</th>\n",
              "      <td>0.495968</td>\n",
              "      <td>0.504032</td>\n",
              "    </tr>\n",
              "    <tr>\n",
              "      <th>-999.0</th>\n",
              "      <td>0.496185</td>\n",
              "      <td>0.503815</td>\n",
              "    </tr>\n",
              "    <tr>\n",
              "      <th>3.0</th>\n",
              "      <td>0.497857</td>\n",
              "      <td>0.502143</td>\n",
              "    </tr>\n",
              "    <tr>\n",
              "      <th>7.0</th>\n",
              "      <td>0.498797</td>\n",
              "      <td>0.501203</td>\n",
              "    </tr>\n",
              "    <tr>\n",
              "      <th>4.0</th>\n",
              "      <td>0.499473</td>\n",
              "      <td>0.500527</td>\n",
              "    </tr>\n",
              "    <tr>\n",
              "      <th>10.0</th>\n",
              "      <td>0.500613</td>\n",
              "      <td>0.499387</td>\n",
              "    </tr>\n",
              "    <tr>\n",
              "      <th>5.0</th>\n",
              "      <td>0.501405</td>\n",
              "      <td>0.498595</td>\n",
              "    </tr>\n",
              "  </tbody>\n",
              "</table>\n",
              "</div>"
            ],
            "text/plain": [
              "Response                      0.0       1.0\n",
              "Holding_Policy_Duration                    \n",
              " 11.0                    0.485970  0.514030\n",
              " 9.0                     0.494701  0.505299\n",
              " 8.0                     0.495625  0.504375\n",
              " 14.0                    0.495968  0.504032\n",
              "-999.0                   0.496185  0.503815\n",
              " 3.0                     0.497857  0.502143\n",
              " 7.0                     0.498797  0.501203\n",
              " 4.0                     0.499473  0.500527\n",
              " 10.0                    0.500613  0.499387\n",
              " 5.0                     0.501405  0.498595"
            ]
          },
          "metadata": {
            "tags": []
          },
          "execution_count": 156
        }
      ]
    },
    {
      "cell_type": "code",
      "metadata": {
        "id": "UYww1Wm5PzHX",
        "outputId": "82df6f34-9d41-4b46-a6a3-6f80929a5571"
      },
      "source": [
        "pd.crosstab(train_data['Holding_Policy_Type'],train_data['Response'],normalize='index').sort_values(by=[1],ascending=False)"
      ],
      "execution_count": null,
      "outputs": [
        {
          "output_type": "execute_result",
          "data": {
            "text/html": [
              "<div>\n",
              "<style scoped>\n",
              "    .dataframe tbody tr th:only-of-type {\n",
              "        vertical-align: middle;\n",
              "    }\n",
              "\n",
              "    .dataframe tbody tr th {\n",
              "        vertical-align: top;\n",
              "    }\n",
              "\n",
              "    .dataframe thead th {\n",
              "        text-align: right;\n",
              "    }\n",
              "</style>\n",
              "<table border=\"1\" class=\"dataframe\">\n",
              "  <thead>\n",
              "    <tr style=\"text-align: right;\">\n",
              "      <th>Response</th>\n",
              "      <th>0.0</th>\n",
              "      <th>1.0</th>\n",
              "    </tr>\n",
              "    <tr>\n",
              "      <th>Holding_Policy_Type</th>\n",
              "      <th></th>\n",
              "      <th></th>\n",
              "    </tr>\n",
              "  </thead>\n",
              "  <tbody>\n",
              "    <tr>\n",
              "      <th>4.0</th>\n",
              "      <td>0.751797</td>\n",
              "      <td>0.248203</td>\n",
              "    </tr>\n",
              "    <tr>\n",
              "      <th>3.0</th>\n",
              "      <td>0.757738</td>\n",
              "      <td>0.242262</td>\n",
              "    </tr>\n",
              "    <tr>\n",
              "      <th>-999.0</th>\n",
              "      <td>0.761049</td>\n",
              "      <td>0.238951</td>\n",
              "    </tr>\n",
              "    <tr>\n",
              "      <th>2.0</th>\n",
              "      <td>0.762238</td>\n",
              "      <td>0.237762</td>\n",
              "    </tr>\n",
              "    <tr>\n",
              "      <th>1.0</th>\n",
              "      <td>0.764224</td>\n",
              "      <td>0.235776</td>\n",
              "    </tr>\n",
              "  </tbody>\n",
              "</table>\n",
              "</div>"
            ],
            "text/plain": [
              "Response                  0.0       1.0\n",
              "Holding_Policy_Type                    \n",
              " 4.0                 0.751797  0.248203\n",
              " 3.0                 0.757738  0.242262\n",
              "-999.0               0.761049  0.238951\n",
              " 2.0                 0.762238  0.237762\n",
              " 1.0                 0.764224  0.235776"
            ]
          },
          "metadata": {
            "tags": []
          },
          "execution_count": 157
        }
      ]
    },
    {
      "cell_type": "code",
      "metadata": {
        "id": "WF8IWPQTPzHY",
        "outputId": "701f703b-ee54-4192-965f-1d483b0e4964"
      },
      "source": [
        "pd.crosstab(train_data['Reco_Policy_Cat'],train_data['Response'],normalize='index').sort_values(by=[1],ascending=False)[:5]"
      ],
      "execution_count": null,
      "outputs": [
        {
          "output_type": "execute_result",
          "data": {
            "text/html": [
              "<div>\n",
              "<style scoped>\n",
              "    .dataframe tbody tr th:only-of-type {\n",
              "        vertical-align: middle;\n",
              "    }\n",
              "\n",
              "    .dataframe tbody tr th {\n",
              "        vertical-align: top;\n",
              "    }\n",
              "\n",
              "    .dataframe thead th {\n",
              "        text-align: right;\n",
              "    }\n",
              "</style>\n",
              "<table border=\"1\" class=\"dataframe\">\n",
              "  <thead>\n",
              "    <tr style=\"text-align: right;\">\n",
              "      <th>Response</th>\n",
              "      <th>0.0</th>\n",
              "      <th>1.0</th>\n",
              "    </tr>\n",
              "    <tr>\n",
              "      <th>Reco_Policy_Cat</th>\n",
              "      <th></th>\n",
              "      <th></th>\n",
              "    </tr>\n",
              "  </thead>\n",
              "  <tbody>\n",
              "    <tr>\n",
              "      <th>15</th>\n",
              "      <td>0.534365</td>\n",
              "      <td>0.465635</td>\n",
              "    </tr>\n",
              "    <tr>\n",
              "      <th>22</th>\n",
              "      <td>0.671615</td>\n",
              "      <td>0.328385</td>\n",
              "    </tr>\n",
              "    <tr>\n",
              "      <th>12</th>\n",
              "      <td>0.684963</td>\n",
              "      <td>0.315037</td>\n",
              "    </tr>\n",
              "    <tr>\n",
              "      <th>17</th>\n",
              "      <td>0.701544</td>\n",
              "      <td>0.298456</td>\n",
              "    </tr>\n",
              "    <tr>\n",
              "      <th>5</th>\n",
              "      <td>0.709037</td>\n",
              "      <td>0.290963</td>\n",
              "    </tr>\n",
              "  </tbody>\n",
              "</table>\n",
              "</div>"
            ],
            "text/plain": [
              "Response              0.0       1.0\n",
              "Reco_Policy_Cat                    \n",
              "15               0.534365  0.465635\n",
              "22               0.671615  0.328385\n",
              "12               0.684963  0.315037\n",
              "17               0.701544  0.298456\n",
              "5                0.709037  0.290963"
            ]
          },
          "metadata": {
            "tags": []
          },
          "execution_count": 158
        }
      ]
    },
    {
      "cell_type": "code",
      "metadata": {
        "id": "tEW52TFbPzHY",
        "outputId": "2a8c449e-3087-4c49-8db7-338f9afbe38c"
      },
      "source": [
        "pd.crosstab(train_data['Is_Spouse'],train_data['Response'],train_data['Premium_Ratio_byAge'],aggfunc='mean').sort_values(by=[1],ascending=False)"
      ],
      "execution_count": null,
      "outputs": [
        {
          "output_type": "execute_result",
          "data": {
            "text/html": [
              "<div>\n",
              "<style scoped>\n",
              "    .dataframe tbody tr th:only-of-type {\n",
              "        vertical-align: middle;\n",
              "    }\n",
              "\n",
              "    .dataframe tbody tr th {\n",
              "        vertical-align: top;\n",
              "    }\n",
              "\n",
              "    .dataframe thead th {\n",
              "        text-align: right;\n",
              "    }\n",
              "</style>\n",
              "<table border=\"1\" class=\"dataframe\">\n",
              "  <thead>\n",
              "    <tr style=\"text-align: right;\">\n",
              "      <th>Response</th>\n",
              "      <th>0.0</th>\n",
              "      <th>1.0</th>\n",
              "    </tr>\n",
              "    <tr>\n",
              "      <th>Is_Spouse</th>\n",
              "      <th></th>\n",
              "      <th></th>\n",
              "    </tr>\n",
              "  </thead>\n",
              "  <tbody>\n",
              "    <tr>\n",
              "      <th>1</th>\n",
              "      <td>1.262097</td>\n",
              "      <td>1.274921</td>\n",
              "    </tr>\n",
              "    <tr>\n",
              "      <th>0</th>\n",
              "      <td>1.043619</td>\n",
              "      <td>1.051269</td>\n",
              "    </tr>\n",
              "  </tbody>\n",
              "</table>\n",
              "</div>"
            ],
            "text/plain": [
              "Response        0.0       1.0\n",
              "Is_Spouse                    \n",
              "1          1.262097  1.274921\n",
              "0          1.043619  1.051269"
            ]
          },
          "metadata": {
            "tags": []
          },
          "execution_count": 159
        }
      ]
    },
    {
      "cell_type": "markdown",
      "metadata": {
        "id": "oRE121l5PzHY"
      },
      "source": [
        "We notice that within same spouse category it is hard to state difference for each response type, distribution is approximately same. But when we compare the categories of Spouse type , we can see the change in distribution. Which means for non married , the upper age has to spend less in comparison to married. But we can not distinguish for response categories for each spouse type."
      ]
    },
    {
      "cell_type": "code",
      "metadata": {
        "id": "A2MPA9M5PzHZ",
        "outputId": "aeaa3014-ca61-4266-835f-e690fe3f4ed7"
      },
      "source": [
        "sns.displot(train_data['Reco_Policy_Premium'],kind='kde')\n"
      ],
      "execution_count": null,
      "outputs": [
        {
          "output_type": "execute_result",
          "data": {
            "text/plain": [
              "<seaborn.axisgrid.FacetGrid at 0x228b8c4d4f0>"
            ]
          },
          "metadata": {
            "tags": []
          },
          "execution_count": 160
        },
        {
          "output_type": "display_data",
          "data": {
            "image/png": "[encoded data removed]",
            "text/plain": [
              "<Figure size 360x360 with 1 Axes>"
            ]
          },
          "metadata": {
            "tags": [],
            "needs_background": "light"
          }
        }
      ]
    },
    {
      "cell_type": "code",
      "metadata": {
        "id": "LHWiEgfoPzHZ",
        "outputId": "e11f28cf-4347-4530-cfd5-b316faa1063b"
      },
      "source": [
        "sns.kdeplot(train_data['Reco_Policy_Premium'][train_data['Response']==1],label='1')\n",
        "sns.kdeplot(train_data['Reco_Policy_Premium'][train_data['Response']==0],label='0')\n",
        "plt.legend()"
      ],
      "execution_count": null,
      "outputs": [
        {
          "output_type": "execute_result",
          "data": {
            "text/plain": [
              "<matplotlib.legend.Legend at 0x228b8a3dfd0>"
            ]
          },
          "metadata": {
            "tags": []
          },
          "execution_count": 161
        },
        {
          "output_type": "display_data",
          "data": {
            "image/png": "[encoded data removed]",
            "text/plain": [
              "<Figure size 432x288 with 1 Axes>"
            ]
          },
          "metadata": {
            "tags": [],
            "needs_background": "light"
          }
        }
      ]
    },
    {
      "cell_type": "markdown",
      "metadata": {
        "id": "tj8F9M-IPzHZ"
      },
      "source": [
        "We see the premium distribution for response type is almost same, there is no difference in distribution for positive and negative response. Hence it does not help in explaining the Response, both category has equal likelihood."
      ]
    },
    {
      "cell_type": "code",
      "metadata": {
        "id": "EXDogqnSPzHa",
        "outputId": "c6741c92-11c0-47b9-fb29-3407cea112cd"
      },
      "source": [
        "\n",
        "sns.kdeplot(train_data['Premium_Ratio_byAge'][train_data['Response']==1],label='1')\n",
        "sns.kdeplot(train_data['Premium_Ratio_byAge'][train_data['Response']==0],label='0')\n",
        "plt.legend()"
      ],
      "execution_count": null,
      "outputs": [
        {
          "output_type": "execute_result",
          "data": {
            "text/plain": [
              "<matplotlib.legend.Legend at 0x228b868ca90>"
            ]
          },
          "metadata": {
            "tags": []
          },
          "execution_count": 162
        },
        {
          "output_type": "display_data",
          "data": {
            "image/png": "[encoded data removed]",
            "text/plain": [
              "<Figure size 432x288 with 1 Axes>"
            ]
          },
          "metadata": {
            "tags": [],
            "needs_background": "light"
          }
        }
      ]
    },
    {
      "cell_type": "code",
      "metadata": {
        "id": "WGEpi2v4PzHa",
        "outputId": "3b394b29-ee42-4618-fc04-2604bf6c079e"
      },
      "source": [
        "sns.kdeplot(train_data['City_Code_Reco_Policy_Cat_min_Reco_Policy_Premium'][train_data['Response']==1],label='Yes')\n",
        "sns.kdeplot(train_data['City_Code_Reco_Policy_Cat_min_Reco_Policy_Premium'][train_data['Response']==0],label='No')"
      ],
      "execution_count": null,
      "outputs": [
        {
          "output_type": "execute_result",
          "data": {
            "text/plain": [
              "<AxesSubplot:xlabel='City_Code_Reco_Policy_Cat_min_Reco_Policy_Premium', ylabel='Density'>"
            ]
          },
          "metadata": {
            "tags": []
          },
          "execution_count": 163
        },
        {
          "output_type": "display_data",
          "data": {
            "image/png": "[encoded data removed]",
            "text/plain": [
              "<Figure size 432x288 with 1 Axes>"
            ]
          },
          "metadata": {
            "tags": [],
            "needs_background": "light"
          }
        }
      ]
    },
    {
      "cell_type": "markdown",
      "metadata": {
        "id": "0HFBbS-oPzHb"
      },
      "source": [
        "Scaling"
      ]
    },
    {
      "cell_type": "code",
      "metadata": {
        "id": "YOZkWj-pPzHc"
      },
      "source": [
        "train_data.head()"
      ],
      "execution_count": null,
      "outputs": []
    },
    {
      "cell_type": "code",
      "metadata": {
        "id": "6Q9RJZkePzHc"
      },
      "source": [
        "categ_cols=['Holding_Policy_Duration','Holding_Policy_Type','Reco_Policy_Cat','Response','Reco_Insurance_Type','Accomodation_Type','Is_Spouse',\n",
        " 'X1','X2','X3','X4','X5','X6','X7','X8','X9','Upper_Age_bin','Lowe_Age_bin','Region_Code_min_Reco_Policy_Cat','Region_Code_count_Reco_Policy_Cat',\n",
        " 'Region_Code_mode_Reco_Policy_Cat','Region_Code_max_Reco_Policy_Cat']"
      ],
      "execution_count": null,
      "outputs": []
    },
    {
      "cell_type": "code",
      "metadata": {
        "id": "jrBJbQr6PzHc"
      },
      "source": [
        "train_data.drop(['Region_Code','City_Code'],axis=1,inplace=True)\n",
        "train_data.drop('ID',axis=1,inplace=True)"
      ],
      "execution_count": null,
      "outputs": []
    },
    {
      "cell_type": "code",
      "metadata": {
        "id": "PPocf1R1PzHd"
      },
      "source": [
        "cols=train_data.columns"
      ],
      "execution_count": null,
      "outputs": []
    },
    {
      "cell_type": "code",
      "metadata": {
        "id": "jPuk2riBPzHd"
      },
      "source": [
        "num_cols=[]\n",
        "for i in cols:\n",
        "    if i not in categ_cols:\n",
        "        num_cols.append(i)"
      ],
      "execution_count": null,
      "outputs": []
    },
    {
      "cell_type": "code",
      "metadata": {
        "id": "sv-4EH2WPzHd"
      },
      "source": [
        "num_data=train_data[num_cols]"
      ],
      "execution_count": null,
      "outputs": []
    },
    {
      "cell_type": "code",
      "metadata": {
        "id": "sFkUaX_YPzHd"
      },
      "source": [
        "test_data.drop(['Region_Code','City_Code','ID'],axis=1,inplace=True)"
      ],
      "execution_count": null,
      "outputs": []
    },
    {
      "cell_type": "code",
      "metadata": {
        "id": "HyD-fZ8UPzHd"
      },
      "source": [
        "test_num_data=test_data[num_cols]"
      ],
      "execution_count": null,
      "outputs": []
    },
    {
      "cell_type": "code",
      "metadata": {
        "id": "iB4lnJysPzHe"
      },
      "source": [
        "scaler=StandardScaler()\n",
        "num_scaled=scaler.fit_transform(num_data)\n",
        "test_num_sclaed=scaler.transform(test_num_data)"
      ],
      "execution_count": null,
      "outputs": []
    },
    {
      "cell_type": "code",
      "metadata": {
        "id": "G66c77j-PzHe"
      },
      "source": [
        "num_data=pd.DataFrame(num_scaled,columns=num_cols)"
      ],
      "execution_count": null,
      "outputs": []
    },
    {
      "cell_type": "code",
      "metadata": {
        "id": "L4eAPh7MPzHe"
      },
      "source": [
        "test_num_data=pd.DataFrame(test_num_sclaed,columns=num_cols)"
      ],
      "execution_count": null,
      "outputs": []
    },
    {
      "cell_type": "code",
      "metadata": {
        "id": "-c00mhn7PzHe",
        "outputId": "17e030d5-f3c2-4969-8fe5-fd3f42e8ee47"
      },
      "source": [
        "train_data.drop(num_cols,axis=1,inplace=True)\n",
        "test_data.drop(num_cols,axis=1,inplace=True)"
      ],
      "execution_count": null,
      "outputs": [
        {
          "output_type": "stream",
          "text": [
            "D:\\anacond\\lib\\site-packages\\pandas\\core\\frame.py:4163: SettingWithCopyWarning: \n",
            "A value is trying to be set on a copy of a slice from a DataFrame\n",
            "\n",
            "See the caveats in the documentation: https://pandas.pydata.org/pandas-docs/stable/user_guide/indexing.html#returning-a-view-versus-a-copy\n",
            "  return super().drop(\n"
          ],
          "name": "stderr"
        }
      ]
    },
    {
      "cell_type": "code",
      "metadata": {
        "id": "mpUGRSGwPzHf"
      },
      "source": [
        "train_data=pd.concat([num_data,train_data],axis=1)\n",
        "test_data=pd.concat([test_num_data,test_data],axis=1)"
      ],
      "execution_count": null,
      "outputs": []
    },
    {
      "cell_type": "code",
      "metadata": {
        "id": "yq1TkAkKPzHf",
        "outputId": "1cbd6bc2-c894-4207-f47d-cb34a61fcc03"
      },
      "source": [
        "train_data.head()"
      ],
      "execution_count": null,
      "outputs": [
        {
          "output_type": "execute_result",
          "data": {
            "text/html": [
              "<div>\n",
              "<style scoped>\n",
              "    .dataframe tbody tr th:only-of-type {\n",
              "        vertical-align: middle;\n",
              "    }\n",
              "\n",
              "    .dataframe tbody tr th {\n",
              "        vertical-align: top;\n",
              "    }\n",
              "\n",
              "    .dataframe thead th {\n",
              "        text-align: right;\n",
              "    }\n",
              "</style>\n",
              "<table border=\"1\" class=\"dataframe\">\n",
              "  <thead>\n",
              "    <tr style=\"text-align: right;\">\n",
              "      <th></th>\n",
              "      <th>Reco_Policy_Premium</th>\n",
              "      <th>Lower_Age_bin</th>\n",
              "      <th>ageDiff</th>\n",
              "      <th>Premium_by_uage</th>\n",
              "      <th>Premium_by_lage</th>\n",
              "      <th>Premium_by_age_Diff</th>\n",
              "      <th>Premium_Ratio_byAge</th>\n",
              "      <th>City_Code_Reco_Policy_Cat_min_Reco_Policy_Premium</th>\n",
              "      <th>City_Code_Reco_Policy_Cat_max_Reco_Policy_Premium</th>\n",
              "      <th>City_Code_Reco_Policy_Cat_mean_Reco_Policy_Premium</th>\n",
              "      <th>City_Code_Reco_Policy_Cat_std_Reco_Policy_Premium</th>\n",
              "      <th>City_Code_Reco_Policy_Cat_skew_Reco_Policy_Premium</th>\n",
              "      <th>Region_Code_Reco_Policy_Cat_min_Reco_Policy_Premium</th>\n",
              "      <th>Region_Code_Reco_Policy_Cat_max_Reco_Policy_Premium</th>\n",
              "      <th>Region_Code_Reco_Policy_Cat_mean_Reco_Policy_Premium</th>\n",
              "      <th>Region_Code_Reco_Policy_Cat_std_Reco_Policy_Premium</th>\n",
              "      <th>Region_Code_Reco_Policy_Cat_skew_Reco_Policy_Premium</th>\n",
              "      <th>Region_Code_Reco_Policy_Cat_top_ten_Reco_Policy_Premium</th>\n",
              "      <th>Region_Code_Reco_Policy_Cat_bottom_ten_Reco_Policy_Premium</th>\n",
              "      <th>Is_Spouse_Reco_Policy_Cat_min_Reco_Policy_Premium</th>\n",
              "      <th>Is_Spouse_Reco_Policy_Cat_max_Reco_Policy_Premium</th>\n",
              "      <th>Is_Spouse_Reco_Policy_Cat_mean_Reco_Policy_Premium</th>\n",
              "      <th>Is_Spouse_Reco_Policy_Cat_std_Reco_Policy_Premium</th>\n",
              "      <th>Is_Spouse_Reco_Policy_Cat_skew_Reco_Policy_Premium</th>\n",
              "      <th>Is_Spouse_Reco_Policy_Cat_top_ten_Reco_Policy_Premium</th>\n",
              "      <th>Is_Spouse_Reco_Policy_Cat_bottom_ten_Reco_Policy_Premium</th>\n",
              "      <th>Accomodation_Type_Reco_Policy_Cat_min_Reco_Policy_Premium</th>\n",
              "      <th>Accomodation_Type_Reco_Policy_Cat_max_Reco_Policy_Premium</th>\n",
              "      <th>Accomodation_Type_Reco_Policy_Cat_mean_Reco_Policy_Premium</th>\n",
              "      <th>Accomodation_Type_Reco_Policy_Cat_std_Reco_Policy_Premium</th>\n",
              "      <th>Accomodation_Type_Reco_Policy_Cat_skew_Reco_Policy_Premium</th>\n",
              "      <th>Accomodation_Type_Reco_Policy_Cat_top_ten_Reco_Policy_Premium</th>\n",
              "      <th>Accomodation_Type_Reco_Policy_Cat_bottom_ten_Reco_Policy_Premium</th>\n",
              "      <th>Holding_Policy_Type_Reco_Policy_Cat_min_Reco_Policy_Premium</th>\n",
              "      <th>Holding_Policy_Type_Reco_Policy_Cat_max_Reco_Policy_Premium</th>\n",
              "      <th>Holding_Policy_Type_Reco_Policy_Cat_mean_Reco_Policy_Premium</th>\n",
              "      <th>Holding_Policy_Type_Reco_Policy_Cat_std_Reco_Policy_Premium</th>\n",
              "      <th>Holding_Policy_Type_Reco_Policy_Cat_skew_Reco_Policy_Premium</th>\n",
              "      <th>Holding_Policy_Type_Reco_Policy_Cat_top_ten_Reco_Policy_Premium</th>\n",
              "      <th>Holding_Policy_Type_Reco_Policy_Cat_bottom_ten_Reco_Policy_Premium</th>\n",
              "      <th>Holding_Policy_Duration</th>\n",
              "      <th>Holding_Policy_Type</th>\n",
              "      <th>Reco_Policy_Cat</th>\n",
              "      <th>Response</th>\n",
              "      <th>Accomodation_Type</th>\n",
              "      <th>Reco_Insurance_Type</th>\n",
              "      <th>Is_Spouse</th>\n",
              "      <th>X1</th>\n",
              "      <th>X2</th>\n",
              "      <th>X3</th>\n",
              "      <th>X4</th>\n",
              "      <th>X5</th>\n",
              "      <th>X6</th>\n",
              "      <th>X7</th>\n",
              "      <th>X8</th>\n",
              "      <th>X9</th>\n",
              "      <th>Upper_Age_bin</th>\n",
              "      <th>Region_Code_count_Reco_Policy_Cat</th>\n",
              "      <th>Region_Code_mode_Reco_Policy_Cat</th>\n",
              "    </tr>\n",
              "  </thead>\n",
              "  <tbody>\n",
              "    <tr>\n",
              "      <th>0</th>\n",
              "      <td>-0.387852</td>\n",
              "      <td>0.030543</td>\n",
              "      <td>-0.308420</td>\n",
              "      <td>0.046255</td>\n",
              "      <td>-0.160352</td>\n",
              "      <td>-0.325815</td>\n",
              "      <td>-0.254444</td>\n",
              "      <td>-0.764177</td>\n",
              "      <td>-0.114604</td>\n",
              "      <td>-0.071509</td>\n",
              "      <td>0.297683</td>\n",
              "      <td>0.235259</td>\n",
              "      <td>0.588505</td>\n",
              "      <td>-1.274354</td>\n",
              "      <td>-0.602847</td>\n",
              "      <td>NaN</td>\n",
              "      <td>NaN</td>\n",
              "      <td>-1.098984</td>\n",
              "      <td>-1.256705</td>\n",
              "      <td>-0.504860</td>\n",
              "      <td>0.833841</td>\n",
              "      <td>-0.394042</td>\n",
              "      <td>0.021729</td>\n",
              "      <td>0.611900</td>\n",
              "      <td>0.922766</td>\n",
              "      <td>-0.608232</td>\n",
              "      <td>-0.755486</td>\n",
              "      <td>0.845273</td>\n",
              "      <td>-1.105835</td>\n",
              "      <td>-1.006320</td>\n",
              "      <td>1.176782</td>\n",
              "      <td>0.147513</td>\n",
              "      <td>-1.504497</td>\n",
              "      <td>0.479256</td>\n",
              "      <td>1.061709</td>\n",
              "      <td>0.865734</td>\n",
              "      <td>0.476490</td>\n",
              "      <td>-0.298932</td>\n",
              "      <td>1.323858</td>\n",
              "      <td>0.035778</td>\n",
              "      <td>14.0</td>\n",
              "      <td>3.0</td>\n",
              "      <td>22</td>\n",
              "      <td>0.0</td>\n",
              "      <td>0</td>\n",
              "      <td>0</td>\n",
              "      <td>0</td>\n",
              "      <td>1</td>\n",
              "      <td>0</td>\n",
              "      <td>0</td>\n",
              "      <td>0</td>\n",
              "      <td>0</td>\n",
              "      <td>0</td>\n",
              "      <td>0</td>\n",
              "      <td>0</td>\n",
              "      <td>0</td>\n",
              "      <td>1</td>\n",
              "      <td>10</td>\n",
              "      <td>21</td>\n",
              "    </tr>\n",
              "    <tr>\n",
              "      <th>1</th>\n",
              "      <td>2.477394</td>\n",
              "      <td>-1.373350</td>\n",
              "      <td>7.411520</td>\n",
              "      <td>0.956236</td>\n",
              "      <td>5.333453</td>\n",
              "      <td>-0.195775</td>\n",
              "      <td>7.236821</td>\n",
              "      <td>0.697524</td>\n",
              "      <td>0.707205</td>\n",
              "      <td>-0.145928</td>\n",
              "      <td>0.833524</td>\n",
              "      <td>0.979933</td>\n",
              "      <td>-0.893675</td>\n",
              "      <td>2.261469</td>\n",
              "      <td>0.795127</td>\n",
              "      <td>1.454273</td>\n",
              "      <td>0.343933</td>\n",
              "      <td>1.775383</td>\n",
              "      <td>1.195387</td>\n",
              "      <td>-0.504860</td>\n",
              "      <td>0.833841</td>\n",
              "      <td>-0.394042</td>\n",
              "      <td>0.021729</td>\n",
              "      <td>0.611900</td>\n",
              "      <td>0.922766</td>\n",
              "      <td>-0.608232</td>\n",
              "      <td>0.012638</td>\n",
              "      <td>0.866272</td>\n",
              "      <td>1.147877</td>\n",
              "      <td>1.451797</td>\n",
              "      <td>-0.866870</td>\n",
              "      <td>1.478625</td>\n",
              "      <td>0.119406</td>\n",
              "      <td>-1.231516</td>\n",
              "      <td>0.986413</td>\n",
              "      <td>-0.825767</td>\n",
              "      <td>0.943926</td>\n",
              "      <td>0.883018</td>\n",
              "      <td>1.154169</td>\n",
              "      <td>-1.314834</td>\n",
              "      <td>-999.0</td>\n",
              "      <td>-999.0</td>\n",
              "      <td>22</td>\n",
              "      <td>0.0</td>\n",
              "      <td>1</td>\n",
              "      <td>1</td>\n",
              "      <td>0</td>\n",
              "      <td>0</td>\n",
              "      <td>1</td>\n",
              "      <td>0</td>\n",
              "      <td>0</td>\n",
              "      <td>0</td>\n",
              "      <td>0</td>\n",
              "      <td>0</td>\n",
              "      <td>0</td>\n",
              "      <td>0</td>\n",
              "      <td>4</td>\n",
              "      <td>21</td>\n",
              "      <td>22</td>\n",
              "    </tr>\n",
              "    <tr>\n",
              "      <th>2</th>\n",
              "      <td>-1.021842</td>\n",
              "      <td>-0.671403</td>\n",
              "      <td>-0.308420</td>\n",
              "      <td>-0.933087</td>\n",
              "      <td>-0.626101</td>\n",
              "      <td>-0.325815</td>\n",
              "      <td>-0.254444</td>\n",
              "      <td>1.058120</td>\n",
              "      <td>-0.518217</td>\n",
              "      <td>0.164600</td>\n",
              "      <td>-0.432025</td>\n",
              "      <td>-0.195006</td>\n",
              "      <td>-0.231265</td>\n",
              "      <td>-1.598011</td>\n",
              "      <td>-1.389838</td>\n",
              "      <td>-1.884373</td>\n",
              "      <td>NaN</td>\n",
              "      <td>-1.033331</td>\n",
              "      <td>-1.146835</td>\n",
              "      <td>-0.366913</td>\n",
              "      <td>1.067695</td>\n",
              "      <td>-0.280443</td>\n",
              "      <td>-0.320199</td>\n",
              "      <td>0.434512</td>\n",
              "      <td>0.539555</td>\n",
              "      <td>-0.337338</td>\n",
              "      <td>0.549273</td>\n",
              "      <td>1.118268</td>\n",
              "      <td>1.044516</td>\n",
              "      <td>0.707604</td>\n",
              "      <td>-0.785001</td>\n",
              "      <td>0.797965</td>\n",
              "      <td>0.937443</td>\n",
              "      <td>0.880510</td>\n",
              "      <td>1.306419</td>\n",
              "      <td>0.583601</td>\n",
              "      <td>-0.828426</td>\n",
              "      <td>-0.744822</td>\n",
              "      <td>0.487239</td>\n",
              "      <td>0.157703</td>\n",
              "      <td>1.0</td>\n",
              "      <td>1.0</td>\n",
              "      <td>19</td>\n",
              "      <td>1.0</td>\n",
              "      <td>1</td>\n",
              "      <td>0</td>\n",
              "      <td>0</td>\n",
              "      <td>1</td>\n",
              "      <td>0</td>\n",
              "      <td>0</td>\n",
              "      <td>0</td>\n",
              "      <td>0</td>\n",
              "      <td>0</td>\n",
              "      <td>0</td>\n",
              "      <td>0</td>\n",
              "      <td>0</td>\n",
              "      <td>1</td>\n",
              "      <td>8</td>\n",
              "      <td>1</td>\n",
              "    </tr>\n",
              "    <tr>\n",
              "      <th>3</th>\n",
              "      <td>0.545682</td>\n",
              "      <td>0.732490</td>\n",
              "      <td>0.274217</td>\n",
              "      <td>0.251740</td>\n",
              "      <td>0.084519</td>\n",
              "      <td>0.676786</td>\n",
              "      <td>0.004688</td>\n",
              "      <td>0.813430</td>\n",
              "      <td>1.394590</td>\n",
              "      <td>0.818122</td>\n",
              "      <td>0.991012</td>\n",
              "      <td>1.125645</td>\n",
              "      <td>1.795597</td>\n",
              "      <td>-0.491060</td>\n",
              "      <td>0.838096</td>\n",
              "      <td>NaN</td>\n",
              "      <td>NaN</td>\n",
              "      <td>-1.016690</td>\n",
              "      <td>-1.118987</td>\n",
              "      <td>-0.366913</td>\n",
              "      <td>1.067695</td>\n",
              "      <td>-0.280443</td>\n",
              "      <td>-0.320199</td>\n",
              "      <td>0.434512</td>\n",
              "      <td>0.539555</td>\n",
              "      <td>-0.337338</td>\n",
              "      <td>0.549273</td>\n",
              "      <td>1.118268</td>\n",
              "      <td>1.044516</td>\n",
              "      <td>0.707604</td>\n",
              "      <td>-0.785001</td>\n",
              "      <td>0.797965</td>\n",
              "      <td>0.937443</td>\n",
              "      <td>1.048477</td>\n",
              "      <td>-0.408905</td>\n",
              "      <td>1.446644</td>\n",
              "      <td>1.278233</td>\n",
              "      <td>-1.262168</td>\n",
              "      <td>0.270397</td>\n",
              "      <td>0.727363</td>\n",
              "      <td>14.0</td>\n",
              "      <td>3.0</td>\n",
              "      <td>19</td>\n",
              "      <td>0.0</td>\n",
              "      <td>1</td>\n",
              "      <td>1</td>\n",
              "      <td>0</td>\n",
              "      <td>1</td>\n",
              "      <td>0</td>\n",
              "      <td>0</td>\n",
              "      <td>0</td>\n",
              "      <td>0</td>\n",
              "      <td>0</td>\n",
              "      <td>0</td>\n",
              "      <td>0</td>\n",
              "      <td>0</td>\n",
              "      <td>3</td>\n",
              "      <td>5</td>\n",
              "      <td>2</td>\n",
              "    </tr>\n",
              "    <tr>\n",
              "      <th>4</th>\n",
              "      <td>-0.573588</td>\n",
              "      <td>0.030543</td>\n",
              "      <td>-0.308420</td>\n",
              "      <td>-0.893538</td>\n",
              "      <td>-0.607293</td>\n",
              "      <td>-0.325815</td>\n",
              "      <td>-0.254444</td>\n",
              "      <td>0.530105</td>\n",
              "      <td>-0.299753</td>\n",
              "      <td>-0.474400</td>\n",
              "      <td>-1.025972</td>\n",
              "      <td>0.471311</td>\n",
              "      <td>0.190589</td>\n",
              "      <td>0.164910</td>\n",
              "      <td>0.493685</td>\n",
              "      <td>-0.371721</td>\n",
              "      <td>-0.588269</td>\n",
              "      <td>1.016923</td>\n",
              "      <td>1.985777</td>\n",
              "      <td>-0.577282</td>\n",
              "      <td>-0.852374</td>\n",
              "      <td>-0.377799</td>\n",
              "      <td>-0.375176</td>\n",
              "      <td>0.488161</td>\n",
              "      <td>0.109380</td>\n",
              "      <td>-0.315766</td>\n",
              "      <td>-0.071540</td>\n",
              "      <td>-0.658963</td>\n",
              "      <td>-0.956198</td>\n",
              "      <td>-1.160932</td>\n",
              "      <td>0.967240</td>\n",
              "      <td>-0.077985</td>\n",
              "      <td>-0.104011</td>\n",
              "      <td>0.553908</td>\n",
              "      <td>-0.669096</td>\n",
              "      <td>0.405902</td>\n",
              "      <td>-0.426257</td>\n",
              "      <td>-0.152131</td>\n",
              "      <td>0.398656</td>\n",
              "      <td>0.127390</td>\n",
              "      <td>3.0</td>\n",
              "      <td>1.0</td>\n",
              "      <td>16</td>\n",
              "      <td>0.0</td>\n",
              "      <td>0</td>\n",
              "      <td>0</td>\n",
              "      <td>0</td>\n",
              "      <td>0</td>\n",
              "      <td>1</td>\n",
              "      <td>0</td>\n",
              "      <td>0</td>\n",
              "      <td>0</td>\n",
              "      <td>0</td>\n",
              "      <td>0</td>\n",
              "      <td>0</td>\n",
              "      <td>0</td>\n",
              "      <td>2</td>\n",
              "      <td>14</td>\n",
              "      <td>16</td>\n",
              "    </tr>\n",
              "  </tbody>\n",
              "</table>\n",
              "</div>"
            ],
            "text/plain": [
              "   Reco_Policy_Premium  Lower_Age_bin   ageDiff  Premium_by_uage  \\\n",
              "0            -0.387852       0.030543 -0.308420         0.046255   \n",
              "1             2.477394      -1.373350  7.411520         0.956236   \n",
              "2            -1.021842      -0.671403 -0.308420        -0.933087   \n",
              "3             0.545682       0.732490  0.274217         0.251740   \n",
              "4            -0.573588       0.030543 -0.308420        -0.893538   \n",
              "\n",
              "   Premium_by_lage  Premium_by_age_Diff  Premium_Ratio_byAge  \\\n",
              "0        -0.160352            -0.325815            -0.254444   \n",
              "1         5.333453            -0.195775             7.236821   \n",
              "2        -0.626101            -0.325815            -0.254444   \n",
              "3         0.084519             0.676786             0.004688   \n",
              "4        -0.607293            -0.325815            -0.254444   \n",
              "\n",
              "   City_Code_Reco_Policy_Cat_min_Reco_Policy_Premium  \\\n",
              "0                                          -0.764177   \n",
              "1                                           0.697524   \n",
              "2                                           1.058120   \n",
              "3                                           0.813430   \n",
              "4                                           0.530105   \n",
              "\n",
              "   City_Code_Reco_Policy_Cat_max_Reco_Policy_Premium  \\\n",
              "0                                          -0.114604   \n",
              "1                                           0.707205   \n",
              "2                                          -0.518217   \n",
              "3                                           1.394590   \n",
              "4                                          -0.299753   \n",
              "\n",
              "   City_Code_Reco_Policy_Cat_mean_Reco_Policy_Premium  \\\n",
              "0                                          -0.071509    \n",
              "1                                          -0.145928    \n",
              "2                                           0.164600    \n",
              "3                                           0.818122    \n",
              "4                                          -0.474400    \n",
              "\n",
              "   City_Code_Reco_Policy_Cat_std_Reco_Policy_Premium  \\\n",
              "0                                           0.297683   \n",
              "1                                           0.833524   \n",
              "2                                          -0.432025   \n",
              "3                                           0.991012   \n",
              "4                                          -1.025972   \n",
              "\n",
              "   City_Code_Reco_Policy_Cat_skew_Reco_Policy_Premium  \\\n",
              "0                                           0.235259    \n",
              "1                                           0.979933    \n",
              "2                                          -0.195006    \n",
              "3                                           1.125645    \n",
              "4                                           0.471311    \n",
              "\n",
              "   Region_Code_Reco_Policy_Cat_min_Reco_Policy_Premium  \\\n",
              "0                                           0.588505     \n",
              "1                                          -0.893675     \n",
              "2                                          -0.231265     \n",
              "3                                           1.795597     \n",
              "4                                           0.190589     \n",
              "\n",
              "   Region_Code_Reco_Policy_Cat_max_Reco_Policy_Premium  \\\n",
              "0                                          -1.274354     \n",
              "1                                           2.261469     \n",
              "2                                          -1.598011     \n",
              "3                                          -0.491060     \n",
              "4                                           0.164910     \n",
              "\n",
              "   Region_Code_Reco_Policy_Cat_mean_Reco_Policy_Premium  \\\n",
              "0                                          -0.602847      \n",
              "1                                           0.795127      \n",
              "2                                          -1.389838      \n",
              "3                                           0.838096      \n",
              "4                                           0.493685      \n",
              "\n",
              "   Region_Code_Reco_Policy_Cat_std_Reco_Policy_Premium  \\\n",
              "0                                                NaN     \n",
              "1                                           1.454273     \n",
              "2                                          -1.884373     \n",
              "3                                                NaN     \n",
              "4                                          -0.371721     \n",
              "\n",
              "   Region_Code_Reco_Policy_Cat_skew_Reco_Policy_Premium  \\\n",
              "0                                                NaN      \n",
              "1                                           0.343933      \n",
              "2                                                NaN      \n",
              "3                                                NaN      \n",
              "4                                          -0.588269      \n",
              "\n",
              "   Region_Code_Reco_Policy_Cat_top_ten_Reco_Policy_Premium  \\\n",
              "0                                          -1.098984         \n",
              "1                                           1.775383         \n",
              "2                                          -1.033331         \n",
              "3                                          -1.016690         \n",
              "4                                           1.016923         \n",
              "\n",
              "   Region_Code_Reco_Policy_Cat_bottom_ten_Reco_Policy_Premium  \\\n",
              "0                                          -1.256705            \n",
              "1                                           1.195387            \n",
              "2                                          -1.146835            \n",
              "3                                          -1.118987            \n",
              "4                                           1.985777            \n",
              "\n",
              "   Is_Spouse_Reco_Policy_Cat_min_Reco_Policy_Premium  \\\n",
              "0                                          -0.504860   \n",
              "1                                          -0.504860   \n",
              "2                                          -0.366913   \n",
              "3                                          -0.366913   \n",
              "4                                          -0.577282   \n",
              "\n",
              "   Is_Spouse_Reco_Policy_Cat_max_Reco_Policy_Premium  \\\n",
              "0                                           0.833841   \n",
              "1                                           0.833841   \n",
              "2                                           1.067695   \n",
              "3                                           1.067695   \n",
              "4                                          -0.852374   \n",
              "\n",
              "   Is_Spouse_Reco_Policy_Cat_mean_Reco_Policy_Premium  \\\n",
              "0                                          -0.394042    \n",
              "1                                          -0.394042    \n",
              "2                                          -0.280443    \n",
              "3                                          -0.280443    \n",
              "4                                          -0.377799    \n",
              "\n",
              "   Is_Spouse_Reco_Policy_Cat_std_Reco_Policy_Premium  \\\n",
              "0                                           0.021729   \n",
              "1                                           0.021729   \n",
              "2                                          -0.320199   \n",
              "3                                          -0.320199   \n",
              "4                                          -0.375176   \n",
              "\n",
              "   Is_Spouse_Reco_Policy_Cat_skew_Reco_Policy_Premium  \\\n",
              "0                                           0.611900    \n",
              "1                                           0.611900    \n",
              "2                                           0.434512    \n",
              "3                                           0.434512    \n",
              "4                                           0.488161    \n",
              "\n",
              "   Is_Spouse_Reco_Policy_Cat_top_ten_Reco_Policy_Premium  \\\n",
              "0                                           0.922766       \n",
              "1                                           0.922766       \n",
              "2                                           0.539555       \n",
              "3                                           0.539555       \n",
              "4                                           0.109380       \n",
              "\n",
              "   Is_Spouse_Reco_Policy_Cat_bottom_ten_Reco_Policy_Premium  \\\n",
              "0                                          -0.608232          \n",
              "1                                          -0.608232          \n",
              "2                                          -0.337338          \n",
              "3                                          -0.337338          \n",
              "4                                          -0.315766          \n",
              "\n",
              "   Accomodation_Type_Reco_Policy_Cat_min_Reco_Policy_Premium  \\\n",
              "0                                          -0.755486           \n",
              "1                                           0.012638           \n",
              "2                                           0.549273           \n",
              "3                                           0.549273           \n",
              "4                                          -0.071540           \n",
              "\n",
              "   Accomodation_Type_Reco_Policy_Cat_max_Reco_Policy_Premium  \\\n",
              "0                                           0.845273           \n",
              "1                                           0.866272           \n",
              "2                                           1.118268           \n",
              "3                                           1.118268           \n",
              "4                                          -0.658963           \n",
              "\n",
              "   Accomodation_Type_Reco_Policy_Cat_mean_Reco_Policy_Premium  \\\n",
              "0                                          -1.105835            \n",
              "1                                           1.147877            \n",
              "2                                           1.044516            \n",
              "3                                           1.044516            \n",
              "4                                          -0.956198            \n",
              "\n",
              "   Accomodation_Type_Reco_Policy_Cat_std_Reco_Policy_Premium  \\\n",
              "0                                          -1.006320           \n",
              "1                                           1.451797           \n",
              "2                                           0.707604           \n",
              "3                                           0.707604           \n",
              "4                                          -1.160932           \n",
              "\n",
              "   Accomodation_Type_Reco_Policy_Cat_skew_Reco_Policy_Premium  \\\n",
              "0                                           1.176782            \n",
              "1                                          -0.866870            \n",
              "2                                          -0.785001            \n",
              "3                                          -0.785001            \n",
              "4                                           0.967240            \n",
              "\n",
              "   Accomodation_Type_Reco_Policy_Cat_top_ten_Reco_Policy_Premium  \\\n",
              "0                                           0.147513               \n",
              "1                                           1.478625               \n",
              "2                                           0.797965               \n",
              "3                                           0.797965               \n",
              "4                                          -0.077985               \n",
              "\n",
              "   Accomodation_Type_Reco_Policy_Cat_bottom_ten_Reco_Policy_Premium  \\\n",
              "0                                          -1.504497                  \n",
              "1                                           0.119406                  \n",
              "2                                           0.937443                  \n",
              "3                                           0.937443                  \n",
              "4                                          -0.104011                  \n",
              "\n",
              "   Holding_Policy_Type_Reco_Policy_Cat_min_Reco_Policy_Premium  \\\n",
              "0                                           0.479256             \n",
              "1                                          -1.231516             \n",
              "2                                           0.880510             \n",
              "3                                           1.048477             \n",
              "4                                           0.553908             \n",
              "\n",
              "   Holding_Policy_Type_Reco_Policy_Cat_max_Reco_Policy_Premium  \\\n",
              "0                                           1.061709             \n",
              "1                                           0.986413             \n",
              "2                                           1.306419             \n",
              "3                                          -0.408905             \n",
              "4                                          -0.669096             \n",
              "\n",
              "   Holding_Policy_Type_Reco_Policy_Cat_mean_Reco_Policy_Premium  \\\n",
              "0                                           0.865734              \n",
              "1                                          -0.825767              \n",
              "2                                           0.583601              \n",
              "3                                           1.446644              \n",
              "4                                           0.405902              \n",
              "\n",
              "   Holding_Policy_Type_Reco_Policy_Cat_std_Reco_Policy_Premium  \\\n",
              "0                                           0.476490             \n",
              "1                                           0.943926             \n",
              "2                                          -0.828426             \n",
              "3                                           1.278233             \n",
              "4                                          -0.426257             \n",
              "\n",
              "   Holding_Policy_Type_Reco_Policy_Cat_skew_Reco_Policy_Premium  \\\n",
              "0                                          -0.298932              \n",
              "1                                           0.883018              \n",
              "2                                          -0.744822              \n",
              "3                                          -1.262168              \n",
              "4                                          -0.152131              \n",
              "\n",
              "   Holding_Policy_Type_Reco_Policy_Cat_top_ten_Reco_Policy_Premium  \\\n",
              "0                                           1.323858                 \n",
              "1                                           1.154169                 \n",
              "2                                           0.487239                 \n",
              "3                                           0.270397                 \n",
              "4                                           0.398656                 \n",
              "\n",
              "   Holding_Policy_Type_Reco_Policy_Cat_bottom_ten_Reco_Policy_Premium  \\\n",
              "0                                           0.035778                    \n",
              "1                                          -1.314834                    \n",
              "2                                           0.157703                    \n",
              "3                                           0.727363                    \n",
              "4                                           0.127390                    \n",
              "\n",
              "   Holding_Policy_Duration  Holding_Policy_Type  Reco_Policy_Cat  Response  \\\n",
              "0                     14.0                  3.0               22       0.0   \n",
              "1                   -999.0               -999.0               22       0.0   \n",
              "2                      1.0                  1.0               19       1.0   \n",
              "3                     14.0                  3.0               19       0.0   \n",
              "4                      3.0                  1.0               16       0.0   \n",
              "\n",
              "   Accomodation_Type  Reco_Insurance_Type  Is_Spouse  X1  X2  X3  X4  X5  X6  \\\n",
              "0                  0                    0          0   1   0   0   0   0   0   \n",
              "1                  1                    1          0   0   1   0   0   0   0   \n",
              "2                  1                    0          0   1   0   0   0   0   0   \n",
              "3                  1                    1          0   1   0   0   0   0   0   \n",
              "4                  0                    0          0   0   1   0   0   0   0   \n",
              "\n",
              "   X7  X8  X9  Upper_Age_bin  Region_Code_count_Reco_Policy_Cat  \\\n",
              "0   0   0   0              1                                 10   \n",
              "1   0   0   0              4                                 21   \n",
              "2   0   0   0              1                                  8   \n",
              "3   0   0   0              3                                  5   \n",
              "4   0   0   0              2                                 14   \n",
              "\n",
              "   Region_Code_mode_Reco_Policy_Cat  \n",
              "0                                21  \n",
              "1                                22  \n",
              "2                                 1  \n",
              "3                                 2  \n",
              "4                                16  "
            ]
          },
          "metadata": {
            "tags": []
          },
          "execution_count": 68
        }
      ]
    },
    {
      "cell_type": "code",
      "metadata": {
        "id": "AJ_0f5XDPzHf"
      },
      "source": [
        "train_y=train_data[['Response']]\n",
        "train_data.drop('Response',axis=1,inplace=True)"
      ],
      "execution_count": null,
      "outputs": []
    },
    {
      "cell_type": "code",
      "metadata": {
        "id": "SS6VPRWAPzHg"
      },
      "source": [
        ""
      ],
      "execution_count": null,
      "outputs": []
    },
    {
      "cell_type": "code",
      "metadata": {
        "id": "6p3D5f1lPzHg"
      },
      "source": [
        ""
      ],
      "execution_count": null,
      "outputs": []
    },
    {
      "cell_type": "markdown",
      "metadata": {
        "id": "dCPOgWkwPzHg"
      },
      "source": [
        "Modeling"
      ]
    },
    {
      "cell_type": "markdown",
      "metadata": {
        "id": "wj6CxjL_PzHg"
      },
      "source": [
        "For heavily unbalanced datasets such as 1:10000:\n",
        "\n",
        "max_bin: keep it only for memory pressure, not to tune (otherwise overfitting)\n",
        "\n",
        "learning rate: keep it only for training speed, not to tune (otherwise overfitting)\n",
        "\n",
        "n_estimators: must be infinite (like 9999999) and use early stopping to auto-tune (otherwise overfitting)\n",
        "\n",
        "num_leaves: [7, 4095]\n",
        "\n",
        "max_depth: [2, 63] and infinite (I personally saw metric performance increases with such 63 depth with small number of leaves on sparse unbalanced datasets)\n",
        "\n",
        "scale_pos_weight: [1, 10000] (if over 10000, something might be wrong because I never saw it that good after 5000)\n",
        "\n",
        "min_child_weight: [0.01, (sample size / 1000)] if you are using logloss (think about the hessian possible value range before putting \"sample size / 1000\", it is dataset-dependent and loss-dependent)\n",
        "\n",
        "subsample: [0.4, 1]\n",
        "\n",
        "bagging_freq: only 1, keep as is (otherwise overfitting)\n",
        "\n",
        "colsample_bytree: [0.4, 1]\n",
        "\n",
        "is_unbalance: false (make your own weighting with scale_pos_weight)\n",
        "\n",
        "USE A CUSTOM METRIC (to reflect reality without weighting, otherwise you have weights inside your metric with premade metrics like xgboost)\n",
        "\n",
        "Never tune these parameters unless you have an explicit requirement to tune them:\n",
        "\n",
        "Learning rate (lower means longer to train but more accurate, higher means smaller to train but less accurate)\n",
        "\n",
        "Number of boosting iterations (automatically tuned with early stopping and learning rate)\n",
        "\n",
        "Maximum number of bins (RAM dependent)"
      ]
    },
    {
      "cell_type": "code",
      "metadata": {
        "id": "tvxVE3LNPzHh"
      },
      "source": [
        "err = [] \n",
        "\n",
        "\n",
        "Folds=8\n",
        "\n",
        "\n",
        "evals_result={}\n",
        "params={'learning_rate':.04,'lambda_l2':2.88,\n",
        "              'max_depth':12,\n",
        "              'num_leaves':15,\n",
        "              'min_data_in_leaf':30,\n",
        "              'feature_fraction':.8,\n",
        "              'subsample':.7,'boosting':'goss','objective':'binary','scale_pos_weight':3.2,'metric':['auc']}\n",
        "x=X_train.copy()\n",
        "y=y_train.copy()\n",
        "\n",
        "oofs = np.zeros(shape=(len(x)))\n",
        "preds = np.zeros(shape=(len(X_val)))\n",
        "fold = StratifiedKFold(n_splits=Folds, shuffle=True, random_state=2020)\n",
        "i = 1\n",
        "for train_index, test_index in fold.split(x, y):\n",
        "    x_train, x_val = x.iloc[train_index], x.iloc[test_index]\n",
        "    y_train, y_val = y.iloc[train_index], y.iloc[test_index]\n",
        "    tdata=lgb.Dataset(x_train,label=y_train)\n",
        "    vdata=lgb.Dataset(x_val,label=y_val,reference=tdata)\n",
        "    model=lgb.train(params,tdata,num_boost_round=90000,early_stopping_rounds=15,valid_sets=[tdata,vdata],valid_names=['train','valid'],evals_result=evals_result,verbose_eval=False)\n",
        "    pred_y = model.predict_proba(x_val)[:,1]\n",
        "    oofs[test_index] = pred_y\n",
        "    print(i, \" err_lgm: \", roc_auc_score(y_val,pred_y))\n",
        "    err.append(roc_auc_score(y_val,pred_y))\n",
        "    preds+= model.predict_proba(X_val)[:,1]\n",
        "    i = i + 1\n",
        "preds=preds/Folds\n",
        "    \n",
        "print(f\"Average StratifiedKFold Score : {sum(err)/Folds} \")\n",
        "oof_score = roc_auc_score(y, oofs)\n",
        "oofval_score=roc_auc_score(Y_val,preds)\n",
        "print(f'\\nOOF Auc is : {oof_score}')\n",
        "print(f'\\nOOF Auc is : {oofval_score}')\n",
        "    \n",
        "oofs=pd.DataFrame(oofs,columns=['lgbmoof'])\n",
        "preds=pd.DataFrame(preds,columns=['lgbmpred'])  \n"
      ],
      "execution_count": null,
      "outputs": []
    },
    {
      "cell_type": "code",
      "metadata": {
        "id": "yimi5-9SPzHh",
        "outputId": "a2062a2f-eb28-48e4-b0c6-135bec6e9ad1"
      },
      "source": [
        "X_train,X_val,y_train,Y_val=tts(train_data,train_y,test_size=.20,random_state=0)\n",
        "y_train['Response'],Y_val['Response']=y_train['Response'].astype('int64'),Y_val['Response'].astype('int64')\n",
        "\n",
        "\n",
        "err = [] \n",
        "\n",
        "\n",
        "Folds=8\n",
        "\n",
        "\n",
        "evals_result={}\n",
        "params={'learning_rate':.04,\n",
        "              'max_depth':12,\n",
        "              'num_leaves':15,\n",
        "              'min_child_samples':30,\n",
        "              'colsample_bytree':.8,\n",
        "              'subsample':.1,'boosting_type':'goss','objective':'binary','scale_pos_weight':3.2,'metric':['auc'],'n_estimators':99999}\n",
        "x=X_train.copy()\n",
        "y=y_train.copy()\n",
        "\n",
        "oofs = np.zeros(shape=(len(x)))\n",
        "preds = np.zeros(shape=(len(X_val)))\n",
        "fold = StratifiedKFold(n_splits=Folds, shuffle=True, random_state=2020)\n",
        "i = 1\n",
        "for train_index, test_index in fold.split(x, y):\n",
        "    x_train, x_val = x.iloc[train_index], x.iloc[test_index]\n",
        "    y_train, y_val = y.iloc[train_index], y.iloc[test_index]\n",
        "    model=LGBMClassifier(**params)\n",
        "    model.fit(np.asarray(x_train),np.asarray(y_train).ravel(),eval_set=[(np.asarray(x_train),np.asarray(y_train).ravel()),(np.asarray(x_val),np.asarray(y_val).ravel())],eval_names=['valid','train'],early_stopping_rounds=30,eval_metric='auc',verbose=0)\n",
        "    pred_y = model.predict_proba(np.asarray(x_val))[:,1]\n",
        "    oofs[test_index] = pred_y\n",
        "    print(i, \" err_lgm: \", roc_auc_score(y_val,pred_y))\n",
        "    err.append(roc_auc_score(y_val,pred_y))\n",
        "    preds+= model.predict_proba(X_val)[:,1]\n",
        "    i = i + 1\n",
        "preds=preds/Folds\n",
        "    \n",
        "print(f\"Average StratifiedKFold Score : {sum(err)/Folds} \")\n",
        "oof_score = roc_auc_score(y, oofs)\n",
        "oofval_score=roc_auc_score(Y_val,preds)\n",
        "print(f'\\nOOF Auc is : {oof_score}')\n",
        "print(f'\\nOOF Validation Auc is : {oofval_score}')\n",
        "    \n",
        "oofs=pd.DataFrame(oofs,columns=['lgbmoof'])\n",
        "preds=pd.DataFrame(preds,columns=['lgbmpred'])  \n"
      ],
      "execution_count": null,
      "outputs": [
        {
          "output_type": "stream",
          "text": [
            "<ipython-input-232-15d5e2347871>:2: SettingWithCopyWarning: \n",
            "A value is trying to be set on a copy of a slice from a DataFrame.\n",
            "Try using .loc[row_indexer,col_indexer] = value instead\n",
            "\n",
            "See the caveats in the documentation: https://pandas.pydata.org/pandas-docs/stable/user_guide/indexing.html#returning-a-view-versus-a-copy\n",
            "  y_train['Response'],Y_val['Response']=y_train['Response'].astype('int64'),Y_val['Response'].astype('int64')\n"
          ],
          "name": "stderr"
        },
        {
          "output_type": "stream",
          "text": [
            "1  err_lgm:  0.7965466136502741\n",
            "2  err_lgm:  0.80457358816377\n",
            "3  err_lgm:  0.7876685792495794\n",
            "4  err_lgm:  0.8093056363440024\n",
            "5  err_lgm:  0.8054381564231412\n",
            "6  err_lgm:  0.8068697714847157\n",
            "7  err_lgm:  0.8118142374293591\n",
            "8  err_lgm:  0.8031768372073804\n",
            "Average StratifiedKFold Score : 0.8031741774940279 \n",
            "\n",
            "OOF Auc is : 0.8031009779714766\n",
            "\n",
            "OOF Validation Auc is : 0.8028424558365562\n"
          ],
          "name": "stdout"
        }
      ]
    },
    {
      "cell_type": "code",
      "metadata": {
        "id": "pZJYnldLPzHi"
      },
      "source": [
        "evals_result=model.evals_result_"
      ],
      "execution_count": null,
      "outputs": []
    },
    {
      "cell_type": "code",
      "metadata": {
        "id": "dbUJ6T9WPzHj"
      },
      "source": [
        "def render_metric(metric_name):\n",
        "    ax = lgb.plot_metric(evals_result, metric=metric_name, figsize=(10, 5))\n",
        "    plt.show()"
      ],
      "execution_count": null,
      "outputs": []
    },
    {
      "cell_type": "code",
      "metadata": {
        "id": "g_Wk2i4fPzHj",
        "outputId": "84da43dc-4268-473a-f13a-7a1030a12d4d",
        "colab": {
          "referenced_widgets": [
            "cb369190648d47be8e0e2947cf475054"
          ]
        }
      },
      "source": [
        "if INTERACTIVE:\n",
        "    # create widget to switch between metrics\n",
        "    interact(render_metric, metric_name=params['metric'])\n",
        "else:\n",
        "    render_metric(params['metric'][0])"
      ],
      "execution_count": null,
      "outputs": [
        {
          "output_type": "display_data",
          "data": {
            "application/vnd.jupyter.widget-view+json": {
              "model_id": "cb369190648d47be8e0e2947cf475054",
              "version_major": 2,
              "version_minor": 0
            },
            "text/plain": [
              "interactive(children=(Dropdown(description='metric_name', options=('auc',), value='auc'), Output()), _dom_clas…"
            ]
          },
          "metadata": {
            "tags": []
          }
        }
      ]
    },
    {
      "cell_type": "code",
      "metadata": {
        "id": "HdsrEPNAPzHl",
        "outputId": "9775f247-f5be-43ad-d286-6a080b025ba1"
      },
      "source": [
        "X_train,X_val,y_train,Y_val=tts(train_data,train_y,test_size=.20,random_state=0)\n",
        "y_train['Response'],Y_val['Response']=y_train['Response'].astype('int64'),Y_val['Response'].astype('int64')"
      ],
      "execution_count": null,
      "outputs": [
        {
          "output_type": "stream",
          "text": [
            "<ipython-input-71-79339f95a4a4>:2: SettingWithCopyWarning: \n",
            "A value is trying to be set on a copy of a slice from a DataFrame.\n",
            "Try using .loc[row_indexer,col_indexer] = value instead\n",
            "\n",
            "See the caveats in the documentation: https://pandas.pydata.org/pandas-docs/stable/user_guide/indexing.html#returning-a-view-versus-a-copy\n",
            "  y_train['Response'],Y_val['Response']=y_train['Response'].astype('int64'),Y_val['Response'].astype('int64')\n"
          ],
          "name": "stderr"
        }
      ]
    },
    {
      "cell_type": "code",
      "metadata": {
        "id": "ieuzJ41PPzHl"
      },
      "source": [
        "params={'num_leaves':7,'max_depth':3,'colsample_bytree':.5,'scale_pos_weight':.65,'boosting_type':'goss','objective':'binary','n_estimators':9999999,'metric':['auc'],'random_state':100}\n"
      ],
      "execution_count": null,
      "outputs": []
    },
    {
      "cell_type": "code",
      "metadata": {
        "id": "de4shHXsPzHm",
        "outputId": "bf6c97b2-826c-4096-9f33-c7e9990764cd"
      },
      "source": [
        "model=LGBMClassifier(**params)\n",
        "model.fit(np.asarray(X_train),np.asarray(y_train).ravel(),eval_set=[(np.asarray(X_train),np.asarray(y_train).ravel()),(np.asarray(X_val),np.asarray(Y_val).ravel())],eval_names=['valid','train'],early_stopping_rounds=30)"
      ],
      "execution_count": null,
      "outputs": [
        {
          "output_type": "stream",
          "text": [
            "[1]\tvalid's auc: 0.731078\ttrain's auc: 0.728424\n",
            "Training until validation scores don't improve for 30 rounds\n",
            "[2]\tvalid's auc: 0.758871\ttrain's auc: 0.756837\n",
            "[3]\tvalid's auc: 0.76905\ttrain's auc: 0.763542\n",
            "[4]\tvalid's auc: 0.770635\ttrain's auc: 0.764146\n",
            "[5]\tvalid's auc: 0.774243\ttrain's auc: 0.768057\n",
            "[6]\tvalid's auc: 0.776256\ttrain's auc: 0.770591\n",
            "[7]\tvalid's auc: 0.776808\ttrain's auc: 0.771765\n",
            "[8]\tvalid's auc: 0.777781\ttrain's auc: 0.773223\n",
            "[9]\tvalid's auc: 0.778409\ttrain's auc: 0.773858\n",
            "[10]\tvalid's auc: 0.77953\ttrain's auc: 0.774768\n",
            "[11]\tvalid's auc: 0.779416\ttrain's auc: 0.774238\n",
            "[12]\tvalid's auc: 0.780219\ttrain's auc: 0.774826\n",
            "[13]\tvalid's auc: 0.780493\ttrain's auc: 0.774553\n",
            "[14]\tvalid's auc: 0.780806\ttrain's auc: 0.775054\n",
            "[15]\tvalid's auc: 0.781772\ttrain's auc: 0.775337\n",
            "[16]\tvalid's auc: 0.782094\ttrain's auc: 0.775479\n",
            "[17]\tvalid's auc: 0.782719\ttrain's auc: 0.776473\n",
            "[18]\tvalid's auc: 0.782891\ttrain's auc: 0.776329\n",
            "[19]\tvalid's auc: 0.78424\ttrain's auc: 0.777566\n",
            "[20]\tvalid's auc: 0.785394\ttrain's auc: 0.778474\n",
            "[21]\tvalid's auc: 0.785702\ttrain's auc: 0.77857\n",
            "[22]\tvalid's auc: 0.786421\ttrain's auc: 0.779861\n",
            "[23]\tvalid's auc: 0.786575\ttrain's auc: 0.780228\n",
            "[24]\tvalid's auc: 0.787186\ttrain's auc: 0.781063\n",
            "[25]\tvalid's auc: 0.788202\ttrain's auc: 0.781403\n",
            "[26]\tvalid's auc: 0.788398\ttrain's auc: 0.781748\n",
            "[27]\tvalid's auc: 0.788909\ttrain's auc: 0.781777\n",
            "[28]\tvalid's auc: 0.789656\ttrain's auc: 0.782179\n",
            "[29]\tvalid's auc: 0.790054\ttrain's auc: 0.782282\n",
            "[30]\tvalid's auc: 0.790188\ttrain's auc: 0.782081\n",
            "[31]\tvalid's auc: 0.790285\ttrain's auc: 0.782102\n",
            "[32]\tvalid's auc: 0.790213\ttrain's auc: 0.7821\n",
            "[33]\tvalid's auc: 0.790504\ttrain's auc: 0.782518\n",
            "[34]\tvalid's auc: 0.791216\ttrain's auc: 0.782747\n",
            "[35]\tvalid's auc: 0.791554\ttrain's auc: 0.782919\n",
            "[36]\tvalid's auc: 0.792045\ttrain's auc: 0.783469\n",
            "[37]\tvalid's auc: 0.792554\ttrain's auc: 0.783897\n",
            "[38]\tvalid's auc: 0.792559\ttrain's auc: 0.783756\n",
            "[39]\tvalid's auc: 0.792976\ttrain's auc: 0.783995\n",
            "[40]\tvalid's auc: 0.793363\ttrain's auc: 0.784362\n",
            "[41]\tvalid's auc: 0.793551\ttrain's auc: 0.784582\n",
            "[42]\tvalid's auc: 0.793898\ttrain's auc: 0.78477\n",
            "[43]\tvalid's auc: 0.794039\ttrain's auc: 0.784801\n",
            "[44]\tvalid's auc: 0.794476\ttrain's auc: 0.785263\n",
            "[45]\tvalid's auc: 0.794955\ttrain's auc: 0.785473\n",
            "[46]\tvalid's auc: 0.795142\ttrain's auc: 0.78569\n",
            "[47]\tvalid's auc: 0.795407\ttrain's auc: 0.785962\n",
            "[48]\tvalid's auc: 0.795635\ttrain's auc: 0.78578\n",
            "[49]\tvalid's auc: 0.795966\ttrain's auc: 0.785625\n",
            "[50]\tvalid's auc: 0.796389\ttrain's auc: 0.786201\n",
            "[51]\tvalid's auc: 0.796617\ttrain's auc: 0.786418\n",
            "[52]\tvalid's auc: 0.796797\ttrain's auc: 0.786351\n",
            "[53]\tvalid's auc: 0.797003\ttrain's auc: 0.786368\n",
            "[54]\tvalid's auc: 0.797494\ttrain's auc: 0.786903\n",
            "[55]\tvalid's auc: 0.797686\ttrain's auc: 0.786993\n",
            "[56]\tvalid's auc: 0.797908\ttrain's auc: 0.787164\n",
            "[57]\tvalid's auc: 0.798162\ttrain's auc: 0.787249\n",
            "[58]\tvalid's auc: 0.798645\ttrain's auc: 0.787793\n",
            "[59]\tvalid's auc: 0.798875\ttrain's auc: 0.788045\n",
            "[60]\tvalid's auc: 0.799136\ttrain's auc: 0.788381\n",
            "[61]\tvalid's auc: 0.799517\ttrain's auc: 0.788706\n",
            "[62]\tvalid's auc: 0.7997\ttrain's auc: 0.78884\n",
            "[63]\tvalid's auc: 0.799894\ttrain's auc: 0.789214\n",
            "[64]\tvalid's auc: 0.80008\ttrain's auc: 0.789292\n",
            "[65]\tvalid's auc: 0.800251\ttrain's auc: 0.789399\n",
            "[66]\tvalid's auc: 0.800643\ttrain's auc: 0.789819\n",
            "[67]\tvalid's auc: 0.800844\ttrain's auc: 0.78978\n",
            "[68]\tvalid's auc: 0.800875\ttrain's auc: 0.789589\n",
            "[69]\tvalid's auc: 0.800989\ttrain's auc: 0.789698\n",
            "[70]\tvalid's auc: 0.801138\ttrain's auc: 0.789767\n",
            "[71]\tvalid's auc: 0.801143\ttrain's auc: 0.789735\n",
            "[72]\tvalid's auc: 0.801572\ttrain's auc: 0.790162\n",
            "[73]\tvalid's auc: 0.801796\ttrain's auc: 0.790131\n",
            "[74]\tvalid's auc: 0.802016\ttrain's auc: 0.790154\n",
            "[75]\tvalid's auc: 0.802209\ttrain's auc: 0.790069\n",
            "[76]\tvalid's auc: 0.802464\ttrain's auc: 0.790074\n",
            "[77]\tvalid's auc: 0.802587\ttrain's auc: 0.790339\n",
            "[78]\tvalid's auc: 0.802804\ttrain's auc: 0.79057\n",
            "[79]\tvalid's auc: 0.802957\ttrain's auc: 0.790297\n",
            "[80]\tvalid's auc: 0.803085\ttrain's auc: 0.790634\n",
            "[81]\tvalid's auc: 0.803273\ttrain's auc: 0.790513\n",
            "[82]\tvalid's auc: 0.80355\ttrain's auc: 0.790817\n",
            "[83]\tvalid's auc: 0.803668\ttrain's auc: 0.790874\n",
            "[84]\tvalid's auc: 0.803965\ttrain's auc: 0.790993\n",
            "[85]\tvalid's auc: 0.80414\ttrain's auc: 0.790956\n",
            "[86]\tvalid's auc: 0.804581\ttrain's auc: 0.791097\n",
            "[87]\tvalid's auc: 0.804724\ttrain's auc: 0.791182\n",
            "[88]\tvalid's auc: 0.804792\ttrain's auc: 0.791187\n",
            "[89]\tvalid's auc: 0.804996\ttrain's auc: 0.791159\n",
            "[90]\tvalid's auc: 0.805083\ttrain's auc: 0.791225\n",
            "[91]\tvalid's auc: 0.805282\ttrain's auc: 0.791402\n",
            "[92]\tvalid's auc: 0.805516\ttrain's auc: 0.791664\n",
            "[93]\tvalid's auc: 0.805707\ttrain's auc: 0.791582\n",
            "[94]\tvalid's auc: 0.805856\ttrain's auc: 0.791663\n",
            "[95]\tvalid's auc: 0.806019\ttrain's auc: 0.791788\n",
            "[96]\tvalid's auc: 0.806106\ttrain's auc: 0.791781\n",
            "[97]\tvalid's auc: 0.806305\ttrain's auc: 0.791965\n",
            "[98]\tvalid's auc: 0.806445\ttrain's auc: 0.792115\n",
            "[99]\tvalid's auc: 0.806592\ttrain's auc: 0.792098\n",
            "[100]\tvalid's auc: 0.806767\ttrain's auc: 0.791967\n",
            "[101]\tvalid's auc: 0.806839\ttrain's auc: 0.792026\n",
            "[102]\tvalid's auc: 0.806951\ttrain's auc: 0.792222\n",
            "[103]\tvalid's auc: 0.806927\ttrain's auc: 0.792236\n",
            "[104]\tvalid's auc: 0.806996\ttrain's auc: 0.792156\n",
            "[105]\tvalid's auc: 0.807118\ttrain's auc: 0.792218\n",
            "[106]\tvalid's auc: 0.807532\ttrain's auc: 0.792347\n",
            "[107]\tvalid's auc: 0.807726\ttrain's auc: 0.792652\n",
            "[108]\tvalid's auc: 0.807821\ttrain's auc: 0.792909\n",
            "[109]\tvalid's auc: 0.807927\ttrain's auc: 0.793003\n",
            "[110]\tvalid's auc: 0.808006\ttrain's auc: 0.792896\n",
            "[111]\tvalid's auc: 0.808067\ttrain's auc: 0.792848\n",
            "[112]\tvalid's auc: 0.808211\ttrain's auc: 0.792813\n",
            "[113]\tvalid's auc: 0.808447\ttrain's auc: 0.793146\n",
            "[114]\tvalid's auc: 0.808784\ttrain's auc: 0.793492\n",
            "[115]\tvalid's auc: 0.80894\ttrain's auc: 0.793585\n",
            "[116]\tvalid's auc: 0.809053\ttrain's auc: 0.793485\n",
            "[117]\tvalid's auc: 0.809223\ttrain's auc: 0.793774\n",
            "[118]\tvalid's auc: 0.809435\ttrain's auc: 0.793809\n",
            "[119]\tvalid's auc: 0.809556\ttrain's auc: 0.793913\n",
            "[120]\tvalid's auc: 0.809583\ttrain's auc: 0.793762\n",
            "[121]\tvalid's auc: 0.809771\ttrain's auc: 0.793867\n",
            "[122]\tvalid's auc: 0.809955\ttrain's auc: 0.793905\n",
            "[123]\tvalid's auc: 0.810019\ttrain's auc: 0.793801\n",
            "[124]\tvalid's auc: 0.810095\ttrain's auc: 0.793859\n",
            "[125]\tvalid's auc: 0.81021\ttrain's auc: 0.794152\n",
            "[126]\tvalid's auc: 0.81038\ttrain's auc: 0.794078\n",
            "[127]\tvalid's auc: 0.810429\ttrain's auc: 0.794129\n",
            "[128]\tvalid's auc: 0.810427\ttrain's auc: 0.794052\n",
            "[129]\tvalid's auc: 0.810522\ttrain's auc: 0.793916\n",
            "[130]\tvalid's auc: 0.810617\ttrain's auc: 0.794003\n",
            "[131]\tvalid's auc: 0.810971\ttrain's auc: 0.794191\n",
            "[132]\tvalid's auc: 0.811142\ttrain's auc: 0.794235\n",
            "[133]\tvalid's auc: 0.811185\ttrain's auc: 0.794132\n",
            "[134]\tvalid's auc: 0.811352\ttrain's auc: 0.794037\n",
            "[135]\tvalid's auc: 0.811525\ttrain's auc: 0.794023\n",
            "[136]\tvalid's auc: 0.811637\ttrain's auc: 0.794201\n",
            "[137]\tvalid's auc: 0.811698\ttrain's auc: 0.794247\n",
            "[138]\tvalid's auc: 0.811823\ttrain's auc: 0.794273\n",
            "[139]\tvalid's auc: 0.811869\ttrain's auc: 0.794242\n",
            "[140]\tvalid's auc: 0.812024\ttrain's auc: 0.79441\n",
            "[141]\tvalid's auc: 0.812233\ttrain's auc: 0.794591\n",
            "[142]\tvalid's auc: 0.812308\ttrain's auc: 0.794409\n",
            "[143]\tvalid's auc: 0.812338\ttrain's auc: 0.794417\n",
            "[144]\tvalid's auc: 0.812416\ttrain's auc: 0.79446\n",
            "[145]\tvalid's auc: 0.812494\ttrain's auc: 0.794453\n",
            "[146]\tvalid's auc: 0.812651\ttrain's auc: 0.794615\n",
            "[147]\tvalid's auc: 0.812752\ttrain's auc: 0.794611\n",
            "[148]\tvalid's auc: 0.812794\ttrain's auc: 0.794764\n",
            "[149]\tvalid's auc: 0.812943\ttrain's auc: 0.794764\n",
            "[150]\tvalid's auc: 0.813003\ttrain's auc: 0.794837\n",
            "[151]\tvalid's auc: 0.813047\ttrain's auc: 0.794881\n",
            "[152]\tvalid's auc: 0.813119\ttrain's auc: 0.794958\n",
            "[153]\tvalid's auc: 0.813101\ttrain's auc: 0.794906\n",
            "[154]\tvalid's auc: 0.813094\ttrain's auc: 0.794853\n",
            "[155]\tvalid's auc: 0.813093\ttrain's auc: 0.794891\n",
            "[156]\tvalid's auc: 0.81319\ttrain's auc: 0.794829\n",
            "[157]\tvalid's auc: 0.813229\ttrain's auc: 0.794842\n",
            "[158]\tvalid's auc: 0.813213\ttrain's auc: 0.794747\n",
            "[159]\tvalid's auc: 0.813299\ttrain's auc: 0.794589\n",
            "[160]\tvalid's auc: 0.81336\ttrain's auc: 0.794729\n",
            "[161]\tvalid's auc: 0.813464\ttrain's auc: 0.794664\n",
            "[162]\tvalid's auc: 0.813564\ttrain's auc: 0.794575\n",
            "[163]\tvalid's auc: 0.813672\ttrain's auc: 0.794823\n",
            "[164]\tvalid's auc: 0.813761\ttrain's auc: 0.794809\n",
            "[165]\tvalid's auc: 0.813914\ttrain's auc: 0.79482\n",
            "[166]\tvalid's auc: 0.813966\ttrain's auc: 0.794908\n",
            "[167]\tvalid's auc: 0.814002\ttrain's auc: 0.795018\n",
            "[168]\tvalid's auc: 0.814024\ttrain's auc: 0.794969\n",
            "[169]\tvalid's auc: 0.814049\ttrain's auc: 0.79486\n",
            "[170]\tvalid's auc: 0.814142\ttrain's auc: 0.794892\n",
            "[171]\tvalid's auc: 0.814179\ttrain's auc: 0.794832\n",
            "[172]\tvalid's auc: 0.814241\ttrain's auc: 0.794776\n",
            "[173]\tvalid's auc: 0.814363\ttrain's auc: 0.794876\n",
            "[174]\tvalid's auc: 0.814533\ttrain's auc: 0.794957\n",
            "[175]\tvalid's auc: 0.814688\ttrain's auc: 0.795126\n",
            "[176]\tvalid's auc: 0.814695\ttrain's auc: 0.795049\n",
            "[177]\tvalid's auc: 0.814895\ttrain's auc: 0.795059\n",
            "[178]\tvalid's auc: 0.814985\ttrain's auc: 0.795111\n",
            "[179]\tvalid's auc: 0.815103\ttrain's auc: 0.795163\n",
            "[180]\tvalid's auc: 0.815192\ttrain's auc: 0.795123\n"
          ],
          "name": "stdout"
        },
        {
          "output_type": "stream",
          "text": [
            "[181]\tvalid's auc: 0.81533\ttrain's auc: 0.795221\n",
            "[182]\tvalid's auc: 0.815359\ttrain's auc: 0.795371\n",
            "[183]\tvalid's auc: 0.815453\ttrain's auc: 0.795411\n",
            "[184]\tvalid's auc: 0.815451\ttrain's auc: 0.795316\n",
            "[185]\tvalid's auc: 0.815445\ttrain's auc: 0.795311\n",
            "[186]\tvalid's auc: 0.815501\ttrain's auc: 0.795303\n",
            "[187]\tvalid's auc: 0.815546\ttrain's auc: 0.795322\n",
            "[188]\tvalid's auc: 0.815783\ttrain's auc: 0.795593\n",
            "[189]\tvalid's auc: 0.815815\ttrain's auc: 0.795559\n",
            "[190]\tvalid's auc: 0.815948\ttrain's auc: 0.795499\n",
            "[191]\tvalid's auc: 0.815894\ttrain's auc: 0.795171\n",
            "[192]\tvalid's auc: 0.81607\ttrain's auc: 0.795192\n",
            "[193]\tvalid's auc: 0.816142\ttrain's auc: 0.795293\n",
            "[194]\tvalid's auc: 0.816199\ttrain's auc: 0.795338\n",
            "[195]\tvalid's auc: 0.816157\ttrain's auc: 0.795088\n",
            "[196]\tvalid's auc: 0.816276\ttrain's auc: 0.794924\n",
            "[197]\tvalid's auc: 0.816411\ttrain's auc: 0.79492\n",
            "[198]\tvalid's auc: 0.816525\ttrain's auc: 0.795097\n",
            "[199]\tvalid's auc: 0.816647\ttrain's auc: 0.795111\n",
            "[200]\tvalid's auc: 0.816749\ttrain's auc: 0.795049\n",
            "[201]\tvalid's auc: 0.816794\ttrain's auc: 0.794953\n",
            "[202]\tvalid's auc: 0.816838\ttrain's auc: 0.794931\n",
            "[203]\tvalid's auc: 0.816961\ttrain's auc: 0.7947\n",
            "[204]\tvalid's auc: 0.816993\ttrain's auc: 0.794875\n",
            "[205]\tvalid's auc: 0.817157\ttrain's auc: 0.795137\n",
            "[206]\tvalid's auc: 0.817227\ttrain's auc: 0.795095\n",
            "[207]\tvalid's auc: 0.817563\ttrain's auc: 0.79529\n",
            "[208]\tvalid's auc: 0.817643\ttrain's auc: 0.795176\n",
            "[209]\tvalid's auc: 0.817615\ttrain's auc: 0.795245\n",
            "[210]\tvalid's auc: 0.817733\ttrain's auc: 0.795282\n",
            "[211]\tvalid's auc: 0.817856\ttrain's auc: 0.795422\n",
            "[212]\tvalid's auc: 0.817942\ttrain's auc: 0.795327\n",
            "[213]\tvalid's auc: 0.817973\ttrain's auc: 0.795249\n",
            "[214]\tvalid's auc: 0.818039\ttrain's auc: 0.795275\n",
            "[215]\tvalid's auc: 0.818098\ttrain's auc: 0.795176\n",
            "[216]\tvalid's auc: 0.818152\ttrain's auc: 0.795223\n",
            "[217]\tvalid's auc: 0.818191\ttrain's auc: 0.795052\n",
            "[218]\tvalid's auc: 0.818338\ttrain's auc: 0.795099\n",
            "Early stopping, best iteration is:\n",
            "[188]\tvalid's auc: 0.815783\ttrain's auc: 0.795593\n"
          ],
          "name": "stdout"
        },
        {
          "output_type": "execute_result",
          "data": {
            "text/plain": [
              "LGBMClassifier(boosting_type='goss', colsample_bytree=0.5, max_depth=3,\n",
              "               metric=['auc'], n_estimators=9999999, num_leaves=7,\n",
              "               objective='binary', random_state=100, scale_pos_weight=0.65)"
            ]
          },
          "metadata": {
            "tags": []
          },
          "execution_count": 211
        }
      ]
    },
    {
      "cell_type": "code",
      "metadata": {
        "id": "uVVQ4W8BPzHn",
        "outputId": "a4b88fa5-60fa-4b03-880a-123a5e1f6918"
      },
      "source": [
        "num_classes=2\n",
        "y_train.shape[0]/(num_classes*np.bincount(y_train.Response))"
      ],
      "execution_count": null,
      "outputs": [
        {
          "output_type": "execute_result",
          "data": {
            "text/plain": [
              "array([0.65621473, 2.1003612 ])"
            ]
          },
          "metadata": {
            "tags": []
          },
          "execution_count": 208
        }
      ]
    },
    {
      "cell_type": "code",
      "metadata": {
        "id": "u1iTXFfpPzHn",
        "outputId": "9abaa465-8279-40e0-f0b4-bebf1b23719b",
        "colab": {
          "referenced_widgets": [
            "0f778859bf7a4e7fa5a748cfa85733f1"
          ]
        }
      },
      "source": [
        "evals_result=model.evals_result_\n",
        "def render_metric(metric_name):\n",
        "    ax = lgb.plot_metric(evals_result, metric=metric_name, figsize=(10, 5))\n",
        "    plt.show()\n",
        "    \n",
        "if INTERACTIVE:\n",
        "    # create widget to switch between metrics\n",
        "    interact(render_metric, metric_name=params['metric'])\n",
        "else:\n",
        "    render_metric(params['metric'][0])"
      ],
      "execution_count": null,
      "outputs": [
        {
          "output_type": "display_data",
          "data": {
            "application/vnd.jupyter.widget-view+json": {
              "model_id": "0f778859bf7a4e7fa5a748cfa85733f1",
              "version_major": 2,
              "version_minor": 0
            },
            "text/plain": [
              "interactive(children=(Dropdown(description='metric_name', options=('auc',), value='auc'), Output()), _dom_clas…"
            ]
          },
          "metadata": {
            "tags": []
          }
        }
      ]
    },
    {
      "cell_type": "code",
      "metadata": {
        "id": "pj--cGwJPzHn"
      },
      "source": [
        ""
      ],
      "execution_count": null,
      "outputs": []
    }
  ]
}